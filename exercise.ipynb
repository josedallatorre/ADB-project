{
 "cells": [
  {
   "cell_type": "code",
   "execution_count": 2,
   "metadata": {},
   "outputs": [
    {
     "name": "stdout",
     "output_type": "stream",
     "text": [
      "Note: you may need to restart the kernel to use updated packages.\n",
      "Requirement already satisfied: pip in c:\\users\\jaabi\\documents\\ulisboa\\adv_databases\\venv\\lib\\site-packages (24.3.1)\n"
     ]
    }
   ],
   "source": [
    "### Run once in the new env\n",
    "%pip install -r requirements.txt -q\n",
    "!python -m pip install --upgrade pip"
   ]
  },
  {
   "cell_type": "markdown",
   "metadata": {},
   "source": [
    "#### Initialization"
   ]
  },
  {
   "cell_type": "code",
   "execution_count": 1,
   "metadata": {},
   "outputs": [],
   "source": [
    "## libraries \n",
    "from sqlalchemy import create_engine, text\n",
    "import matplotlib.pyplot as plt\n",
    "from pymongo import MongoClient\n",
    "from time import time \n",
    "import seaborn as sns\n",
    "import pandas as pd \n",
    "import dotenv\n",
    "import json \n",
    "import os \n",
    "\n",
    "plt.style.use('dark_background')"
   ]
  },
  {
   "cell_type": "code",
   "execution_count": 2,
   "metadata": {},
   "outputs": [],
   "source": [
    "## database initialization\n",
    "dotenv.load_dotenv()\n",
    "\n",
    "\n",
    "MYSQL_CONFIG = {\n",
    "    'username': os.environ['mysql_username'],\n",
    "    'password': os.environ['mysql_password'],\n",
    "    'host'    : os.environ['mysql_hostname'],\n",
    "}\n",
    "\n",
    "MONGO_DB_CONFIG = {\n",
    "    'username': os.environ['mongo_username'],\n",
    "    'password': os.environ['mongo_password'],\n",
    "    'hostname' : os.environ['mongo_hostname'],\n",
    "    'appName' : os.environ['mongo_appName'],\n",
    "    'port'    : os.environ['mongo_port']\n",
    "}\n",
    "\n",
    "DB_NAME = 'project_test'"
   ]
  },
  {
   "cell_type": "code",
   "execution_count": 4,
   "metadata": {},
   "outputs": [],
   "source": [
    "def reset_sqlite_database(engine, dbname : str):\n",
    "    with engine.connect() as connection:\n",
    "        connection.execute(text(f\"DROP DATABASE IF EXISTS {dbname}\"))\n",
    "        connection.execute(text(f\"CREATE DATABASE {dbname}\"))\n",
    "    print(f'Recreated the database : [{dbname}]')"
   ]
  },
  {
   "cell_type": "code",
   "execution_count": 5,
   "metadata": {},
   "outputs": [
    {
     "name": "stdout",
     "output_type": "stream",
     "text": [
      "Recreated the database : [project_test]\n"
     ]
    }
   ],
   "source": [
    "db_url = f\"mysql+mysqlconnector://{MYSQL_CONFIG['username']}:{MYSQL_CONFIG['password']}@{MYSQL_CONFIG['host']}:3306\"\n",
    "engine = create_engine(db_url)\n",
    "reset_sqlite_database(engine, dbname = DB_NAME)\n",
    "db_url = f\"mysql+mysqlconnector://{MYSQL_CONFIG['username']}:{MYSQL_CONFIG['password']}@{MYSQL_CONFIG['host']}:3306/{DB_NAME}\"\n",
    "engine = create_engine(db_url)"
   ]
  },
  {
   "cell_type": "code",
   "execution_count": 6,
   "metadata": {},
   "outputs": [],
   "source": [
    "data_folder = 'finance_transaction'\n",
    "transaction_filename = os.path.join(data_folder, 'transactions_data.csv')\n",
    "cards_filename = os.path.join(data_folder, 'cards_data.csv')\n",
    "users_filename = os.path.join(data_folder, 'users_data.csv')\n",
    "\n",
    "n_rows = 1000 # using limited rows due to large number of rows  \n",
    "transaction_df = pd.read_csv(transaction_filename, nrows= n_rows)\n",
    "cards_df = pd.read_csv(cards_filename, nrows= n_rows)\n",
    "users_df = pd.read_csv(users_filename, nrows= n_rows)"
   ]
  },
  {
   "cell_type": "code",
   "execution_count": 7,
   "metadata": {},
   "outputs": [
    {
     "data": {
      "text/html": [
       "<div>\n",
       "<style scoped>\n",
       "    .dataframe tbody tr th:only-of-type {\n",
       "        vertical-align: middle;\n",
       "    }\n",
       "\n",
       "    .dataframe tbody tr th {\n",
       "        vertical-align: top;\n",
       "    }\n",
       "\n",
       "    .dataframe thead th {\n",
       "        text-align: right;\n",
       "    }\n",
       "</style>\n",
       "<table border=\"1\" class=\"dataframe\">\n",
       "  <thead>\n",
       "    <tr style=\"text-align: right;\">\n",
       "      <th></th>\n",
       "      <th>id</th>\n",
       "      <th>date</th>\n",
       "      <th>client_id</th>\n",
       "      <th>card_id</th>\n",
       "      <th>amount</th>\n",
       "      <th>use_chip</th>\n",
       "      <th>merchant_id</th>\n",
       "      <th>merchant_city</th>\n",
       "      <th>merchant_state</th>\n",
       "      <th>zip</th>\n",
       "      <th>mcc</th>\n",
       "      <th>errors</th>\n",
       "    </tr>\n",
       "  </thead>\n",
       "  <tbody>\n",
       "    <tr>\n",
       "      <th>0</th>\n",
       "      <td>7475327</td>\n",
       "      <td>2010-01-01 00:01:00</td>\n",
       "      <td>1556</td>\n",
       "      <td>2972</td>\n",
       "      <td>$-77.00</td>\n",
       "      <td>Swipe Transaction</td>\n",
       "      <td>59935</td>\n",
       "      <td>Beulah</td>\n",
       "      <td>ND</td>\n",
       "      <td>58523.0</td>\n",
       "      <td>5499</td>\n",
       "      <td>NaN</td>\n",
       "    </tr>\n",
       "    <tr>\n",
       "      <th>1</th>\n",
       "      <td>7475328</td>\n",
       "      <td>2010-01-01 00:02:00</td>\n",
       "      <td>561</td>\n",
       "      <td>4575</td>\n",
       "      <td>$14.57</td>\n",
       "      <td>Swipe Transaction</td>\n",
       "      <td>67570</td>\n",
       "      <td>Bettendorf</td>\n",
       "      <td>IA</td>\n",
       "      <td>52722.0</td>\n",
       "      <td>5311</td>\n",
       "      <td>NaN</td>\n",
       "    </tr>\n",
       "    <tr>\n",
       "      <th>2</th>\n",
       "      <td>7475329</td>\n",
       "      <td>2010-01-01 00:02:00</td>\n",
       "      <td>1129</td>\n",
       "      <td>102</td>\n",
       "      <td>$80.00</td>\n",
       "      <td>Swipe Transaction</td>\n",
       "      <td>27092</td>\n",
       "      <td>Vista</td>\n",
       "      <td>CA</td>\n",
       "      <td>92084.0</td>\n",
       "      <td>4829</td>\n",
       "      <td>NaN</td>\n",
       "    </tr>\n",
       "    <tr>\n",
       "      <th>3</th>\n",
       "      <td>7475331</td>\n",
       "      <td>2010-01-01 00:05:00</td>\n",
       "      <td>430</td>\n",
       "      <td>2860</td>\n",
       "      <td>$200.00</td>\n",
       "      <td>Swipe Transaction</td>\n",
       "      <td>27092</td>\n",
       "      <td>Crown Point</td>\n",
       "      <td>IN</td>\n",
       "      <td>46307.0</td>\n",
       "      <td>4829</td>\n",
       "      <td>NaN</td>\n",
       "    </tr>\n",
       "    <tr>\n",
       "      <th>4</th>\n",
       "      <td>7475332</td>\n",
       "      <td>2010-01-01 00:06:00</td>\n",
       "      <td>848</td>\n",
       "      <td>3915</td>\n",
       "      <td>$46.41</td>\n",
       "      <td>Swipe Transaction</td>\n",
       "      <td>13051</td>\n",
       "      <td>Harwood</td>\n",
       "      <td>MD</td>\n",
       "      <td>20776.0</td>\n",
       "      <td>5813</td>\n",
       "      <td>NaN</td>\n",
       "    </tr>\n",
       "  </tbody>\n",
       "</table>\n",
       "</div>"
      ],
      "text/plain": [
       "        id                 date  client_id  card_id   amount  \\\n",
       "0  7475327  2010-01-01 00:01:00       1556     2972  $-77.00   \n",
       "1  7475328  2010-01-01 00:02:00        561     4575   $14.57   \n",
       "2  7475329  2010-01-01 00:02:00       1129      102   $80.00   \n",
       "3  7475331  2010-01-01 00:05:00        430     2860  $200.00   \n",
       "4  7475332  2010-01-01 00:06:00        848     3915   $46.41   \n",
       "\n",
       "            use_chip  merchant_id merchant_city merchant_state      zip   mcc  \\\n",
       "0  Swipe Transaction        59935        Beulah             ND  58523.0  5499   \n",
       "1  Swipe Transaction        67570    Bettendorf             IA  52722.0  5311   \n",
       "2  Swipe Transaction        27092         Vista             CA  92084.0  4829   \n",
       "3  Swipe Transaction        27092   Crown Point             IN  46307.0  4829   \n",
       "4  Swipe Transaction        13051       Harwood             MD  20776.0  5813   \n",
       "\n",
       "  errors  \n",
       "0    NaN  \n",
       "1    NaN  \n",
       "2    NaN  \n",
       "3    NaN  \n",
       "4    NaN  "
      ]
     },
     "execution_count": 7,
     "metadata": {},
     "output_type": "execute_result"
    }
   ],
   "source": [
    "transaction_df.head()"
   ]
  },
  {
   "cell_type": "code",
   "execution_count": 8,
   "metadata": {},
   "outputs": [
    {
     "data": {
      "text/html": [
       "<div>\n",
       "<style scoped>\n",
       "    .dataframe tbody tr th:only-of-type {\n",
       "        vertical-align: middle;\n",
       "    }\n",
       "\n",
       "    .dataframe tbody tr th {\n",
       "        vertical-align: top;\n",
       "    }\n",
       "\n",
       "    .dataframe thead th {\n",
       "        text-align: right;\n",
       "    }\n",
       "</style>\n",
       "<table border=\"1\" class=\"dataframe\">\n",
       "  <thead>\n",
       "    <tr style=\"text-align: right;\">\n",
       "      <th></th>\n",
       "      <th>id</th>\n",
       "      <th>client_id</th>\n",
       "      <th>card_brand</th>\n",
       "      <th>card_type</th>\n",
       "      <th>card_number</th>\n",
       "      <th>expires</th>\n",
       "      <th>cvv</th>\n",
       "      <th>has_chip</th>\n",
       "      <th>num_cards_issued</th>\n",
       "      <th>credit_limit</th>\n",
       "      <th>acct_open_date</th>\n",
       "      <th>year_pin_last_changed</th>\n",
       "      <th>card_on_dark_web</th>\n",
       "    </tr>\n",
       "  </thead>\n",
       "  <tbody>\n",
       "    <tr>\n",
       "      <th>0</th>\n",
       "      <td>4524</td>\n",
       "      <td>825</td>\n",
       "      <td>Visa</td>\n",
       "      <td>Debit</td>\n",
       "      <td>4344676511950444</td>\n",
       "      <td>12/2022</td>\n",
       "      <td>623</td>\n",
       "      <td>YES</td>\n",
       "      <td>2</td>\n",
       "      <td>$24295</td>\n",
       "      <td>09/2002</td>\n",
       "      <td>2008</td>\n",
       "      <td>No</td>\n",
       "    </tr>\n",
       "    <tr>\n",
       "      <th>1</th>\n",
       "      <td>2731</td>\n",
       "      <td>825</td>\n",
       "      <td>Visa</td>\n",
       "      <td>Debit</td>\n",
       "      <td>4956965974959986</td>\n",
       "      <td>12/2020</td>\n",
       "      <td>393</td>\n",
       "      <td>YES</td>\n",
       "      <td>2</td>\n",
       "      <td>$21968</td>\n",
       "      <td>04/2014</td>\n",
       "      <td>2014</td>\n",
       "      <td>No</td>\n",
       "    </tr>\n",
       "    <tr>\n",
       "      <th>2</th>\n",
       "      <td>3701</td>\n",
       "      <td>825</td>\n",
       "      <td>Visa</td>\n",
       "      <td>Debit</td>\n",
       "      <td>4582313478255491</td>\n",
       "      <td>02/2024</td>\n",
       "      <td>719</td>\n",
       "      <td>YES</td>\n",
       "      <td>2</td>\n",
       "      <td>$46414</td>\n",
       "      <td>07/2003</td>\n",
       "      <td>2004</td>\n",
       "      <td>No</td>\n",
       "    </tr>\n",
       "    <tr>\n",
       "      <th>3</th>\n",
       "      <td>42</td>\n",
       "      <td>825</td>\n",
       "      <td>Visa</td>\n",
       "      <td>Credit</td>\n",
       "      <td>4879494103069057</td>\n",
       "      <td>08/2024</td>\n",
       "      <td>693</td>\n",
       "      <td>NO</td>\n",
       "      <td>1</td>\n",
       "      <td>$12400</td>\n",
       "      <td>01/2003</td>\n",
       "      <td>2012</td>\n",
       "      <td>No</td>\n",
       "    </tr>\n",
       "    <tr>\n",
       "      <th>4</th>\n",
       "      <td>4659</td>\n",
       "      <td>825</td>\n",
       "      <td>Mastercard</td>\n",
       "      <td>Debit (Prepaid)</td>\n",
       "      <td>5722874738736011</td>\n",
       "      <td>03/2009</td>\n",
       "      <td>75</td>\n",
       "      <td>YES</td>\n",
       "      <td>1</td>\n",
       "      <td>$28</td>\n",
       "      <td>09/2008</td>\n",
       "      <td>2009</td>\n",
       "      <td>No</td>\n",
       "    </tr>\n",
       "  </tbody>\n",
       "</table>\n",
       "</div>"
      ],
      "text/plain": [
       "     id  client_id  card_brand        card_type       card_number  expires  \\\n",
       "0  4524        825        Visa            Debit  4344676511950444  12/2022   \n",
       "1  2731        825        Visa            Debit  4956965974959986  12/2020   \n",
       "2  3701        825        Visa            Debit  4582313478255491  02/2024   \n",
       "3    42        825        Visa           Credit  4879494103069057  08/2024   \n",
       "4  4659        825  Mastercard  Debit (Prepaid)  5722874738736011  03/2009   \n",
       "\n",
       "   cvv has_chip  num_cards_issued credit_limit acct_open_date  \\\n",
       "0  623      YES                 2       $24295        09/2002   \n",
       "1  393      YES                 2       $21968        04/2014   \n",
       "2  719      YES                 2       $46414        07/2003   \n",
       "3  693       NO                 1       $12400        01/2003   \n",
       "4   75      YES                 1          $28        09/2008   \n",
       "\n",
       "   year_pin_last_changed card_on_dark_web  \n",
       "0                   2008               No  \n",
       "1                   2014               No  \n",
       "2                   2004               No  \n",
       "3                   2012               No  \n",
       "4                   2009               No  "
      ]
     },
     "execution_count": 8,
     "metadata": {},
     "output_type": "execute_result"
    }
   ],
   "source": [
    "cards_df.head()"
   ]
  },
  {
   "cell_type": "code",
   "execution_count": 9,
   "metadata": {},
   "outputs": [
    {
     "data": {
      "text/html": [
       "<div>\n",
       "<style scoped>\n",
       "    .dataframe tbody tr th:only-of-type {\n",
       "        vertical-align: middle;\n",
       "    }\n",
       "\n",
       "    .dataframe tbody tr th {\n",
       "        vertical-align: top;\n",
       "    }\n",
       "\n",
       "    .dataframe thead th {\n",
       "        text-align: right;\n",
       "    }\n",
       "</style>\n",
       "<table border=\"1\" class=\"dataframe\">\n",
       "  <thead>\n",
       "    <tr style=\"text-align: right;\">\n",
       "      <th></th>\n",
       "      <th>id</th>\n",
       "      <th>current_age</th>\n",
       "      <th>retirement_age</th>\n",
       "      <th>birth_year</th>\n",
       "      <th>birth_month</th>\n",
       "      <th>gender</th>\n",
       "      <th>address</th>\n",
       "      <th>latitude</th>\n",
       "      <th>longitude</th>\n",
       "      <th>per_capita_income</th>\n",
       "      <th>yearly_income</th>\n",
       "      <th>total_debt</th>\n",
       "      <th>credit_score</th>\n",
       "      <th>num_credit_cards</th>\n",
       "    </tr>\n",
       "  </thead>\n",
       "  <tbody>\n",
       "    <tr>\n",
       "      <th>0</th>\n",
       "      <td>825</td>\n",
       "      <td>53</td>\n",
       "      <td>66</td>\n",
       "      <td>1966</td>\n",
       "      <td>11</td>\n",
       "      <td>Female</td>\n",
       "      <td>462 Rose Lane</td>\n",
       "      <td>34.15</td>\n",
       "      <td>-117.76</td>\n",
       "      <td>$29278</td>\n",
       "      <td>$59696</td>\n",
       "      <td>$127613</td>\n",
       "      <td>787</td>\n",
       "      <td>5</td>\n",
       "    </tr>\n",
       "    <tr>\n",
       "      <th>1</th>\n",
       "      <td>1746</td>\n",
       "      <td>53</td>\n",
       "      <td>68</td>\n",
       "      <td>1966</td>\n",
       "      <td>12</td>\n",
       "      <td>Female</td>\n",
       "      <td>3606 Federal Boulevard</td>\n",
       "      <td>40.76</td>\n",
       "      <td>-73.74</td>\n",
       "      <td>$37891</td>\n",
       "      <td>$77254</td>\n",
       "      <td>$191349</td>\n",
       "      <td>701</td>\n",
       "      <td>5</td>\n",
       "    </tr>\n",
       "    <tr>\n",
       "      <th>2</th>\n",
       "      <td>1718</td>\n",
       "      <td>81</td>\n",
       "      <td>67</td>\n",
       "      <td>1938</td>\n",
       "      <td>11</td>\n",
       "      <td>Female</td>\n",
       "      <td>766 Third Drive</td>\n",
       "      <td>34.02</td>\n",
       "      <td>-117.89</td>\n",
       "      <td>$22681</td>\n",
       "      <td>$33483</td>\n",
       "      <td>$196</td>\n",
       "      <td>698</td>\n",
       "      <td>5</td>\n",
       "    </tr>\n",
       "    <tr>\n",
       "      <th>3</th>\n",
       "      <td>708</td>\n",
       "      <td>63</td>\n",
       "      <td>63</td>\n",
       "      <td>1957</td>\n",
       "      <td>1</td>\n",
       "      <td>Female</td>\n",
       "      <td>3 Madison Street</td>\n",
       "      <td>40.71</td>\n",
       "      <td>-73.99</td>\n",
       "      <td>$163145</td>\n",
       "      <td>$249925</td>\n",
       "      <td>$202328</td>\n",
       "      <td>722</td>\n",
       "      <td>4</td>\n",
       "    </tr>\n",
       "    <tr>\n",
       "      <th>4</th>\n",
       "      <td>1164</td>\n",
       "      <td>43</td>\n",
       "      <td>70</td>\n",
       "      <td>1976</td>\n",
       "      <td>9</td>\n",
       "      <td>Male</td>\n",
       "      <td>9620 Valley Stream Drive</td>\n",
       "      <td>37.76</td>\n",
       "      <td>-122.44</td>\n",
       "      <td>$53797</td>\n",
       "      <td>$109687</td>\n",
       "      <td>$183855</td>\n",
       "      <td>675</td>\n",
       "      <td>1</td>\n",
       "    </tr>\n",
       "  </tbody>\n",
       "</table>\n",
       "</div>"
      ],
      "text/plain": [
       "     id  current_age  retirement_age  birth_year  birth_month  gender  \\\n",
       "0   825           53              66        1966           11  Female   \n",
       "1  1746           53              68        1966           12  Female   \n",
       "2  1718           81              67        1938           11  Female   \n",
       "3   708           63              63        1957            1  Female   \n",
       "4  1164           43              70        1976            9    Male   \n",
       "\n",
       "                    address  latitude  longitude per_capita_income  \\\n",
       "0             462 Rose Lane     34.15    -117.76            $29278   \n",
       "1    3606 Federal Boulevard     40.76     -73.74            $37891   \n",
       "2           766 Third Drive     34.02    -117.89            $22681   \n",
       "3          3 Madison Street     40.71     -73.99           $163145   \n",
       "4  9620 Valley Stream Drive     37.76    -122.44            $53797   \n",
       "\n",
       "  yearly_income total_debt  credit_score  num_credit_cards  \n",
       "0        $59696    $127613           787                 5  \n",
       "1        $77254    $191349           701                 5  \n",
       "2        $33483       $196           698                 5  \n",
       "3       $249925    $202328           722                 4  \n",
       "4       $109687    $183855           675                 1  "
      ]
     },
     "execution_count": 9,
     "metadata": {},
     "output_type": "execute_result"
    }
   ],
   "source": [
    "users_df.head()"
   ]
  },
  {
   "cell_type": "code",
   "execution_count": 10,
   "metadata": {},
   "outputs": [
    {
     "data": {
      "text/html": [
       "<div>\n",
       "<style scoped>\n",
       "    .dataframe tbody tr th:only-of-type {\n",
       "        vertical-align: middle;\n",
       "    }\n",
       "\n",
       "    .dataframe tbody tr th {\n",
       "        vertical-align: top;\n",
       "    }\n",
       "\n",
       "    .dataframe thead th {\n",
       "        text-align: right;\n",
       "    }\n",
       "</style>\n",
       "<table border=\"1\" class=\"dataframe\">\n",
       "  <thead>\n",
       "    <tr style=\"text-align: right;\">\n",
       "      <th></th>\n",
       "      <th>id</th>\n",
       "      <th>current_age</th>\n",
       "      <th>retirement_age</th>\n",
       "      <th>birth_year</th>\n",
       "      <th>birth_month</th>\n",
       "      <th>latitude</th>\n",
       "      <th>longitude</th>\n",
       "      <th>credit_score</th>\n",
       "      <th>num_credit_cards</th>\n",
       "    </tr>\n",
       "  </thead>\n",
       "  <tbody>\n",
       "    <tr>\n",
       "      <th>count</th>\n",
       "      <td>1000.000000</td>\n",
       "      <td>1000.000000</td>\n",
       "      <td>1000.000000</td>\n",
       "      <td>1000.000000</td>\n",
       "      <td>1000.00000</td>\n",
       "      <td>1000.00000</td>\n",
       "      <td>1000.000000</td>\n",
       "      <td>1000.000000</td>\n",
       "      <td>1000.000000</td>\n",
       "    </tr>\n",
       "    <tr>\n",
       "      <th>mean</th>\n",
       "      <td>1010.984000</td>\n",
       "      <td>44.591000</td>\n",
       "      <td>66.309000</td>\n",
       "      <td>1974.595000</td>\n",
       "      <td>6.57200</td>\n",
       "      <td>37.45297</td>\n",
       "      <td>-91.714640</td>\n",
       "      <td>708.131000</td>\n",
       "      <td>3.053000</td>\n",
       "    </tr>\n",
       "    <tr>\n",
       "      <th>std</th>\n",
       "      <td>573.001693</td>\n",
       "      <td>18.151341</td>\n",
       "      <td>3.678185</td>\n",
       "      <td>18.157276</td>\n",
       "      <td>3.58576</td>\n",
       "      <td>5.19272</td>\n",
       "      <td>16.540147</td>\n",
       "      <td>68.063959</td>\n",
       "      <td>1.618274</td>\n",
       "    </tr>\n",
       "    <tr>\n",
       "      <th>min</th>\n",
       "      <td>0.000000</td>\n",
       "      <td>18.000000</td>\n",
       "      <td>50.000000</td>\n",
       "      <td>1918.000000</td>\n",
       "      <td>1.00000</td>\n",
       "      <td>21.30000</td>\n",
       "      <td>-159.410000</td>\n",
       "      <td>488.000000</td>\n",
       "      <td>1.000000</td>\n",
       "    </tr>\n",
       "    <tr>\n",
       "      <th>25%</th>\n",
       "      <td>529.250000</td>\n",
       "      <td>29.000000</td>\n",
       "      <td>65.000000</td>\n",
       "      <td>1962.000000</td>\n",
       "      <td>3.00000</td>\n",
       "      <td>33.91000</td>\n",
       "      <td>-97.632500</td>\n",
       "      <td>676.000000</td>\n",
       "      <td>2.000000</td>\n",
       "    </tr>\n",
       "    <tr>\n",
       "      <th>50%</th>\n",
       "      <td>1016.500000</td>\n",
       "      <td>43.000000</td>\n",
       "      <td>66.000000</td>\n",
       "      <td>1976.000000</td>\n",
       "      <td>7.00000</td>\n",
       "      <td>38.41000</td>\n",
       "      <td>-86.565000</td>\n",
       "      <td>711.000000</td>\n",
       "      <td>3.000000</td>\n",
       "    </tr>\n",
       "    <tr>\n",
       "      <th>75%</th>\n",
       "      <td>1499.750000</td>\n",
       "      <td>57.000000</td>\n",
       "      <td>68.000000</td>\n",
       "      <td>1990.000000</td>\n",
       "      <td>10.00000</td>\n",
       "      <td>41.29000</td>\n",
       "      <td>-80.130000</td>\n",
       "      <td>751.000000</td>\n",
       "      <td>4.000000</td>\n",
       "    </tr>\n",
       "    <tr>\n",
       "      <th>max</th>\n",
       "      <td>1997.000000</td>\n",
       "      <td>101.000000</td>\n",
       "      <td>79.000000</td>\n",
       "      <td>2002.000000</td>\n",
       "      <td>12.00000</td>\n",
       "      <td>61.20000</td>\n",
       "      <td>-68.670000</td>\n",
       "      <td>850.000000</td>\n",
       "      <td>9.000000</td>\n",
       "    </tr>\n",
       "  </tbody>\n",
       "</table>\n",
       "</div>"
      ],
      "text/plain": [
       "                id  current_age  retirement_age   birth_year  birth_month  \\\n",
       "count  1000.000000  1000.000000     1000.000000  1000.000000   1000.00000   \n",
       "mean   1010.984000    44.591000       66.309000  1974.595000      6.57200   \n",
       "std     573.001693    18.151341        3.678185    18.157276      3.58576   \n",
       "min       0.000000    18.000000       50.000000  1918.000000      1.00000   \n",
       "25%     529.250000    29.000000       65.000000  1962.000000      3.00000   \n",
       "50%    1016.500000    43.000000       66.000000  1976.000000      7.00000   \n",
       "75%    1499.750000    57.000000       68.000000  1990.000000     10.00000   \n",
       "max    1997.000000   101.000000       79.000000  2002.000000     12.00000   \n",
       "\n",
       "         latitude    longitude  credit_score  num_credit_cards  \n",
       "count  1000.00000  1000.000000   1000.000000       1000.000000  \n",
       "mean     37.45297   -91.714640    708.131000          3.053000  \n",
       "std       5.19272    16.540147     68.063959          1.618274  \n",
       "min      21.30000  -159.410000    488.000000          1.000000  \n",
       "25%      33.91000   -97.632500    676.000000          2.000000  \n",
       "50%      38.41000   -86.565000    711.000000          3.000000  \n",
       "75%      41.29000   -80.130000    751.000000          4.000000  \n",
       "max      61.20000   -68.670000    850.000000          9.000000  "
      ]
     },
     "execution_count": 10,
     "metadata": {},
     "output_type": "execute_result"
    }
   ],
   "source": [
    "users_df.describe()"
   ]
  },
  {
   "cell_type": "code",
   "execution_count": 11,
   "metadata": {},
   "outputs": [
    {
     "data": {
      "text/html": [
       "<div>\n",
       "<style scoped>\n",
       "    .dataframe tbody tr th:only-of-type {\n",
       "        vertical-align: middle;\n",
       "    }\n",
       "\n",
       "    .dataframe tbody tr th {\n",
       "        vertical-align: top;\n",
       "    }\n",
       "\n",
       "    .dataframe thead th {\n",
       "        text-align: right;\n",
       "    }\n",
       "</style>\n",
       "<table border=\"1\" class=\"dataframe\">\n",
       "  <thead>\n",
       "    <tr style=\"text-align: right;\">\n",
       "      <th></th>\n",
       "      <th>id</th>\n",
       "      <th>client_id</th>\n",
       "      <th>card_number</th>\n",
       "      <th>cvv</th>\n",
       "      <th>num_cards_issued</th>\n",
       "      <th>year_pin_last_changed</th>\n",
       "    </tr>\n",
       "  </thead>\n",
       "  <tbody>\n",
       "    <tr>\n",
       "      <th>count</th>\n",
       "      <td>1000.000000</td>\n",
       "      <td>1000.000000</td>\n",
       "      <td>1.000000e+03</td>\n",
       "      <td>1000.000000</td>\n",
       "      <td>1000.000000</td>\n",
       "      <td>1000.000000</td>\n",
       "    </tr>\n",
       "    <tr>\n",
       "      <th>mean</th>\n",
       "      <td>2983.041000</td>\n",
       "      <td>1047.456000</td>\n",
       "      <td>4.871489e+15</td>\n",
       "      <td>526.081000</td>\n",
       "      <td>1.511000</td>\n",
       "      <td>2013.478000</td>\n",
       "    </tr>\n",
       "    <tr>\n",
       "      <th>std</th>\n",
       "      <td>1812.382743</td>\n",
       "      <td>568.164294</td>\n",
       "      <td>1.235536e+15</td>\n",
       "      <td>284.875163</td>\n",
       "      <td>0.515893</td>\n",
       "      <td>4.339164</td>\n",
       "    </tr>\n",
       "    <tr>\n",
       "      <th>min</th>\n",
       "      <td>4.000000</td>\n",
       "      <td>11.000000</td>\n",
       "      <td>3.007170e+14</td>\n",
       "      <td>2.000000</td>\n",
       "      <td>1.000000</td>\n",
       "      <td>2003.000000</td>\n",
       "    </tr>\n",
       "    <tr>\n",
       "      <th>25%</th>\n",
       "      <td>1464.750000</td>\n",
       "      <td>628.000000</td>\n",
       "      <td>4.506775e+15</td>\n",
       "      <td>286.750000</td>\n",
       "      <td>1.000000</td>\n",
       "      <td>2010.000000</td>\n",
       "    </tr>\n",
       "    <tr>\n",
       "      <th>50%</th>\n",
       "      <td>2940.500000</td>\n",
       "      <td>1027.000000</td>\n",
       "      <td>5.118204e+15</td>\n",
       "      <td>544.500000</td>\n",
       "      <td>2.000000</td>\n",
       "      <td>2012.000000</td>\n",
       "    </tr>\n",
       "    <tr>\n",
       "      <th>75%</th>\n",
       "      <td>4540.500000</td>\n",
       "      <td>1547.000000</td>\n",
       "      <td>5.582174e+15</td>\n",
       "      <td>771.750000</td>\n",
       "      <td>2.000000</td>\n",
       "      <td>2018.000000</td>\n",
       "    </tr>\n",
       "    <tr>\n",
       "      <th>max</th>\n",
       "      <td>6138.000000</td>\n",
       "      <td>1990.000000</td>\n",
       "      <td>6.969946e+15</td>\n",
       "      <td>999.000000</td>\n",
       "      <td>3.000000</td>\n",
       "      <td>2020.000000</td>\n",
       "    </tr>\n",
       "  </tbody>\n",
       "</table>\n",
       "</div>"
      ],
      "text/plain": [
       "                id    client_id   card_number          cvv  num_cards_issued  \\\n",
       "count  1000.000000  1000.000000  1.000000e+03  1000.000000       1000.000000   \n",
       "mean   2983.041000  1047.456000  4.871489e+15   526.081000          1.511000   \n",
       "std    1812.382743   568.164294  1.235536e+15   284.875163          0.515893   \n",
       "min       4.000000    11.000000  3.007170e+14     2.000000          1.000000   \n",
       "25%    1464.750000   628.000000  4.506775e+15   286.750000          1.000000   \n",
       "50%    2940.500000  1027.000000  5.118204e+15   544.500000          2.000000   \n",
       "75%    4540.500000  1547.000000  5.582174e+15   771.750000          2.000000   \n",
       "max    6138.000000  1990.000000  6.969946e+15   999.000000          3.000000   \n",
       "\n",
       "       year_pin_last_changed  \n",
       "count            1000.000000  \n",
       "mean             2013.478000  \n",
       "std                 4.339164  \n",
       "min              2003.000000  \n",
       "25%              2010.000000  \n",
       "50%              2012.000000  \n",
       "75%              2018.000000  \n",
       "max              2020.000000  "
      ]
     },
     "execution_count": 11,
     "metadata": {},
     "output_type": "execute_result"
    }
   ],
   "source": [
    "cards_df.describe()"
   ]
  },
  {
   "cell_type": "code",
   "execution_count": 12,
   "metadata": {},
   "outputs": [
    {
     "data": {
      "text/html": [
       "<div>\n",
       "<style scoped>\n",
       "    .dataframe tbody tr th:only-of-type {\n",
       "        vertical-align: middle;\n",
       "    }\n",
       "\n",
       "    .dataframe tbody tr th {\n",
       "        vertical-align: top;\n",
       "    }\n",
       "\n",
       "    .dataframe thead th {\n",
       "        text-align: right;\n",
       "    }\n",
       "</style>\n",
       "<table border=\"1\" class=\"dataframe\">\n",
       "  <thead>\n",
       "    <tr style=\"text-align: right;\">\n",
       "      <th></th>\n",
       "      <th>id</th>\n",
       "      <th>client_id</th>\n",
       "      <th>card_id</th>\n",
       "      <th>merchant_id</th>\n",
       "      <th>zip</th>\n",
       "      <th>mcc</th>\n",
       "    </tr>\n",
       "  </thead>\n",
       "  <tbody>\n",
       "    <tr>\n",
       "      <th>count</th>\n",
       "      <td>1.000000e+03</td>\n",
       "      <td>1000.000000</td>\n",
       "      <td>1000.00000</td>\n",
       "      <td>1000.000000</td>\n",
       "      <td>864.000000</td>\n",
       "      <td>1000.000000</td>\n",
       "    </tr>\n",
       "    <tr>\n",
       "      <th>mean</th>\n",
       "      <td>7.475914e+06</td>\n",
       "      <td>1026.363000</td>\n",
       "      <td>3363.49200</td>\n",
       "      <td>48107.084000</td>\n",
       "      <td>52386.432870</td>\n",
       "      <td>5561.908000</td>\n",
       "    </tr>\n",
       "    <tr>\n",
       "      <th>std</th>\n",
       "      <td>3.451566e+02</td>\n",
       "      <td>578.756107</td>\n",
       "      <td>1710.01342</td>\n",
       "      <td>25178.136671</td>\n",
       "      <td>29857.319543</td>\n",
       "      <td>763.350245</td>\n",
       "    </tr>\n",
       "    <tr>\n",
       "      <th>min</th>\n",
       "      <td>7.475327e+06</td>\n",
       "      <td>2.000000</td>\n",
       "      <td>0.00000</td>\n",
       "      <td>106.000000</td>\n",
       "      <td>1602.000000</td>\n",
       "      <td>3174.000000</td>\n",
       "    </tr>\n",
       "    <tr>\n",
       "      <th>25%</th>\n",
       "      <td>7.475614e+06</td>\n",
       "      <td>513.250000</td>\n",
       "      <td>2228.00000</td>\n",
       "      <td>27092.000000</td>\n",
       "      <td>28283.250000</td>\n",
       "      <td>5311.000000</td>\n",
       "    </tr>\n",
       "    <tr>\n",
       "      <th>50%</th>\n",
       "      <td>7.475902e+06</td>\n",
       "      <td>1078.000000</td>\n",
       "      <td>3420.00000</td>\n",
       "      <td>46284.000000</td>\n",
       "      <td>49494.500000</td>\n",
       "      <td>5499.000000</td>\n",
       "    </tr>\n",
       "    <tr>\n",
       "      <th>75%</th>\n",
       "      <td>7.476211e+06</td>\n",
       "      <td>1520.500000</td>\n",
       "      <td>4703.25000</td>\n",
       "      <td>65981.500000</td>\n",
       "      <td>78176.500000</td>\n",
       "      <td>5812.000000</td>\n",
       "    </tr>\n",
       "    <tr>\n",
       "      <th>max</th>\n",
       "      <td>7.476515e+06</td>\n",
       "      <td>1998.000000</td>\n",
       "      <td>5990.00000</td>\n",
       "      <td>99695.000000</td>\n",
       "      <td>98528.000000</td>\n",
       "      <td>8099.000000</td>\n",
       "    </tr>\n",
       "  </tbody>\n",
       "</table>\n",
       "</div>"
      ],
      "text/plain": [
       "                 id    client_id     card_id   merchant_id           zip  \\\n",
       "count  1.000000e+03  1000.000000  1000.00000   1000.000000    864.000000   \n",
       "mean   7.475914e+06  1026.363000  3363.49200  48107.084000  52386.432870   \n",
       "std    3.451566e+02   578.756107  1710.01342  25178.136671  29857.319543   \n",
       "min    7.475327e+06     2.000000     0.00000    106.000000   1602.000000   \n",
       "25%    7.475614e+06   513.250000  2228.00000  27092.000000  28283.250000   \n",
       "50%    7.475902e+06  1078.000000  3420.00000  46284.000000  49494.500000   \n",
       "75%    7.476211e+06  1520.500000  4703.25000  65981.500000  78176.500000   \n",
       "max    7.476515e+06  1998.000000  5990.00000  99695.000000  98528.000000   \n",
       "\n",
       "               mcc  \n",
       "count  1000.000000  \n",
       "mean   5561.908000  \n",
       "std     763.350245  \n",
       "min    3174.000000  \n",
       "25%    5311.000000  \n",
       "50%    5499.000000  \n",
       "75%    5812.000000  \n",
       "max    8099.000000  "
      ]
     },
     "execution_count": 12,
     "metadata": {},
     "output_type": "execute_result"
    }
   ],
   "source": [
    "transaction_df.describe()"
   ]
  },
  {
   "cell_type": "code",
   "execution_count": 13,
   "metadata": {},
   "outputs": [],
   "source": [
    "def print_col_names_in_df(columns, title = ''):\n",
    "    print(f' [ {title} ] '.center(80, '='))\n",
    "    print(pd.DataFrame({\n",
    "        'column names' : columns\n",
    "    }).T)\n",
    "    print()"
   ]
  },
  {
   "cell_type": "code",
   "execution_count": 14,
   "metadata": {},
   "outputs": [
    {
     "name": "stdout",
     "output_type": "stream",
     "text": [
      "================================= [ Users DF ] =================================\n",
      "              0            1               2           3            4   \\\n",
      "column names  id  current_age  retirement_age  birth_year  birth_month   \n",
      "\n",
      "                  5        6         7          8                  9   \\\n",
      "column names  gender  address  latitude  longitude  per_capita_income   \n",
      "\n",
      "                         10          11            12                13  \n",
      "column names  yearly_income  total_debt  credit_score  num_credit_cards  \n",
      "\n",
      "================================= [ Cards DF ] =================================\n",
      "              0          1           2          3            4        5    6   \\\n",
      "column names  id  client_id  card_brand  card_type  card_number  expires  cvv   \n",
      "\n",
      "                    7                 8             9               10  \\\n",
      "column names  has_chip  num_cards_issued  credit_limit  acct_open_date   \n",
      "\n",
      "                                 11                12  \n",
      "column names  year_pin_last_changed  card_on_dark_web  \n",
      "\n",
      "============================= [ Transactions DF ] ==============================\n",
      "              0     1          2        3       4         5            6   \\\n",
      "column names  id  date  client_id  card_id  amount  use_chip  merchant_id   \n",
      "\n",
      "                         7               8    9    10      11  \n",
      "column names  merchant_city  merchant_state  zip  mcc  errors  \n",
      "\n"
     ]
    }
   ],
   "source": [
    "# uct = [users_df, cards_df, transaction_df]\n",
    "print_col_names_in_df(users_df.columns, 'Users DF')\n",
    "print_col_names_in_df(cards_df.columns, 'Cards DF')\n",
    "print_col_names_in_df(transaction_df.columns, 'Transactions DF')"
   ]
  },
  {
   "cell_type": "code",
   "execution_count": 15,
   "metadata": {},
   "outputs": [],
   "source": [
    "def null_heatmap(df: pd.DataFrame, title = ''):\n",
    "    nulls = df.isna().sum()\n",
    "    nulls = nulls.to_frame()  \n",
    "    # nulls = nulls.T\n",
    "\n",
    "    sns.heatmap(nulls, annot = True, fmt = 'd', cmap = 'icefire')\n",
    "    plt.title(title)\n",
    "    plt.xticks(ticks=[.5], labels=[f'Total Count : {nulls.values.sum()}'])"
   ]
  },
  {
   "cell_type": "code",
   "execution_count": 17,
   "metadata": {},
   "outputs": [
    {
     "data": {
      "image/png": "[encoded data removed]",
      "text/plain": [
       "<Figure size 2600x500 with 6 Axes>"
      ]
     },
     "metadata": {},
     "output_type": "display_data"
    }
   ],
   "source": [
    "plt.figure(figsize=(26, 5))\n",
    "plt.tight_layout()\n",
    "\n",
    "plt.subplot(1,3, 1)\n",
    "null_heatmap(users_df, \"Null count for User's DF\")\n",
    "plt.subplot(1,3, 2)\n",
    "null_heatmap(cards_df, \"Null count for Cards's DF\")\n",
    "plt.subplot(1,3, 3)\n",
    "null_heatmap(transaction_df, \"Null count for Transaction's DF\")"
   ]
  },
  {
   "cell_type": "code",
   "execution_count": 18,
   "metadata": {},
   "outputs": [
    {
     "name": "stdout",
     "output_type": "stream",
     "text": [
      "<class 'pandas.core.frame.DataFrame'>\n",
      "RangeIndex: 1000 entries, 0 to 999\n",
      "Data columns (total 14 columns):\n",
      " #   Column             Non-Null Count  Dtype  \n",
      "---  ------             --------------  -----  \n",
      " 0   id                 1000 non-null   int64  \n",
      " 1   current_age        1000 non-null   int64  \n",
      " 2   retirement_age     1000 non-null   int64  \n",
      " 3   birth_year         1000 non-null   int64  \n",
      " 4   birth_month        1000 non-null   int64  \n",
      " 5   gender             1000 non-null   object \n",
      " 6   address            1000 non-null   object \n",
      " 7   latitude           1000 non-null   float64\n",
      " 8   longitude          1000 non-null   float64\n",
      " 9   per_capita_income  1000 non-null   object \n",
      " 10  yearly_income      1000 non-null   object \n",
      " 11  total_debt         1000 non-null   object \n",
      " 12  credit_score       1000 non-null   int64  \n",
      " 13  num_credit_cards   1000 non-null   int64  \n",
      "dtypes: float64(2), int64(7), object(5)\n",
      "memory usage: 109.5+ KB\n"
     ]
    }
   ],
   "source": [
    "users_df.info()"
   ]
  },
  {
   "cell_type": "markdown",
   "metadata": {},
   "source": [
    "`per_capita_income` & `yearly_income` & `total_dept` can be usefull during our analysis so we can clean and convert them from object to float64"
   ]
  },
  {
   "cell_type": "code",
   "execution_count": 19,
   "metadata": {},
   "outputs": [
    {
     "name": "stdout",
     "output_type": "stream",
     "text": [
      "<class 'pandas.core.frame.DataFrame'>\n",
      "RangeIndex: 1000 entries, 0 to 999\n",
      "Data columns (total 3 columns):\n",
      " #   Column             Non-Null Count  Dtype  \n",
      "---  ------             --------------  -----  \n",
      " 0   per_capita_income  1000 non-null   float64\n",
      " 1   yearly_income      1000 non-null   float64\n",
      " 2   total_debt         1000 non-null   float64\n",
      "dtypes: float64(3)\n",
      "memory usage: 23.6 KB\n"
     ]
    }
   ],
   "source": [
    "remove_currency = lambda x: float(x.replace('$','').strip())\n",
    "users_df['per_capita_income'] = users_df.per_capita_income.apply(remove_currency)\n",
    "users_df['yearly_income'] = users_df.yearly_income.apply(remove_currency)\n",
    "users_df['total_debt'] = users_df.total_debt.apply(remove_currency)\n",
    "users_df[['per_capita_income', 'yearly_income', 'total_debt']].info()"
   ]
  },
  {
   "cell_type": "code",
   "execution_count": 20,
   "metadata": {},
   "outputs": [
    {
     "name": "stdout",
     "output_type": "stream",
     "text": [
      "<class 'pandas.core.frame.DataFrame'>\n",
      "RangeIndex: 1000 entries, 0 to 999\n",
      "Data columns (total 13 columns):\n",
      " #   Column                 Non-Null Count  Dtype \n",
      "---  ------                 --------------  ----- \n",
      " 0   id                     1000 non-null   int64 \n",
      " 1   client_id              1000 non-null   int64 \n",
      " 2   card_brand             1000 non-null   object\n",
      " 3   card_type              1000 non-null   object\n",
      " 4   card_number            1000 non-null   int64 \n",
      " 5   expires                1000 non-null   object\n",
      " 6   cvv                    1000 non-null   int64 \n",
      " 7   has_chip               1000 non-null   object\n",
      " 8   num_cards_issued       1000 non-null   int64 \n",
      " 9   credit_limit           1000 non-null   object\n",
      " 10  acct_open_date         1000 non-null   object\n",
      " 11  year_pin_last_changed  1000 non-null   int64 \n",
      " 12  card_on_dark_web       1000 non-null   object\n",
      "dtypes: int64(6), object(7)\n",
      "memory usage: 101.7+ KB\n"
     ]
    }
   ],
   "source": [
    "cards_df.info()"
   ]
  },
  {
   "cell_type": "markdown",
   "metadata": {},
   "source": [
    "`credit_limit` can be used for analysis too "
   ]
  },
  {
   "cell_type": "code",
   "execution_count": 21,
   "metadata": {},
   "outputs": [
    {
     "name": "stdout",
     "output_type": "stream",
     "text": [
      "<class 'pandas.core.frame.DataFrame'>\n",
      "RangeIndex: 1000 entries, 0 to 999\n",
      "Data columns (total 1 columns):\n",
      " #   Column        Non-Null Count  Dtype  \n",
      "---  ------        --------------  -----  \n",
      " 0   credit_limit  1000 non-null   float64\n",
      "dtypes: float64(1)\n",
      "memory usage: 7.9 KB\n"
     ]
    }
   ],
   "source": [
    "cards_df['credit_limit'] = cards_df.credit_limit.apply(remove_currency)\n",
    "cards_df[['credit_limit']].info()"
   ]
  },
  {
   "cell_type": "code",
   "execution_count": 22,
   "metadata": {},
   "outputs": [
    {
     "name": "stdout",
     "output_type": "stream",
     "text": [
      "<class 'pandas.core.frame.DataFrame'>\n",
      "RangeIndex: 1000 entries, 0 to 999\n",
      "Data columns (total 12 columns):\n",
      " #   Column          Non-Null Count  Dtype  \n",
      "---  ------          --------------  -----  \n",
      " 0   id              1000 non-null   int64  \n",
      " 1   date            1000 non-null   object \n",
      " 2   client_id       1000 non-null   int64  \n",
      " 3   card_id         1000 non-null   int64  \n",
      " 4   amount          1000 non-null   object \n",
      " 5   use_chip        1000 non-null   object \n",
      " 6   merchant_id     1000 non-null   int64  \n",
      " 7   merchant_city   1000 non-null   object \n",
      " 8   merchant_state  865 non-null    object \n",
      " 9   zip             864 non-null    float64\n",
      " 10  mcc             1000 non-null   int64  \n",
      " 11  errors          9 non-null      object \n",
      "dtypes: float64(1), int64(5), object(6)\n",
      "memory usage: 93.9+ KB\n"
     ]
    }
   ],
   "source": [
    "transaction_df.info()"
   ]
  },
  {
   "cell_type": "code",
   "execution_count": 23,
   "metadata": {},
   "outputs": [
    {
     "name": "stdout",
     "output_type": "stream",
     "text": [
      "<class 'pandas.core.frame.DataFrame'>\n",
      "RangeIndex: 1000 entries, 0 to 999\n",
      "Data columns (total 1 columns):\n",
      " #   Column  Non-Null Count  Dtype  \n",
      "---  ------  --------------  -----  \n",
      " 0   amount  1000 non-null   float64\n",
      "dtypes: float64(1)\n",
      "memory usage: 7.9 KB\n"
     ]
    }
   ],
   "source": [
    "transaction_df['amount'] = transaction_df.amount.apply(remove_currency)\n",
    "transaction_df[['amount']].info()"
   ]
  },
  {
   "cell_type": "markdown",
   "metadata": {},
   "source": [
    "Since most of the rows will be None for the `errors` from `transactions_df`, lets replace it with `No Errors`"
   ]
  },
  {
   "cell_type": "code",
   "execution_count": 24,
   "metadata": {},
   "outputs": [
    {
     "data": {
      "text/plain": [
       "array([nan, 'Technical Glitch', 'Bad Expiration', 'Bad Card Number',\n",
       "       'Insufficient Balance'], dtype=object)"
      ]
     },
     "execution_count": 24,
     "metadata": {},
     "output_type": "execute_result"
    }
   ],
   "source": [
    "transaction_df.errors.unique()"
   ]
  },
  {
   "cell_type": "code",
   "execution_count": 25,
   "metadata": {},
   "outputs": [
    {
     "data": {
      "text/plain": [
       "array(['No Errors', 'Technical Glitch', 'Bad Expiration',\n",
       "       'Bad Card Number', 'Insufficient Balance'], dtype=object)"
      ]
     },
     "execution_count": 25,
     "metadata": {},
     "output_type": "execute_result"
    }
   ],
   "source": [
    "transaction_df['errors'] = transaction_df.errors.fillna('No Errors')\n",
    "transaction_df.errors.unique()"
   ]
  },
  {
   "cell_type": "code",
   "execution_count": 26,
   "metadata": {},
   "outputs": [
    {
     "data": {
      "image/png": "[encoded data removed]",
      "text/plain": [
       "<Figure size 640x480 with 1 Axes>"
      ]
     },
     "metadata": {},
     "output_type": "display_data"
    }
   ],
   "source": [
    "sns.boxplot(transaction_df.zip);\n",
    "plt.title(f\"Min : {transaction_df.dropna().zip.min()} | Mean : {transaction_df.dropna().zip.mean()} | Max : {transaction_df.dropna().zip.max()}\");"
   ]
  },
  {
   "cell_type": "code",
   "execution_count": 27,
   "metadata": {},
   "outputs": [],
   "source": [
    "transaction_df['zip'] = transaction_df.zip.fillna('0')\n",
    "transaction_df['merchant_state'] = transaction_df.merchant_state.fillna('Unknown')"
   ]
  },
  {
   "cell_type": "markdown",
   "metadata": {},
   "source": [
    "<span style=\"color: green;font-weight: bold\">All the datasets required for the analysis are cleaned and ready to use</span>"
   ]
  },
  {
   "cell_type": "code",
   "execution_count": 125,
   "metadata": {},
   "outputs": [
    {
     "data": {
      "text/plain": [
       "[None, None, None]"
      ]
     },
     "execution_count": 125,
     "metadata": {},
     "output_type": "execute_result"
    }
   ],
   "source": [
    "nfolder = 'analysis_data'\n",
    "if nfolder not in os.listdir():\n",
    "    os.mkdir(nfolder)\n",
    "\n",
    "[idf.to_csv(os.path.join(nfolder, iname)) for idf, iname in [(users_df, 'users_data.csv'), (cards_df, 'cards_data.csv'), (transaction_df, 'transactions_data.csv')]]"
   ]
  },
  {
   "cell_type": "markdown",
   "metadata": {},
   "source": [
    "#### MYSQL"
   ]
  },
  {
   "cell_type": "code",
   "execution_count": 126,
   "metadata": {},
   "outputs": [
    {
     "data": {
      "text/plain": [
       "1000"
      ]
     },
     "execution_count": 126,
     "metadata": {},
     "output_type": "execute_result"
    }
   ],
   "source": [
    "### inserting to the mysql database \n",
    "\n",
    "users_df.to_sql('users', con=engine, if_exists='replace', method='multi')\n",
    "cards_df.to_sql('cards', con=engine, if_exists='replace', method='multi')\n",
    "transaction_df.to_sql('transactions', con=engine, if_exists='replace', method='multi')"
   ]
  },
  {
   "cell_type": "markdown",
   "metadata": {},
   "source": [
    "#### Mongo DB"
   ]
  },
  {
   "cell_type": "code",
   "execution_count": 28,
   "metadata": {},
   "outputs": [
    {
     "data": {
      "text/plain": [
       "Database(MongoClient(host=['127.0.0.1:27017'], document_class=dict, tz_aware=False, connect=True, directconnection=True, serverselectiontimeoutms=2000, appname='mongosh 2.3.3'), 'test')"
      ]
     },
     "execution_count": 28,
     "metadata": {},
     "output_type": "execute_result"
    }
   ],
   "source": [
    "\n",
    "uri = f'mongodb://{MONGO_DB_CONFIG[\"hostname\"]}:{MONGO_DB_CONFIG[\"port\"]}/?directConnection=true&serverSelectionTimeoutMS=2000&appName={MONGO_DB_CONFIG[\"appName\"]}+2.3.3'\n",
    "client = MongoClient(uri)\n",
    "client.test"
   ]
  },
  {
   "cell_type": "code",
   "execution_count": 31,
   "metadata": {},
   "outputs": [
    {
     "name": "stdout",
     "output_type": "stream",
     "text": [
      "Connected to the Database: [project_test]\n",
      "Server Status: {'host': 'jaabir', 'version': '8.0.3', 'process': 'C:\\\\Program Files\\\\MongoDB\\\\Server\\\\8.0\\\\bin\\\\mongod.exe', 'service': ['shard'], 'pid': 14896, 'uptime': 1922.0, 'uptimeMillis': 1920152, 'uptimeEstimate': 1920, 'localTime': datetime.datetime(2024, 11, 25, 20, 59, 50, 973000), 'asserts': {'regular': 0, 'warning': 0, 'msg': 0, 'user': 17, 'tripwire': 0, 'rollovers': 0}, 'batchedDeletes': {'batches': 0, 'docs': 0, 'stagedSizeBytes': 0, 'timeInBatchMillis': 0, 'refetchesDueToYield': 0}, 'catalogStats': {'collections': 0, 'capped': 0, 'clustered': 0, 'timeseries': 0, 'views': 0, 'internalCollections': 3, 'internalViews': 0, 'csfle': 0, 'queryableEncryption': 0}, 'changeStreamPreImages': {'purgingJob': {'totalPass': 0, 'docsDeleted': 0, 'bytesDeleted': 0, 'scannedCollections': 0, 'scannedInternalCollections': 0, 'maxStartWallTimeMillis': 0, 'timeElapsedMillis': 0}}, 'collectionCatalog': {'numScansDueToMissingMapping': 0}, 'connections': {'current': 8, 'available': 999992, 'totalCreated': 13, 'rejected': 0, 'active': 3, 'threaded': 8, 'exhaustIsMaster': 1, 'exhaustHello': 1, 'awaitingTopologyChanges': 2, 'loadBalanced': 0}, 'electionMetrics': {'stepUpCmd': {'called': 0, 'successful': 0}, 'priorityTakeover': {'called': 0, 'successful': 0}, 'catchUpTakeover': {'called': 0, 'successful': 0}, 'electionTimeout': {'called': 0, 'successful': 0}, 'freezeTimeout': {'called': 0, 'successful': 0}, 'numStepDownsCausedByHigherTerm': 0, 'numCatchUps': 0, 'numCatchUpsSucceeded': 0, 'numCatchUpsAlreadyCaughtUp': 0, 'numCatchUpsSkipped': 0, 'numCatchUpsTimedOut': 0, 'numCatchUpsFailedWithError': 0, 'numCatchUpsFailedWithNewTerm': 0, 'numCatchUpsFailedWithReplSetAbortPrimaryCatchUpCmd': 0, 'averageCatchUpOps': 0.0}, 'extra_info': {'note': 'fields vary by platform', 'page_faults': 132723, 'usagePageFileMB': 400, 'totalPageFileMB': 23530, 'availPageFileMB': 3336, 'ramMB': 15556}, 'featureCompatibilityVersion': {'major': 8, 'minor': 0, 'transitioning': 0}, 'flowControl': {'enabled': True, 'targetRateLimit': 1000000000, 'timeAcquiringMicros': 0, 'locksPerKiloOp': 0.0, 'sustainerRate': 0, 'isLagged': False, 'isLaggedCount': 0, 'isLaggedTimeMicros': 0}, 'globalLock': {'totalTime': 1922585000, 'currentQueue': {'total': 0, 'readers': 0, 'writers': 0}, 'activeClients': {'total': 0, 'readers': 0, 'writers': 0}}, 'indexBuilds': {'total': 0, 'killedDueToInsufficientDiskSpace': 0, 'failedDueToDataCorruption': 0, 'phases': {'scanCollection': 0, 'drainSideWritesTable': 0, 'drainSideWritesTablePreCommit': 0, 'waitForCommitQuorum': 0, 'drainSideWritesTableOnCommit': 0, 'processConstraintsViolatonTableOnCommit': 0, 'commit': 0}}, 'indexBulkBuilder': {'count': 0, 'resumed': 0, 'filesOpenedForExternalSort': 0, 'filesClosedForExternalSort': 0, 'spilledRanges': 0, 'bytesSpilledUncompressed': 0, 'bytesSpilled': 0, 'numSorted': 0, 'bytesSorted': 0, 'memUsage': 0}, 'indexStats': {'count': 0, 'features': {'2d': {'count': 0, 'accesses': 0}, '2dsphere': {'count': 0, 'accesses': 0}, '2dsphere_bucket': {'count': 0, 'accesses': 0}, 'collation': {'count': 0, 'accesses': 0}, 'columnstore': {'count': 0, 'accesses': 0}, 'compound': {'count': 0, 'accesses': 0}, 'hashed': {'count': 0, 'accesses': 0}, 'id': {'count': 0, 'accesses': 0}, 'normal': {'count': 0, 'accesses': 0}, 'partial': {'count': 0, 'accesses': 0}, 'single': {'count': 0, 'accesses': 0}, 'sparse': {'count': 0, 'accesses': 0}, 'text': {'count': 0, 'accesses': 0}, 'ttl': {'count': 0, 'accesses': 0}, 'unique': {'count': 0, 'accesses': 0}, 'wildcard': {'count': 0, 'accesses': 0}}}, 'internalTransactions': {'started': 0, 'retriedTransactions': 0, 'retriedCommits': 0, 'succeeded': 0}, 'locks': {'MultiDocumentTransactionsBarrier': {'acquireCount': {'W': 5}}, 'ReplicationStateTransition': {'acquireCount': {'w': 1979}}, 'Global': {'acquireCount': {'r': 3868, 'w': 1969, 'W': 5}}, 'Database': {'acquireCount': {'r': 5, 'w': 49, 'W': 1}}, 'Collection': {'acquireCount': {'r': 5, 'w': 46, 'W': 2}}, 'Mutex': {'acquireCount': {'r': 4}}, 'oplog': {'acquireCount': {'w': 1}}}, 'logicalSessionRecordCache': {'activeSessionsCount': 1, 'sessionsCollectionJobCount': 7, 'lastSessionsCollectionJobDurationMillis': 1, 'lastSessionsCollectionJobTimestamp': datetime.datetime(2024, 11, 25, 20, 57, 50, 821000), 'lastSessionsCollectionJobEntriesRefreshed': 2, 'lastSessionsCollectionJobEntriesEnded': 0, 'lastSessionsCollectionJobCursorsClosed': 0, 'transactionReaperJobCount': 7, 'lastTransactionReaperJobDurationMillis': 0, 'lastTransactionReaperJobTimestamp': datetime.datetime(2024, 11, 25, 20, 57, 50, 822000), 'lastTransactionReaperJobEntriesCleanedUp': 0, 'sessionCatalogSize': 0}, 'network': {'bytesIn': 39589, 'bytesOut': 285109, 'physicalBytesIn': 16412, 'physicalBytesOut': 285109, 'numSlowDNSOperations': 0, 'numSlowSSLOperations': 0, 'numRequests': 379, 'tcpFastOpen': {'serverSupported': False, 'clientSupported': False, 'accepted': 0}, 'compression': {'snappy': {'compressor': {'bytesIn': 0, 'bytesOut': 0}, 'decompressor': {'bytesIn': 0, 'bytesOut': 0}}, 'zstd': {'compressor': {'bytesIn': 0, 'bytesOut': 0}, 'decompressor': {'bytesIn': 0, 'bytesOut': 0}}, 'zlib': {'compressor': {'bytesIn': 0, 'bytesOut': 0}, 'decompressor': {'bytesIn': 0, 'bytesOut': 0}}}, 'serviceExecutors': {'passthrough': {'threadsRunning': 8, 'clientsInTotal': 8, 'clientsRunning': 8, 'clientsWaitingForData': 0}, 'inline': {'threadsRunning': 0, 'clientsInTotal': 0, 'clientsRunning': 0, 'clientsWaitingForData': 0}}, 'listenerProcessingTime': {'durationMicros': 5701}}, 'opLatencies': {'commands': {'latency': 40818, 'ops': 374, 'queryableEncryptionLatencyMicros': 0}, 'reads': {'latency': 2787, 'ops': 2, 'queryableEncryptionLatencyMicros': 0}, 'writes': {'latency': 0, 'ops': 0, 'queryableEncryptionLatencyMicros': 0}, 'transactions': {'latency': 0, 'ops': 0, 'queryableEncryptionLatencyMicros': 0}}, 'opWorkingTime': {'commands': {'latency': 3000, 'ops': 374, 'queryableEncryptionLatencyMicros': 0}, 'reads': {'latency': 1000, 'ops': 2, 'queryableEncryptionLatencyMicros': 0}, 'writes': {'latency': 0, 'ops': 0, 'queryableEncryptionLatencyMicros': 0}, 'transactions': {'latency': 0, 'ops': 0, 'queryableEncryptionLatencyMicros': 0}}, 'opcounters': {'insert': 0, 'query': 8, 'update': 6, 'delete': 2, 'getmore': 0, 'command': 390}, 'opcountersRepl': {'insert': 0, 'query': 0, 'update': 0, 'delete': 0, 'getmore': 0, 'command': 0}, 'querySettings': {'count': 0, 'size': 0, 'rejectCount': 0}, 'queues': {'execution': {'write': {'out': 0, 'available': 16, 'totalTickets': 16, 'exempt': {'addedToQueue': 0, 'removedFromQueue': 0, 'queueLength': 0, 'startedProcessing': 1919, 'processing': 0, 'finishedProcessing': 1919, 'totalTimeProcessingMicros': 5415, 'canceled': 0, 'newAdmissions': 0, 'totalTimeQueuedMicros': 0}, 'normalPriority': {'addedToQueue': 0, 'removedFromQueue': 0, 'queueLength': 0, 'startedProcessing': 43, 'processing': 0, 'finishedProcessing': 43, 'totalTimeProcessingMicros': 25542, 'canceled': 0, 'newAdmissions': 32, 'totalTimeQueuedMicros': 0}}, 'read': {'out': 0, 'available': 16, 'totalTickets': 16, 'exempt': {'addedToQueue': 0, 'removedFromQueue': 0, 'queueLength': 0, 'startedProcessing': 3831, 'processing': 0, 'finishedProcessing': 3831, 'totalTimeProcessingMicros': 1002287, 'canceled': 0, 'newAdmissions': 3831, 'totalTimeQueuedMicros': 0}, 'normalPriority': {'addedToQueue': 0, 'removedFromQueue': 0, 'queueLength': 0, 'startedProcessing': 34, 'processing': 0, 'finishedProcessing': 34, 'totalTimeProcessingMicros': 7867, 'canceled': 0, 'newAdmissions': 21, 'totalTimeQueuedMicros': 0}}, 'monitor': {'timesDecreased': 0, 'timesIncreased': 0, 'totalAmountDecreased': 0, 'totalAmountIncreased': 0, 'resizeDurationMicros': 22}}, 'ingress': {'out': 0, 'available': 1000000, 'totalTickets': 1000000, 'exempt': {'addedToQueue': 0, 'removedFromQueue': 0, 'queueLength': 0, 'startedProcessing': 385, 'processing': 3, 'finishedProcessing': 382, 'totalTimeProcessingMicros': 1723204015, 'canceled': 0, 'newAdmissions': 374, 'totalTimeQueuedMicros': 0}, 'normalPriority': {'addedToQueue': 0, 'removedFromQueue': 0, 'queueLength': 0, 'startedProcessing': 17, 'processing': 0, 'finishedProcessing': 17, 'totalTimeProcessingMicros': 6046, 'canceled': 0, 'newAdmissions': 17, 'totalTimeQueuedMicros': 0}}}, 'readConcernCounters': {'nonTransactionOps': {'none': 2, 'noneInfo': {'CWRC': {'local': 0, 'available': 0, 'majority': 0}, 'implicitDefault': {'local': 2, 'available': 0}}, 'local': 0, 'available': 0, 'majority': 0, 'snapshot': {'withClusterTime': 0, 'withoutClusterTime': 0}, 'linearizable': 0}, 'transactionOps': {'none': 0, 'noneInfo': {'CWRC': {'local': 0, 'majority': 0}, 'implicitDefault': {'local': 0}}, 'local': 0, 'majority': 0, 'snapshot': {'withClusterTime': 0, 'withoutClusterTime': 0}}}, 'scramCache': {'SCRAM-SHA-1': {'count': 0, 'hits': 0, 'misses': 0}, 'SCRAM-SHA-256': {'count': 0, 'hits': 0, 'misses': 0}}, 'security': {'authentication': {'saslSupportedMechsReceived': 0, 'mechanisms': {'MONGODB-X509': {'speculativeAuthenticate': {'received': 0, 'successful': 0}, 'clusterAuthenticate': {'received': 0, 'successful': 0}, 'authenticate': {'received': 0, 'successful': 0}}, 'SCRAM-SHA-1': {'speculativeAuthenticate': {'received': 0, 'successful': 0}, 'clusterAuthenticate': {'received': 0, 'successful': 0}, 'authenticate': {'received': 0, 'successful': 0}}, 'SCRAM-SHA-256': {'speculativeAuthenticate': {'received': 0, 'successful': 0}, 'clusterAuthenticate': {'received': 0, 'successful': 0}, 'authenticate': {'received': 0, 'successful': 0}}}, 'totalAuthenticationTimeMicros': 0}}, 'shardSplits': {'totalCommitted': 0, 'totalCommittedDurationMillis': 0, 'totalCommittedDurationWithoutCatchupMillis': 0, 'totalAborted': 0}, 'storageEngine': {'name': 'wiredTiger', 'supportsCommittedReads': True, 'oldestRequiredTimestampForCrashRecovery': Timestamp(0, 0), 'supportsPendingDrops': True, 'dropPendingIdents': 0, 'supportsSnapshotReadConcern': True, 'readOnly': False, 'persistent': True, 'backupCursorOpen': False}, 'tcmalloc': {'generic': {'current_allocated_bytes': 0, 'heap_size': 1048576}, 'tcmalloc': {'pageheap_free_bytes': 1040384, 'pageheap_unmapped_bytes': 0, 'max_total_thread_cache_bytes': 1073741824, 'current_total_thread_cache_bytes': 8, 'central_cache_free_bytes': 8184, 'transfer_cache_free_bytes': 0, 'thread_cache_free_bytes': 8, 'aggressive_memory_decommit': 0, 'pageheap_committed_bytes': 1048576, 'pageheap_scavenge_count': 0, 'pageheap_commit_count': 1, 'pageheap_total_commit_bytes': 1048576, 'pageheap_decommit_count': 0, 'pageheap_total_decommit_bytes': 0, 'pageheap_reserve_count': 1, 'pageheap_total_reserve_bytes': 1048576, 'spinlock_total_delay_ns': 0, 'release_rate': 1}, 'tcmalloc_derived': {'total_free_bytes': 1040384}}, 'tenantMigrations': {'currentMigrationsDonating': 0, 'currentMigrationsReceiving': 0, 'totalMigrationDonationsCommitted': 0, 'totalMigrationDonationsAborted': 0}, 'trafficRecording': {'running': False}, 'transactions': {'retriedCommandsCount': 0, 'retriedStatementsCount': 0, 'transactionsCollectionWriteCount': 0, 'currentActive': 0, 'currentInactive': 0, 'currentOpen': 0, 'totalAborted': 0, 'totalCommitted': 0, 'totalStarted': 0, 'totalPrepared': 0, 'totalPreparedThenCommitted': 0, 'totalPreparedThenAborted': 0, 'currentPrepared': 0}, 'transportSecurity': {'1.0': 0, '1.1': 0, '1.2': 0, '1.3': 0, 'unknown': 0}, 'twoPhaseCommitCoordinator': {'totalCreated': 0, 'totalStartedTwoPhaseCommit': 0, 'totalAbortedTwoPhaseCommit': 0, 'totalCommittedTwoPhaseCommit': 0, 'currentInSteps': {'writingParticipantList': 0, 'waitingForVotes': 0, 'writingDecision': 0, 'waitingForDecisionAcks': 0, 'writingEndOfTransaction': 0, 'deletingCoordinatorDoc': 0}}, 'wiredTiger': {'uri': 'statistics:', 'autocommit': {'retries for readonly operations': 0, 'retries for update operations': 0}, 'background-compact': {'background compact failed calls': 0, 'background compact failed calls due to cache pressure': 0, 'background compact interrupted': 0, 'background compact moving average of bytes rewritten': 0, 'background compact recovered bytes': 0, 'background compact running': 0, 'background compact skipped file as it is part of the exclude list': 0, 'background compact skipped file as not meeting requirements for compaction': 0, 'background compact sleeps due to cache pressure': 0, 'background compact successful calls': 0, 'background compact timeout': 0, 'number of files tracked by background compaction': 0}, 'backup': {'backup cursor open': 0, 'backup duplicate cursor open': 0, 'backup granularity size': 0, 'incremental backup enabled': 0, 'opening the backup cursor in progress': 0, 'total modified incremental blocks': 0, 'total modified incremental blocks with compressed data': 0, 'total modified incremental blocks without compressed data': 0}, 'block-cache': {'cached blocks updated': 0, 'cached bytes updated': 0, 'evicted blocks': 0, 'file size causing bypass': 0, 'lookups': 0, 'number of blocks not evicted due to overhead': 0, 'number of bypasses because no-write-allocate setting was on': 0, 'number of bypasses due to overhead on put': 0, 'number of bypasses on get': 0, 'number of bypasses on put because file is too small': 0, 'number of eviction passes': 0, 'number of hits': 0, 'number of misses': 0, 'number of put bypasses on checkpoint I/O': 0, 'removed blocks': 0, 'time sleeping to remove block (usecs)': 0, 'total blocks': 0, 'total blocks inserted on read path': 0, 'total blocks inserted on write path': 0, 'total bytes': 0, 'total bytes inserted on read path': 0, 'total bytes inserted on write path': 0}, 'block-manager': {'blocks pre-loaded': 0, 'blocks read': 37, 'blocks written': 188, 'bytes read': 151552, 'bytes read via memory map API': 0, 'bytes read via system call API': 0, 'bytes written': 1277952, 'bytes written by compaction': 0, 'bytes written for checkpoint': 1277952, 'bytes written via memory map API': 0, 'bytes written via system call API': 0, 'mapped blocks read': 0, 'mapped bytes read': 0, 'number of times the file was remapped because it changed size via fallocate or truncate': 0, 'number of times the region was remapped via write': 0}, 'cache': {'application thread time evicting (usecs)': 0, 'application threads page read from disk to cache count': 0, 'application threads page read from disk to cache time (usecs)': 0, 'application threads page write from cache to disk count': 94, 'application threads page write from cache to disk time (usecs)': 24691, 'bytes allocated for updates': 53553, 'bytes belonging to page images in the cache': 0, 'bytes belonging to the history store table in the cache': 182, 'bytes currently in the cache': 59708, 'bytes dirty in the cache cumulative': 1158344, 'bytes not belonging to page images in the cache': 59708, 'bytes read into cache': 0, 'bytes written from cache': 590348, 'checkpoint blocked page eviction': 0, 'checkpoint of history store file blocked non-history store page eviction': 0, 'eviction calls to get a page': 23, 'eviction calls to get a page found queue empty': 23, 'eviction calls to get a page found queue empty after locking': 0, 'eviction currently operating in aggressive mode': 0, 'eviction empty score': 0, 'eviction gave up due to detecting a disk value without a timestamp behind the last update on the chain': 0, 'eviction gave up due to detecting a tombstone without a timestamp ahead of the selected on disk update': 0, 'eviction gave up due to detecting a tombstone without a timestamp ahead of the selected on disk update after validating the update chain': 0, 'eviction gave up due to detecting update chain entries without timestamps after the selected on disk update': 0, 'eviction gave up due to needing to remove a record from the history store but checkpoint is running': 0, 'eviction gave up due to no progress being made': 0, 'eviction passes of a file': 0, 'eviction server candidate queue empty when topping up': 0, 'eviction server candidate queue not empty when topping up': 0, 'eviction server evicting pages': 0, 'eviction server skips dirty pages during a running checkpoint': 0, 'eviction server skips internal pages as it has an active child.': 0, 'eviction server skips metadata pages with history': 0, 'eviction server skips pages that are written with transactions greater than the last running': 0, 'eviction server skips pages that previously failed eviction and likely will again': 0, 'eviction server skips pages that we do not want to evict': 0, 'eviction server skips tree that we do not want to evict': 0, 'eviction server skips trees because there are too many active walks': 0, 'eviction server skips trees that are being checkpointed': 0, 'eviction server skips trees that are configured to stick in cache': 0, 'eviction server skips trees that disable eviction': 0, 'eviction server skips trees that were not useful before': 0, 'eviction server slept, because we did not make progress with eviction': 0, 'eviction server unable to reach eviction goal': 0, 'eviction server waiting for a leaf page': 0, 'eviction state': 32, 'eviction walk most recent sleeps for checkpoint handle gathering': 0, 'eviction walk target pages histogram - 0-9': 0, 'eviction walk target pages histogram - 10-31': 0, 'eviction walk target pages histogram - 128 and higher': 0, 'eviction walk target pages histogram - 32-63': 0, 'eviction walk target pages histogram - 64-128': 0, 'eviction walk target pages reduced due to history store cache pressure': 0, 'eviction walk target strategy both clean and dirty pages': 0, 'eviction walk target strategy only clean pages': 0, 'eviction walk target strategy only dirty pages': 0, 'eviction walks abandoned': 0, 'eviction walks gave up because they restarted their walk twice': 0, 'eviction walks gave up because they saw too many pages and found no candidates': 0, 'eviction walks gave up because they saw too many pages and found too few candidates': 0, 'eviction walks random search fails to locate a page, results in a null position': 0, 'eviction walks reached end of tree': 0, 'eviction walks restarted': 0, 'eviction walks started from root of tree': 0, 'eviction walks started from saved location in tree': 0, 'eviction worker thread active': 4, 'eviction worker thread created': 0, 'eviction worker thread evicting pages': 0, 'eviction worker thread removed': 0, 'eviction worker thread stable number': 0, 'files with active eviction walks': 0, 'files with new eviction walks started': 0, 'force re-tuning of eviction workers once in a while': 0, 'forced eviction - do not retry count to evict pages selected to evict during reconciliation': 0, 'forced eviction - history store pages failed to evict while session has history store cursor open': 0, 'forced eviction - history store pages selected while session has history store cursor open': 0, 'forced eviction - history store pages successfully evicted while session has history store cursor open': 0, 'forced eviction - pages evicted that were clean count': 0, 'forced eviction - pages evicted that were clean time (usecs)': 0, 'forced eviction - pages evicted that were dirty count': 0, 'forced eviction - pages evicted that were dirty time (usecs)': 0, 'forced eviction - pages selected because of a large number of updates to a single item': 0, 'forced eviction - pages selected because of too many deleted items count': 0, 'forced eviction - pages selected count': 0, 'forced eviction - pages selected unable to be evicted count': 0, 'forced eviction - pages selected unable to be evicted time': 0, 'hazard pointer blocked page eviction': 0, 'hazard pointer check calls': 0, 'hazard pointer check entries walked': 0, 'hazard pointer maximum array length': 0, 'history store table insert calls': 0, 'history store table insert calls that returned restart': 0, 'history store table max on-disk size': 0, 'history store table on-disk size': 4096, 'history store table reads': 0, 'history store table reads missed': 0, 'history store table reads requiring squashed modifies': 0, 'history store table resolved updates without timestamps that lose their durable timestamp': 0, 'history store table truncation by rollback to stable to remove an unstable update': 0, 'history store table truncation by rollback to stable to remove an update': 0, 'history store table truncation to remove all the keys of a btree': 0, 'history store table truncation to remove an update': 0, 'history store table truncation to remove range of updates due to an update without a timestamp on data page': 0, 'history store table truncation to remove range of updates due to key being removed from the data page during reconciliation': 0, 'history store table truncations that would have happened in non-dryrun mode': 0, 'history store table truncations to remove an unstable update that would have happened in non-dryrun mode': 0, 'history store table truncations to remove an update that would have happened in non-dryrun mode': 0, 'history store table updates without timestamps fixed up by reinserting with the fixed timestamp': 0, 'history store table writes requiring squashed modifies': 0, 'in-memory page passed criteria to be split': 0, 'in-memory page splits': 0, 'internal page split blocked its eviction': 0, 'internal pages evicted': 0, 'internal pages queued for eviction': 0, 'internal pages seen by eviction walk': 0, 'internal pages seen by eviction walk that are already queued': 0, 'internal pages split during eviction': 0, 'leaf pages split during eviction': 0, 'locate a random in-mem ref by examining all entries on the root page': 0, 'maximum bytes configured': 7618953216, 'maximum milliseconds spent at a single eviction': 0, 'maximum page size seen at eviction': 0, 'modified pages evicted': 0, 'modified pages evicted by application threads': 0, 'multi-block reconciliation blocked whilst checkpoint is running': 0, 'operations timed out waiting for space in cache': 0, 'overflow keys on a multiblock row-store page blocked its eviction': 0, 'overflow pages read into cache': 0, 'page split during eviction deepened the tree': 0, 'page written requiring history store records': 0, 'pages considered for eviction that were brought in by pre-fetch': 0, 'pages currently held in the cache': 21, 'pages evicted by application threads': 0, 'pages evicted in parallel with checkpoint': 0, 'pages queued for eviction': 0, 'pages queued for eviction post lru sorting': 0, 'pages queued for urgent eviction': 0, 'pages queued for urgent eviction during walk': 0, 'pages queued for urgent eviction from history store due to high dirty content': 0, 'pages read into cache': 0, 'pages read into cache after truncate': 0, 'pages read into cache after truncate in prepare state': 0, 'pages read into cache by checkpoint': 0, 'pages removed from the ordinary queue to be queued for urgent eviction': 0, 'pages requested from the cache': 901, 'pages requested from the cache due to pre-fetch': 0, 'pages seen by eviction walk': 0, 'pages seen by eviction walk that are already queued': 0, 'pages selected for eviction unable to be evicted': 0, 'pages selected for eviction unable to be evicted because of active children on an internal page': 0, 'pages selected for eviction unable to be evicted because of failure in reconciliation': 0, 'pages selected for eviction unable to be evicted because of race between checkpoint and updates without timestamps': 0, 'pages walked for eviction': 0, 'pages written from cache': 94, 'pages written requiring in-memory restoration': 0, 'percentage overhead': 8, 'recent modification of a page blocked its eviction': 0, 'reverse splits performed': 0, 'reverse splits skipped because of VLCS namespace gap restrictions': 0, 'the number of times full update inserted to history store': 0, 'the number of times reverse modify inserted to history store': 0, 'total milliseconds spent inside reentrant history store evictions in a reconciliation': 0, 'tracked bytes belonging to internal pages in the cache': 5204, 'tracked bytes belonging to leaf pages in the cache': 54504, 'tracked dirty bytes in the cache': 0, 'tracked dirty pages in the cache': 0, 'uncommitted truncate blocked page eviction': 0, 'unmodified pages evicted': 0}, 'capacity': {'background fsync file handles considered': 0, 'background fsync file handles synced': 0, 'background fsync time (msecs)': 0, 'bytes read': 151552, 'bytes written for checkpoint': 587873, 'bytes written for chunk cache': 0, 'bytes written for eviction': 0, 'bytes written for log': 44928, 'bytes written total': 632801, 'threshold to call fsync': 0, 'time waiting due to total capacity (usecs)': 0, 'time waiting during checkpoint (usecs)': 0, 'time waiting during eviction (usecs)': 0, 'time waiting during logging (usecs)': 0, 'time waiting during read (usecs)': 0, 'time waiting for chunk cache IO bandwidth (usecs)': 0}, 'checkpoint': {'checkpoint cleanup successful calls': 6, 'checkpoint has acquired a snapshot for its transaction': 0, 'checkpoints skipped because database was clean': 0, 'fsync calls after allocating the transaction ID': 31, 'fsync duration after allocating the transaction ID (usecs)': 11122, 'generation': 32, 'max time (msecs)': 51, 'min time (msecs)': 18, 'most recent duration for checkpoint dropping all handles (usecs)': 465679, 'most recent duration for gathering all handles (usecs)': 0, 'most recent duration for gathering applied handles (usecs)': 0, 'most recent duration for gathering skipped handles (usecs)': 0, 'most recent duration for handles metadata checked (usecs)': 0, 'most recent duration for locking the handles (usecs)': 0, 'most recent handles applied': 0, 'most recent handles checkpoint dropped': 71, 'most recent handles metadata checked': 279, 'most recent handles metadata locked': 279, 'most recent handles skipped': 10, 'most recent handles walked': 21, 'most recent time (msecs)': 41, 'number of checkpoints started by api': 31, 'number of checkpoints started by compaction': 0, 'number of files synced': 113, 'number of handles visited after writes complete': 20, 'number of history store pages caused to be reconciled': 32, 'number of internal pages visited': 47, 'number of leaf pages visited': 47, 'number of pages caused to be reconciled': 94, 'pages added for eviction during checkpoint cleanup': 0, 'pages removed during checkpoint cleanup': 0, 'pages skipped during checkpoint cleanup tree walk': 0, 'pages visited during checkpoint cleanup': 51, 'prepare currently running': 0, 'prepare max time (msecs)': 0, 'prepare min time (msecs)': 0, 'prepare most recent time (msecs)': 0, 'prepare total time (msecs)': 0, 'progress state': 0, 'scrub dirty target': 0, 'scrub max time (msecs)': 0, 'scrub min time (msecs)': 0, 'scrub most recent time (msecs)': 0, 'scrub total time (msecs)': 0, 'stop timing stress active': 0, 'time spent on per-tree checkpoint work (usecs)': 0, 'total failed number of checkpoints': 0, 'total succeed number of checkpoints': 31, 'total time (msecs)': 1148, 'transaction checkpoints due to obsolete pages': 0, 'wait cycles while cache dirty level is decreasing': 0}, 'chunk-cache': {'aggregate number of spanned chunks on read': 0, 'chunks evicted': 0, 'could not allocate due to exceeding bitmap capacity': 0, 'could not allocate due to exceeding capacity': 0, 'lookups': 0, 'number of chunks loaded from flushed tables in chunk cache': 0, 'number of metadata entries inserted': 0, 'number of metadata entries removed': 0, 'number of metadata inserts/deletes dropped by the worker thread': 0, 'number of metadata inserts/deletes pushed to the worker thread': 0, 'number of metadata inserts/deletes read by the worker thread': 0, 'number of misses': 0, 'number of times a read from storage failed': 0, 'retried accessing a chunk while I/O was in progress': 0, 'retries from a chunk cache checksum mismatch': 0, 'timed out due to too many retries': 0, 'total bytes read from persistent content': 0, 'total bytes used by the cache': 0, 'total bytes used by the cache for pinned chunks': 0, 'total chunks held by the chunk cache': 0, 'total number of chunks inserted on startup from persisted metadata.': 0, 'total pinned chunks held by the chunk cache': 0}, 'connection': {'auto adjusting condition resets': 73, 'auto adjusting condition wait calls': 11746, 'auto adjusting condition wait raced to update timeout and skipped updating': 0, 'detected system time went backwards': 0, 'files currently open': 14, 'hash bucket array size for data handles': 512, 'hash bucket array size general': 512, 'memory allocations': 77666, 'memory frees': 76464, 'memory re-allocations': 230, 'number of sessions without a sweep for 5+ minutes': 1, 'number of sessions without a sweep for 60+ minutes': 0, 'pthread mutex condition wait calls': 51712, 'pthread mutex shared lock read-lock calls': 32756, 'pthread mutex shared lock write-lock calls': 2133, 'total fsync I/Os': 248, 'total read I/Os': 85, 'total write I/Os': 321}, 'cursor': {'Total number of deleted pages skipped during tree walk': 0, 'Total number of entries skipped by cursor next calls': 0, 'Total number of entries skipped by cursor prev calls': 0, 'Total number of entries skipped to position the history store cursor': 0, 'Total number of in-memory deleted pages skipped during tree walk': 0, 'Total number of on-disk deleted pages skipped during tree walk': 0, 'Total number of times a search near has exited due to prefix config': 0, 'Total number of times cursor fails to temporarily release pinned page to encourage eviction of hot or large page': 0, 'Total number of times cursor temporarily releases pinned page to encourage eviction of hot or large page': 0, 'bulk cursor count': 0, 'cached cursor count': 15, 'cursor bound calls that return an error': 0, 'cursor bounds cleared from reset': 44, 'cursor bounds comparisons performed': 90, 'cursor bounds next called on an unpositioned cursor': 44, 'cursor bounds next early exit': 28, 'cursor bounds prev called on an unpositioned cursor': 0, 'cursor bounds prev early exit': 0, 'cursor bounds search early exit': 0, 'cursor bounds search near call repositioned cursor': 0, 'cursor bulk loaded cursor insert calls': 0, 'cursor cache calls that return an error': 0, 'cursor close calls that result in cache': 15560, 'cursor close calls that return an error': 0, 'cursor compare calls that return an error': 0, 'cursor create calls': 90, 'cursor equals calls that return an error': 0, 'cursor get key calls that return an error': 0, 'cursor get value calls that return an error': 0, 'cursor insert calls': 147, 'cursor insert calls that return an error': 0, 'cursor insert check calls that return an error': 0, 'cursor insert key and value bytes': 57174, 'cursor largest key calls that return an error': 0, 'cursor modify calls': 0, 'cursor modify calls that return an error': 0, 'cursor modify key and value bytes affected': 0, 'cursor modify value bytes modified': 0, 'cursor next calls': 141, 'cursor next calls that return an error': 0, 'cursor next calls that skip due to a globally visible history store tombstone': 0, 'cursor next calls that skip greater than 1 and fewer than 100 entries': 0, 'cursor next calls that skip greater than or equal to 100 entries': 0, 'cursor next random calls that return an error': 0, 'cursor operation restarted': 0, 'cursor prev calls': 7, 'cursor prev calls that return an error': 0, 'cursor prev calls that skip due to a globally visible history store tombstone': 0, 'cursor prev calls that skip greater than or equal to 100 entries': 0, 'cursor prev calls that skip less than 100 entries': 0, 'cursor reconfigure calls that return an error': 0, 'cursor remove calls': 8, 'cursor remove calls that return an error': 0, 'cursor remove key bytes removed': 182, 'cursor reopen calls that return an error': 0, 'cursor reserve calls': 0, 'cursor reserve calls that return an error': 0, 'cursor reset calls': 16451, 'cursor reset calls that return an error': 0, 'cursor search calls': 327, 'cursor search calls that return an error': 0, 'cursor search history store calls': 0, 'cursor search near calls': 59, 'cursor search near calls that return an error': 0, 'cursor sweep buckets': 23589, 'cursor sweep cursors closed': 0, 'cursor sweep cursors examined': 313, 'cursor sweeps': 2312, 'cursor truncate calls': 0, 'cursor truncates performed on individual keys': 0, 'cursor update calls': 0, 'cursor update calls that return an error': 0, 'cursor update key and value bytes': 0, 'cursor update value size change': 0, 'cursors reused from cache': 15545, 'open cursor count': 8}, 'data-handle': {'connection data handle size': 496, 'connection data handles currently active': 21, 'connection sweep candidate became referenced': 0, 'connection sweep dhandles closed': 0, 'connection sweep dhandles removed from hash list': 11, 'connection sweep time-of-death sets': 74, 'connection sweeps': 192, 'connection sweeps skipped due to checkpoint gathering handles': 0, 'session dhandles swept': 13, 'session sweep attempts': 628}, 'lock': {'checkpoint lock acquisitions': 31, 'checkpoint lock application thread wait time (usecs)': 0, 'checkpoint lock internal thread wait time (usecs)': 0, 'dhandle lock application thread time waiting (usecs)': 0, 'dhandle lock internal thread time waiting (usecs)': 0, 'dhandle read lock acquisitions': 7741, 'dhandle write lock acquisitions': 45, 'metadata lock acquisitions': 31, 'metadata lock application thread wait time (usecs)': 0, 'metadata lock internal thread wait time (usecs)': 0, 'schema lock acquisitions': 43, 'schema lock application thread wait time (usecs)': 0, 'schema lock internal thread wait time (usecs)': 0, 'table lock application thread time waiting for the table lock (usecs)': 0, 'table lock internal thread time waiting for the table lock (usecs)': 0, 'table read lock acquisitions': 0, 'table write lock acquisitions': 10, 'txn global lock application thread time waiting (usecs)': 0, 'txn global lock internal thread time waiting (usecs)': 0, 'txn global read lock acquisitions': 79, 'txn global write lock acquisitions': 81}, 'log': {'busy returns attempting to switch slots': 0, 'force log remove time sleeping (usecs)': 0, 'log bytes of payload data': 32415, 'log bytes written': 44800, 'log files manually zero-filled': 0, 'log flush operations': 19094, 'log force write operations': 21206, 'log force write operations skipped': 21161, 'log records compressed': 36, 'log records not compressed': 33, 'log records too small to compress': 80, 'log release advances write LSN': 42, 'log scan operations': 0, 'log scan records requiring two reads': 0, 'log server thread advances write LSN': 45, 'log server thread write LSN walk skipped': 4021, 'log sync operations': 86, 'log sync time duration (usecs)': 192037, 'log sync_dir operations': 1, 'log sync_dir time duration (usecs)': 0, 'log write operations': 149, 'logging bytes consolidated': 44416, 'maximum log file size': 104857600, 'number of pre-allocated log files to create': 1, 'pre-allocated log files not ready and missed': 1, 'pre-allocated log files prepared': 1, 'pre-allocated log files used': 0, 'records processed by log scan': 0, 'slot close lost race': 0, 'slot close unbuffered waits': 0, 'slot closures': 87, 'slot join atomic update races': 0, 'slot join calls atomic updates raced': 0, 'slot join calls did not yield': 149, 'slot join calls found active slot closed': 0, 'slot join calls slept': 0, 'slot join calls yielded': 0, 'slot join found active slot closed': 0, 'slot joins yield time (usecs)': 0, 'slot transitions unable to find free slot': 0, 'slot unbuffered writes': 0, 'total in-memory size of compressed records': 52423, 'total log buffer size': 33554432, 'total size of compressed records': 23793, 'written slots coalesced': 0, 'yields waiting for previous log file close': 0}, 'perf': {'file system read latency histogram (bucket 1) - 0-10ms': 85, 'file system read latency histogram (bucket 2) - 10-49ms': 0, 'file system read latency histogram (bucket 3) - 50-99ms': 0, 'file system read latency histogram (bucket 4) - 100-249ms': 0, 'file system read latency histogram (bucket 5) - 250-499ms': 0, 'file system read latency histogram (bucket 6) - 500-999ms': 0, 'file system read latency histogram (bucket 7) - 1000ms+': 0, 'file system read latency histogram total (msecs)': 1, 'file system write latency histogram (bucket 1) - 0-10ms': 321, 'file system write latency histogram (bucket 2) - 10-49ms': 0, 'file system write latency histogram (bucket 3) - 50-99ms': 0, 'file system write latency histogram (bucket 4) - 100-249ms': 0, 'file system write latency histogram (bucket 5) - 250-499ms': 0, 'file system write latency histogram (bucket 6) - 500-999ms': 0, 'file system write latency histogram (bucket 7) - 1000ms+': 0, 'file system write latency histogram total (msecs)': 25, 'operation read latency histogram (bucket 1) - 0-100us': 315, 'operation read latency histogram (bucket 2) - 100-249us': 0, 'operation read latency histogram (bucket 3) - 250-499us': 1, 'operation read latency histogram (bucket 4) - 500-999us': 0, 'operation read latency histogram (bucket 5) - 1000-9999us': 0, 'operation read latency histogram (bucket 6) - 10000us+': 0, 'operation read latency histogram total (usecs)': 474, 'operation write latency histogram (bucket 1) - 0-100us': 154, 'operation write latency histogram (bucket 2) - 100-249us': 0, 'operation write latency histogram (bucket 3) - 250-499us': 0, 'operation write latency histogram (bucket 4) - 500-999us': 0, 'operation write latency histogram (bucket 5) - 1000-9999us': 1, 'operation write latency histogram (bucket 6) - 10000us+': 0, 'operation write latency histogram total (usecs)': 1001}, 'prefetch': {'could not perform pre-fetch on internal page': 0, 'could not perform pre-fetch on ref without the pre-fetch flag set': 0, 'number of times pre-fetch failed to start': 0, 'pre-fetch not repeating for recently pre-fetched ref': 0, 'pre-fetch not triggered after single disk read': 0, 'pre-fetch not triggered as there is no valid dhandle': 0, 'pre-fetch not triggered by page read': 104, 'pre-fetch not triggered due to disk read count': 0, 'pre-fetch not triggered due to internal session': 0, 'pre-fetch not triggered due to special btree handle': 0, 'pre-fetch page not on disk when reading': 0, 'pre-fetch pages queued': 0, 'pre-fetch pages read in background': 0, 'pre-fetch skipped reading in a page due to harmless error': 0, 'pre-fetch triggered by page read': 0}, 'reconciliation': {'VLCS pages explicitly reconciled as empty': 0, 'approximate byte size of timestamps in pages written': 0, 'approximate byte size of transaction IDs in pages written': 504, 'fast-path pages deleted': 0, 'leaf-page overflow keys': 0, 'maximum milliseconds spent in a reconciliation call': 0, 'maximum milliseconds spent in building a disk image in a reconciliation': 0, 'maximum milliseconds spent in moving updates to the history store in a reconciliation': 0, 'overflow values written': 0, 'page reconciliation calls': 94, 'page reconciliation calls for eviction': 0, 'page reconciliation calls that resulted in values with prepared transaction metadata': 0, 'page reconciliation calls that resulted in values with timestamps': 0, 'page reconciliation calls that resulted in values with transaction ids': 25, 'pages deleted': 0, 'pages written including an aggregated newest start durable timestamp ': 0, 'pages written including an aggregated newest stop durable timestamp ': 0, 'pages written including an aggregated newest stop timestamp ': 0, 'pages written including an aggregated newest stop transaction ID': 0, 'pages written including an aggregated newest transaction ID ': 0, 'pages written including an aggregated oldest start timestamp ': 0, 'pages written including an aggregated prepare': 0, 'pages written including at least one prepare state': 0, 'pages written including at least one start durable timestamp': 0, 'pages written including at least one start timestamp': 0, 'pages written including at least one start transaction ID': 25, 'pages written including at least one stop durable timestamp': 0, 'pages written including at least one stop timestamp': 0, 'pages written including at least one stop transaction ID': 0, 'records written including a prepare state': 0, 'records written including a start durable timestamp': 0, 'records written including a start timestamp': 0, 'records written including a start transaction ID': 63, 'records written including a stop durable timestamp': 0, 'records written including a stop timestamp': 0, 'records written including a stop transaction ID': 0, 'split bytes currently awaiting free': 0, 'split objects currently awaiting free': 0}, 'session': {'attempts to remove a local object and the object is in use': 0, 'flush_tier failed calls': 0, 'flush_tier operation calls': 0, 'flush_tier tables skipped due to no checkpoint': 0, 'flush_tier tables switched': 0, 'local objects removed': 0, 'open session count': 24, 'session query timestamp calls': 0, 'table alter failed calls': 0, 'table alter successful calls': 0, 'table alter triggering checkpoint calls': 0, 'table alter unchanged and skipped': 0, 'table compact conflicted with checkpoint': 0, 'table compact dhandle successful calls': 0, 'table compact failed calls': 0, 'table compact failed calls due to cache pressure': 0, 'table compact passes': 0, 'table compact running': 0, 'table compact skipped as process would not reduce file size': 0, 'table compact successful calls': 0, 'table compact timeout': 0, 'table create failed calls': 0, 'table create successful calls': 9, 'table create with import failed calls': 0, 'table create with import successful calls': 0, 'table drop failed calls': 0, 'table drop successful calls': 0, 'table rename failed calls': 0, 'table rename successful calls': 0, 'table salvage failed calls': 0, 'table salvage successful calls': 0, 'table truncate failed calls': 0, 'table truncate successful calls': 0, 'table verify failed calls': 0, 'table verify successful calls': 0, 'tiered operations dequeued and processed': 0, 'tiered operations removed without processing': 0, 'tiered operations scheduled': 0, 'tiered storage local retention time (secs)': 0}, 'thread-state': {'active filesystem fsync calls': 0, 'active filesystem read calls': 0, 'active filesystem write calls': 0}, 'thread-yield': {'application thread operations waiting for cache': 0, 'application thread snapshot refreshed for eviction': 0, 'application thread time waiting for cache (usecs)': 0, 'connection close blocked waiting for transaction state stabilization': 0, 'connection close yielded for lsm manager shutdown': 0, 'data handle lock yielded': 0, 'get reference for page index and slot time sleeping (usecs)': 0, 'page access yielded due to prepare state change': 0, 'page acquire busy blocked': 0, 'page acquire eviction blocked': 0, 'page acquire locked blocked': 0, 'page acquire read blocked': 0, 'page acquire time sleeping (usecs)': 0, 'page delete rollback time sleeping for state change (usecs)': 0, 'page reconciliation yielded due to child modification': 0}, 'transaction': {'Number of prepared updates': 0, 'Number of prepared updates committed': 0, 'Number of prepared updates repeated on the same key': 0, 'Number of prepared updates rolled back': 0, 'a reader raced with a prepared transaction commit and skipped an update or updates': 0, 'number of times overflow removed value is read': 0, 'oldest pinned transaction ID rolled back for eviction': 0, 'prepared transactions': 0, 'prepared transactions committed': 0, 'prepared transactions currently active': 0, 'prepared transactions rolled back': 0, 'query timestamp calls': 1921, 'race to read prepared update retry': 0, 'rollback to stable calls': 0, 'rollback to stable history store keys that would have been swept in non-dryrun mode': 0, 'rollback to stable history store records with stop timestamps older than newer records': 0, 'rollback to stable inconsistent checkpoint': 0, 'rollback to stable keys removed': 0, 'rollback to stable keys restored': 0, 'rollback to stable keys that would have been removed in non-dryrun mode': 0, 'rollback to stable keys that would have been restored in non-dryrun mode': 0, 'rollback to stable pages visited': 0, 'rollback to stable restored tombstones from history store': 0, 'rollback to stable restored updates from history store': 0, 'rollback to stable skipping delete rle': 0, 'rollback to stable skipping stable rle': 0, 'rollback to stable sweeping history store keys': 0, 'rollback to stable tombstones from history store that would have been restored in non-dryrun mode': 0, 'rollback to stable tree walk skipping pages': 0, 'rollback to stable updates aborted': 0, 'rollback to stable updates from history store that would have been restored in non-dryrun mode': 0, 'rollback to stable updates removed from history store': 0, 'rollback to stable updates that would have been aborted in non-dryrun mode': 0, 'rollback to stable updates that would have been removed from history store in non-dryrun mode': 0, 'sessions scanned in each walk of concurrent sessions': 50356, 'set timestamp calls': 0, 'set timestamp durable calls': 0, 'set timestamp durable updates': 0, 'set timestamp force calls': 0, 'set timestamp global oldest timestamp set to be more recent than the global stable timestamp': 0, 'set timestamp oldest calls': 0, 'set timestamp oldest updates': 0, 'set timestamp stable calls': 0, 'set timestamp stable updates': 0, 'transaction begins': 84, 'transaction checkpoint history store file duration (usecs)': 0, 'transaction range of IDs currently pinned': 0, 'transaction range of IDs currently pinned by a checkpoint': 0, 'transaction range of timestamps currently pinned': 0, 'transaction range of timestamps pinned by a checkpoint': 0, 'transaction range of timestamps pinned by the oldest active read timestamp': 0, 'transaction range of timestamps pinned by the oldest timestamp': 0, 'transaction read timestamp of the oldest active reader': 0, 'transaction rollback to stable currently running': 0, 'transaction walk of concurrent sessions': 2099, 'transactions committed': 16, 'transactions rolled back': 68, 'update conflicts': 0}, 'snapshot-window-settings': {'total number of SnapshotTooOld errors': 0, 'minimum target snapshot window size in seconds': 300, 'current available snapshot window size in seconds': 0, 'latest majority snapshot timestamp available': 'Jan  1 00:00:00:0', 'oldest majority snapshot timestamp available': 'Jan  1 00:00:00:0', 'pinned timestamp requests': 0, 'min pinned timestamp': Timestamp(4294967295, 4294967295)}, 'oplog': {'visibility timestamp': Timestamp(0, 0)}}, 'mem': {'bits': 64, 'resident': 252, 'virtual': 4820, 'supported': True, 'secureAllocByteCount': 0, 'secureAllocBytesInPages': 0}, 'metrics': {'apiVersions': {'mongosh 2.3.3': ['default']}, 'abortExpiredTransactions': {'passes': 65}, 'aggStageCounters': {'$_addReshardingResumeId': 0, '$_analyzeShardKeyReadWriteDistribution': 0, '$_internalAllCollectionStats': 0, '$_internalApplyOplogUpdate': 0, '$_internalBoundedSort': 0, '$_internalChangeStreamAddPostImage': 0, '$_internalChangeStreamAddPreImage': 0, '$_internalChangeStreamCheckInvalidate': 0, '$_internalChangeStreamCheckResumability': 0, '$_internalChangeStreamCheckTopologyChange': 0, '$_internalChangeStreamHandleTopologyChange': 0, '$_internalChangeStreamOplogMatch': 0, '$_internalChangeStreamTransform': 0, '$_internalChangeStreamUnwindTransaction': 0, '$_internalComputeGeoNearDistance': 0, '$_internalConvertBucketIndexStats': 0, '$_internalDensify': 0, '$_internalFindAndModifyImageLookup': 0, '$_internalInhibitOptimization': 0, '$_internalProjection': 0, '$_internalReplaceRoot': 0, '$_internalReshardingIterateTransaction': 0, '$_internalReshardingOwnershipMatch': 0, '$_internalSearchIdLookup': 0, '$_internalSearchMongotRemote': 0, '$_internalSetWindowFields': 0, '$_internalShardServerInfo': 0, '$_internalShredDocuments': 0, '$_internalSplitPipeline': 0, '$_internalStreamingGroup': 0, '$_internalUnpackBucket': 0, '$_unpackBucket': 0, '$addFields': 0, '$bucket': 0, '$bucketAuto': 0, '$changeStream': 0, '$changeStreamSplitLargeEvent': 0, '$collStats': 0, '$count': 0, '$currentOp': 0, '$densify': 0, '$documents': 0, '$facet': 0, '$fill': 0, '$geoNear': 0, '$graphLookup': 0, '$group': 2, '$indexStats': 0, '$limit': 0, '$listCachedAndActiveUsers': 0, '$listCatalog': 0, '$listLocalSessions': 0, '$listSampledQueries': 0, '$listSearchIndexes': 0, '$listSessions': 0, '$lookup': 0, '$match': 2, '$merge': 0, '$mergeCursors': 0, '$operationMetrics': 0, '$out': 0, '$planCacheStats': 0, '$project': 0, '$querySettings': 0, '$queryStats': 0, '$queue': 0, '$redact': 0, '$replaceRoot': 0, '$replaceWith': 0, '$sample': 0, '$search': 0, '$searchBeta': 0, '$searchMeta': 0, '$set': 6, '$setVariableFromSubPipeline': 0, '$setWindowFields': 0, '$shardedDataDistribution': 0, '$skip': 0, '$sort': 0, '$sortByCount': 0, '$unionWith': 0, '$unset': 0, '$unwind': 0, '$vectorSearch': 0}, 'changeStreams': {'largeEventsFailed': 0, 'largeEventsSplit': 0, 'showExpandedEvents': 0}, 'commands': {'<UNKNOWN>': 2, '_addShard': {'failed': 0, 'rejected': 0, 'total': 0}, '_configsvrAbortReshardCollection': {'failed': 0, 'rejected': 0, 'total': 0}, '_configsvrAddShard': {'failed': 0, 'rejected': 0, 'total': 0}, '_configsvrAddShardToZone': {'failed': 0, 'rejected': 0, 'total': 0}, '_configsvrBalancerCollectionStatus': {'failed': 0, 'rejected': 0, 'total': 0}, '_configsvrBalancerStart': {'failed': 0, 'rejected': 0, 'total': 0}, '_configsvrBalancerStatus': {'failed': 0, 'rejected': 0, 'total': 0}, '_configsvrBalancerStop': {'failed': 0, 'rejected': 0, 'total': 0}, '_configsvrCheckClusterMetadataConsistency': {'failed': 0, 'rejected': 0, 'total': 0}, '_configsvrCheckMetadataConsistency': {'failed': 0, 'rejected': 0, 'total': 0}, '_configsvrCleanupReshardCollection': {'failed': 0, 'rejected': 0, 'total': 0}, '_configsvrClearJumboFlag': {'failed': 0, 'rejected': 0, 'total': 0}, '_configsvrCollMod': {'failed': 0, 'rejected': 0, 'total': 0}, '_configsvrCommitChunkMigration': {'failed': 0, 'rejected': 0, 'total': 0}, '_configsvrCommitChunkSplit': {'failed': 0, 'rejected': 0, 'total': 0}, '_configsvrCommitChunksMerge': {'failed': 0, 'rejected': 0, 'total': 0}, '_configsvrCommitIndex': {'failed': 0, 'rejected': 0, 'total': 0}, '_configsvrCommitMergeAllChunksOnShard': {'failed': 0, 'rejected': 0, 'total': 0}, '_configsvrCommitMovePrimary': {'failed': 0, 'rejected': 0, 'total': 0}, '_configsvrCommitRefineCollectionShardKey': {'failed': 0, 'rejected': 0, 'total': 0}, '_configsvrCommitReshardCollection': {'failed': 0, 'rejected': 0, 'total': 0}, '_configsvrConfigureCollectionBalancing': {'failed': 0, 'rejected': 0, 'total': 0}, '_configsvrCreateDatabase': {'failed': 0, 'rejected': 0, 'total': 0}, '_configsvrDropIndexCatalogEntry': {'failed': 0, 'rejected': 0, 'total': 0}, '_configsvrEnsureChunkVersionIsGreaterThan': {'failed': 0, 'rejected': 0, 'total': 0}, '_configsvrGetHistoricalPlacement': {'failed': 0, 'rejected': 0, 'total': 0}, '_configsvrMoveRange': {'failed': 0, 'rejected': 0, 'total': 0}, '_configsvrRefineCollectionShardKey': {'failed': 0, 'rejected': 0, 'total': 0}, '_configsvrRemoveChunks': {'failed': 0, 'rejected': 0, 'total': 0}, '_configsvrRemoveShard': {'failed': 0, 'rejected': 0, 'total': 0}, '_configsvrRemoveShardFromZone': {'failed': 0, 'rejected': 0, 'total': 0}, '_configsvrRemoveTags': {'failed': 0, 'rejected': 0, 'total': 0}, '_configsvrRepairShardedCollectionChunksHistory': {'failed': 0, 'rejected': 0, 'total': 0}, '_configsvrResetPlacementHistory': {'failed': 0, 'rejected': 0, 'total': 0}, '_configsvrReshardCollection': {'failed': 0, 'rejected': 0, 'total': 0}, '_configsvrRunRestore': {'failed': 0, 'rejected': 0, 'total': 0}, '_configsvrSetAllowMigrations': {'failed': 0, 'rejected': 0, 'total': 0}, '_configsvrSetClusterParameter': {'failed': 0, 'rejected': 0, 'total': 0}, '_configsvrSetUserWriteBlockMode': {'failed': 0, 'rejected': 0, 'total': 0}, '_configsvrTransitionFromDedicatedConfigServer': {'failed': 0, 'rejected': 0, 'total': 0}, '_configsvrTransitionToDedicatedConfigServer': {'failed': 0, 'rejected': 0, 'total': 0}, '_configsvrUpdateZoneKeyRange': {'failed': 0, 'rejected': 0, 'total': 0}, '_flushDatabaseCacheUpdates': {'failed': 0, 'rejected': 0, 'total': 0}, '_flushDatabaseCacheUpdatesWithWriteConcern': {'failed': 0, 'rejected': 0, 'total': 0}, '_flushReshardingStateChange': {'failed': 0, 'rejected': 0, 'total': 0}, '_flushRoutingTableCacheUpdates': {'failed': 0, 'rejected': 0, 'total': 0}, '_flushRoutingTableCacheUpdatesWithWriteConcern': {'failed': 0, 'rejected': 0, 'total': 0}, '_getNextSessionMods': {'failed': 0, 'rejected': 0, 'total': 0}, '_getUserCacheGeneration': {'failed': 0, 'rejected': 0, 'total': 0}, '_isSelf': {'failed': 0, 'rejected': 0, 'total': 0}, '_killOperations': {'failed': 0, 'rejected': 0, 'total': 0}, '_mergeAuthzCollections': {'failed': 0, 'rejected': 0, 'total': 0}, '_migrateClone': {'failed': 0, 'rejected': 0, 'total': 0}, '_recvChunkAbort': {'failed': 0, 'rejected': 0, 'total': 0}, '_recvChunkCommit': {'failed': 0, 'rejected': 0, 'total': 0}, '_recvChunkReleaseCritSec': {'failed': 0, 'rejected': 0, 'total': 0}, '_recvChunkStart': {'failed': 0, 'rejected': 0, 'total': 0}, '_recvChunkStatus': {'failed': 0, 'rejected': 0, 'total': 0}, '_refreshQueryAnalyzerConfiguration': {'failed': 0, 'rejected': 0, 'total': 0}, '_shardsvrAbortReshardCollection': {'failed': 0, 'rejected': 0, 'total': 0}, '_shardsvrBeginMigrationBlockingOperation': {'failed': 0, 'rejected': 0, 'total': 0}, '_shardsvrChangePrimary': {'failed': 0, 'rejected': 0, 'total': 0}, '_shardsvrCheckMetadataConsistency': {'failed': 0, 'rejected': 0, 'total': 0}, '_shardsvrCheckMetadataConsistencyParticipant': {'failed': 0, 'rejected': 0, 'total': 0}, '_shardsvrCleanupReshardCollection': {'failed': 0, 'rejected': 0, 'total': 0}, '_shardsvrCleanupStructuredEncryptionData': {'failed': 0, 'rejected': 0, 'total': 0}, '_shardsvrCloneCatalogData': {'failed': 0, 'rejected': 0, 'total': 0}, '_shardsvrCollMod': {'failed': 0, 'rejected': 0, 'total': 0}, '_shardsvrCollModParticipant': {'failed': 0, 'rejected': 0, 'total': 0}, '_shardsvrCommitIndexParticipant': {'failed': 0, 'rejected': 0, 'total': 0}, '_shardsvrCommitReshardCollection': {'failed': 0, 'rejected': 0, 'total': 0}, '_shardsvrCompactStructuredEncryptionData': {'failed': 0, 'rejected': 0, 'total': 0}, '_shardsvrConvertToCapped': {'failed': 0, 'rejected': 0, 'total': 0}, '_shardsvrConvertToCappedParticipant': {'failed': 0, 'rejected': 0, 'total': 0}, '_shardsvrCoordinateMultiUpdate': {'failed': 0, 'rejected': 0, 'total': 0}, '_shardsvrCreateCollection': {'failed': 0, 'rejected': 0, 'total': 0}, '_shardsvrCreateCollectionParticipant': {'failed': 0, 'rejected': 0, 'total': 0}, '_shardsvrDropCollection': {'failed': 0, 'rejected': 0, 'total': 0}, '_shardsvrDropCollectionIfUUIDNotMatchingWithWriteConcern': {'failed': 0, 'rejected': 0, 'total': 0}, '_shardsvrDropCollectionParticipant': {'failed': 0, 'rejected': 0, 'total': 0}, '_shardsvrDropDatabase': {'failed': 0, 'rejected': 0, 'total': 0}, '_shardsvrDropDatabaseParticipant': {'failed': 0, 'rejected': 0, 'total': 0}, '_shardsvrDropIndexCatalogEntryParticipant': {'failed': 0, 'rejected': 0, 'total': 0}, '_shardsvrDropIndexes': {'failed': 0, 'rejected': 0, 'total': 0}, '_shardsvrEndMigrationBlockingOperation': {'failed': 0, 'rejected': 0, 'total': 0}, '_shardsvrGetStatsForBalancing': {'failed': 0, 'rejected': 0, 'total': 0}, '_shardsvrJoinDDLCoordinators': {'failed': 0, 'rejected': 0, 'total': 0}, '_shardsvrJoinMigrations': {'failed': 0, 'rejected': 0, 'total': 0}, '_shardsvrMergeAllChunksOnShard': {'failed': 0, 'rejected': 0, 'total': 0}, '_shardsvrMovePrimary': {'failed': 0, 'rejected': 0, 'total': 0}, '_shardsvrMovePrimaryEnterCriticalSection': {'failed': 0, 'rejected': 0, 'total': 0}, '_shardsvrMovePrimaryExitCriticalSection': {'failed': 0, 'rejected': 0, 'total': 0}, '_shardsvrMoveRange': {'failed': 0, 'rejected': 0, 'total': 0}, '_shardsvrNotifyShardingEvent': {'failed': 0, 'rejected': 0, 'total': 0}, '_shardsvrParticipantBlock': {'failed': 0, 'rejected': 0, 'total': 0}, '_shardsvrRefineCollectionShardKey': {'failed': 0, 'rejected': 0, 'total': 0}, '_shardsvrRenameCollection': {'failed': 0, 'rejected': 0, 'total': 0}, '_shardsvrRenameCollectionParticipant': {'failed': 0, 'rejected': 0, 'total': 0}, '_shardsvrRenameCollectionParticipantUnblock': {'failed': 0, 'rejected': 0, 'total': 0}, '_shardsvrRenameIndexMetadata': {'failed': 0, 'rejected': 0, 'total': 0}, '_shardsvrReshardCollection': {'failed': 0, 'rejected': 0, 'total': 0}, '_shardsvrReshardingOperationTime': {'failed': 0, 'rejected': 0, 'total': 0}, '_shardsvrSetAllowMigrations': {'failed': 0, 'rejected': 0, 'total': 0}, '_shardsvrSetClusterParameter': {'failed': 0, 'rejected': 0, 'total': 0}, '_shardsvrSetUserWriteBlockMode': {'failed': 0, 'rejected': 0, 'total': 0}, '_shardsvrUntrackUnsplittableCollection': {'failed': 0, 'rejected': 0, 'total': 0}, '_shardsvrValidateShardKeyCandidate': {'failed': 0, 'rejected': 0, 'total': 0}, '_transferMods': {'failed': 0, 'rejected': 0, 'total': 0}, 'abortShardSplit': {'failed': 0, 'rejected': 0, 'total': 0}, 'abortTransaction': {'failed': 0, 'rejected': 0, 'total': 0}, 'aggregate': {'failed': 0, 'rejected': 0, 'total': 2}, 'analyze': {'failed': 0, 'rejected': 0, 'total': 0}, 'analyzeShardKey': {'failed': 0, 'rejected': 0, 'total': 0}, 'appendOplogNote': {'failed': 0, 'rejected': 0, 'total': 0}, 'applyOps': {'failed': 0, 'rejected': 0, 'total': 0}, 'authenticate': {'failed': 0, 'rejected': 0, 'total': 0}, 'autoCompact': {'failed': 0, 'rejected': 0, 'total': 0}, 'autoSplitVector': {'failed': 0, 'rejected': 0, 'total': 0}, 'buildInfo': {'failed': 0, 'rejected': 0, 'total': 2}, 'bulkWrite': {'arrayFilters': 0, 'failed': 0, 'pipeline': 0, 'rejected': 0, 'total': 0}, 'checkShardingIndex': {'failed': 0, 'rejected': 0, 'total': 0}, 'cleanupOrphaned': {'failed': 0, 'rejected': 0, 'total': 0}, 'cleanupStructuredEncryptionData': {'failed': 0, 'rejected': 0, 'total': 0}, 'cloneCollectionAsCapped': {'failed': 0, 'rejected': 0, 'total': 0}, 'clusterAbortTransaction': {'failed': 0, 'rejected': 0, 'total': 0}, 'clusterAggregate': {'failed': 0, 'rejected': 0, 'total': 0}, 'clusterBulkWrite': {'failed': 0, 'rejected': 0, 'total': 0}, 'clusterCommitTransaction': {'failed': 0, 'rejected': 0, 'total': 0}, 'clusterCount': {'failed': 0, 'rejected': 0, 'total': 0}, 'clusterDelete': {'failed': 0, 'rejected': 0, 'total': 0}, 'clusterFind': {'failed': 0, 'rejected': 0, 'total': 0}, 'clusterGetMore': {'failed': 0, 'rejected': 0, 'total': 0}, 'clusterInsert': {'failed': 0, 'rejected': 0, 'total': 0}, 'clusterUpdate': {'arrayFilters': 0, 'failed': 0, 'pipeline': 0, 'rejected': 0, 'total': 0}, 'collMod': {'failed': 0, 'rejected': 0, 'total': 0, 'validator': {'failed': 0, 'jsonSchema': 0, 'total': 0}}, 'collStats': {'failed': 0, 'rejected': 0, 'total': 0}, 'commitShardSplit': {'failed': 0, 'rejected': 0, 'total': 0}, 'commitTransaction': {'failed': 0, 'rejected': 0, 'total': 0}, 'compact': {'failed': 0, 'rejected': 0, 'total': 0}, 'compactStructuredEncryptionData': {'failed': 0, 'rejected': 0, 'total': 0}, 'configureQueryAnalyzer': {'failed': 0, 'rejected': 0, 'total': 0}, 'connPoolStats': {'failed': 0, 'rejected': 0, 'total': 0}, 'connPoolSync': {'failed': 0, 'rejected': 0, 'total': 0}, 'connectionStatus': {'failed': 0, 'rejected': 0, 'total': 0}, 'convertToCapped': {'failed': 0, 'rejected': 0, 'total': 0}, 'coordinateCommitTransaction': {'failed': 0, 'rejected': 0, 'total': 0}, 'count': {'failed': 0, 'rejected': 0, 'total': 0}, 'create': {'failed': 0, 'rejected': 0, 'total': 0, 'validator': {'failed': 0, 'jsonSchema': 0, 'total': 0}}, 'createIndexes': {'failed': 0, 'rejected': 0, 'total': 1}, 'createRole': {'failed': 0, 'rejected': 0, 'total': 0}, 'createSearchIndexes': {'failed': 0, 'rejected': 0, 'total': 0}, 'createUser': {'failed': 0, 'rejected': 0, 'total': 0}, 'currentOp': {'failed': 0, 'rejected': 0, 'total': 0}, 'dataSize': {'failed': 0, 'rejected': 0, 'total': 0}, 'dbCheck': {'failed': 0, 'rejected': 0, 'total': 0}, 'dbHash': {'failed': 0, 'rejected': 0, 'total': 0}, 'dbStats': {'failed': 0, 'rejected': 0, 'total': 0}, 'delete': {'failed': 0, 'rejected': 0, 'total': 1}, 'distinct': {'failed': 0, 'rejected': 0, 'total': 0}, 'donorAbortMigration': {'failed': 0, 'rejected': 0, 'total': 0}, 'donorForgetMigration': {'failed': 0, 'rejected': 0, 'total': 0}, 'donorStartMigration': {'failed': 0, 'rejected': 0, 'total': 0}, 'drop': {'failed': 0, 'rejected': 0, 'total': 0}, 'dropAllRolesFromDatabase': {'failed': 0, 'rejected': 0, 'total': 0}, 'dropAllUsersFromDatabase': {'failed': 0, 'rejected': 0, 'total': 0}, 'dropConnections': {'failed': 0, 'rejected': 0, 'total': 0}, 'dropDatabase': {'failed': 0, 'rejected': 0, 'total': 0}, 'dropIndexes': {'failed': 0, 'rejected': 0, 'total': 0}, 'dropRole': {'failed': 0, 'rejected': 0, 'total': 0}, 'dropSearchIndex': {'failed': 0, 'rejected': 0, 'total': 0}, 'dropUser': {'failed': 0, 'rejected': 0, 'total': 0}, 'endSessions': {'failed': 0, 'rejected': 0, 'total': 1}, 'explain': {'failed': 0, 'rejected': 0, 'total': 0}, 'features': {'failed': 0, 'rejected': 0, 'total': 0}, 'filemd5': {'failed': 0, 'rejected': 0, 'total': 0}, 'find': {'failed': 0, 'rejected': 0, 'total': 6}, 'findAndModify': {'arrayFilters': 0, 'failed': 0, 'pipeline': 0, 'rejected': 0, 'total': 0}, 'flushRouterConfig': {'failed': 0, 'rejected': 0, 'total': 0}, 'forgetShardSplit': {'failed': 0, 'rejected': 0, 'total': 0}, 'fsync': {'failed': 0, 'rejected': 0, 'total': 0}, 'fsyncUnlock': {'failed': 0, 'rejected': 0, 'total': 0}, 'getChangeStreamState': {'failed': 0, 'rejected': 0, 'total': 0}, 'getClusterParameter': {'failed': 0, 'rejected': 0, 'total': 0}, 'getCmdLineOpts': {'failed': 0, 'rejected': 0, 'total': 0}, 'getDatabaseVersion': {'failed': 0, 'rejected': 0, 'total': 0}, 'getDefaultRWConcern': {'failed': 0, 'rejected': 0, 'total': 0}, 'getDiagnosticData': {'failed': 0, 'rejected': 0, 'total': 0}, 'getLog': {'failed': 0, 'rejected': 0, 'total': 2}, 'getMore': {'failed': 0, 'rejected': 0, 'total': 0}, 'getParameter': {'failed': 0, 'rejected': 0, 'total': 2}, 'getQueryableEncryptionCountInfo': {'failed': 0, 'rejected': 0, 'total': 0}, 'getShardMap': {'failed': 0, 'rejected': 0, 'total': 0}, 'getShardVersion': {'failed': 0, 'rejected': 0, 'total': 0}, 'grantPrivilegesToRole': {'failed': 0, 'rejected': 0, 'total': 0}, 'grantRolesToRole': {'failed': 0, 'rejected': 0, 'total': 0}, 'grantRolesToUser': {'failed': 0, 'rejected': 0, 'total': 0}, 'hello': {'failed': 1, 'rejected': 0, 'total': 340}, 'hostInfo': {'failed': 0, 'rejected': 0, 'total': 0}, 'insert': {'failed': 0, 'rejected': 0, 'total': 0}, 'internalRenameIfOptionsAndIndexesMatch': {'failed': 0, 'rejected': 0, 'total': 0}, 'invalidateUserCache': {'failed': 0, 'rejected': 0, 'total': 0}, 'isMaster': {'failed': 0, 'rejected': 0, 'total': 20}, 'killAllSessions': {'failed': 0, 'rejected': 0, 'total': 0}, 'killAllSessionsByPattern': {'failed': 0, 'rejected': 0, 'total': 0}, 'killCursors': {'failed': 0, 'rejected': 0, 'total': 0}, 'killOp': {'failed': 0, 'rejected': 0, 'total': 0}, 'killSessions': {'failed': 0, 'rejected': 0, 'total': 0}, 'listCollections': {'failed': 0, 'rejected': 0, 'total': 1}, 'listCommands': {'failed': 0, 'rejected': 0, 'total': 0}, 'listDatabases': {'failed': 0, 'rejected': 0, 'total': 2}, 'listDatabasesForAllTenants': {'failed': 0, 'rejected': 0, 'total': 0}, 'listIndexes': {'failed': 2, 'rejected': 0, 'total': 14}, 'listSearchIndexes': {'failed': 0, 'rejected': 0, 'total': 0}, 'lockInfo': {'failed': 0, 'rejected': 0, 'total': 0}, 'logRotate': {'failed': 0, 'rejected': 0, 'total': 0}, 'logout': {'failed': 0, 'rejected': 0, 'total': 0}, 'mapReduce': {'failed': 0, 'rejected': 0, 'total': 0}, 'mergeChunks': {'failed': 0, 'rejected': 0, 'total': 0}, 'ping': {'failed': 0, 'rejected': 0, 'total': 2}, 'planCacheClear': {'failed': 0, 'rejected': 0, 'total': 0}, 'planCacheClearFilters': {'failed': 0, 'rejected': 0, 'total': 0}, 'planCacheListFilters': {'failed': 0, 'rejected': 0, 'total': 0}, 'planCacheSetFilter': {'failed': 0, 'rejected': 0, 'total': 0}, 'prepareTransaction': {'failed': 0, 'rejected': 0, 'total': 0}, 'profile': {'failed': 0, 'rejected': 0, 'total': 0}, 'reIndex': {'failed': 0, 'rejected': 0, 'total': 0}, 'recipientForgetMigration': {'failed': 0, 'rejected': 0, 'total': 0}, 'recipientSyncData': {'failed': 0, 'rejected': 0, 'total': 0}, 'recipientVoteImportedFiles': {'failed': 0, 'rejected': 0, 'total': 0}, 'refreshSessions': {'failed': 0, 'rejected': 0, 'total': 0}, 'removeQuerySettings': {'failed': 0, 'rejected': 0, 'total': 0}, 'renameCollection': {'failed': 0, 'rejected': 0, 'total': 0}, 'replSetAbortPrimaryCatchUp': {'failed': 0, 'rejected': 0, 'total': 0}, 'replSetFreeze': {'failed': 0, 'rejected': 0, 'total': 0}, 'replSetGetConfig': {'failed': 0, 'rejected': 0, 'total': 0}, 'replSetGetRBID': {'failed': 0, 'rejected': 0, 'total': 0}, 'replSetGetStatus': {'failed': 0, 'rejected': 0, 'total': 0}, 'replSetHeartbeat': {'failed': 0, 'rejected': 0, 'total': 0}, 'replSetInitiate': {'failed': 0, 'rejected': 0, 'total': 0}, 'replSetMaintenance': {'failed': 0, 'rejected': 0, 'total': 0}, 'replSetReconfig': {'failed': 0, 'rejected': 0, 'total': 0}, 'replSetRequestVotes': {'failed': 0, 'rejected': 0, 'total': 0}, 'replSetResizeOplog': {'failed': 0, 'rejected': 0, 'total': 0}, 'replSetStepDown': {'failed': 0, 'rejected': 0, 'total': 0}, 'replSetStepDownWithForce': {'failed': 0, 'total': 0}, 'replSetStepUp': {'failed': 0, 'rejected': 0, 'total': 0}, 'replSetSyncFrom': {'failed': 0, 'rejected': 0, 'total': 0}, 'replSetUpdatePosition': {'failed': 0, 'rejected': 0, 'total': 0}, 'revokePrivilegesFromRole': {'failed': 0, 'rejected': 0, 'total': 0}, 'revokeRolesFromRole': {'failed': 0, 'rejected': 0, 'total': 0}, 'revokeRolesFromUser': {'failed': 0, 'rejected': 0, 'total': 0}, 'rolesInfo': {'failed': 0, 'rejected': 0, 'total': 0}, 'rotateCertificates': {'failed': 0, 'rejected': 0, 'total': 0}, 'rotateFTDC': {'failed': 0, 'rejected': 0, 'total': 0}, 'saslContinue': {'failed': 0, 'rejected': 0, 'total': 0}, 'saslStart': {'failed': 0, 'rejected': 0, 'total': 0}, 'serverStatus': {'failed': 0, 'rejected': 0, 'total': 3}, 'setChangeStreamState': {'failed': 0, 'rejected': 0, 'total': 0}, 'setClusterParameter': {'failed': 0, 'rejected': 0, 'total': 0}, 'setDefaultRWConcern': {'failed': 0, 'rejected': 0, 'total': 0}, 'setFeatureCompatibilityVersion': {'failed': 0, 'rejected': 0, 'total': 0}, 'setIndexCommitQuorum': {'failed': 0, 'rejected': 0, 'total': 0}, 'setParameter': {'failed': 0, 'rejected': 0, 'total': 0}, 'setProfilingFilterGlobally': {'failed': 0, 'rejected': 0, 'total': 0}, 'setQuerySettings': {'failed': 0, 'rejected': 0, 'total': 0}, 'setUserWriteBlockMode': {'failed': 0, 'rejected': 0, 'total': 0}, 'shardingState': {'failed': 0, 'rejected': 0, 'total': 0}, 'shutdown': {'failed': 0, 'rejected': 0, 'total': 0}, 'splitChunk': {'failed': 0, 'rejected': 0, 'total': 0}, 'splitVector': {'failed': 0, 'rejected': 0, 'total': 0}, 'startRecordingTraffic': {'failed': 0, 'rejected': 0, 'total': 0}, 'startSession': {'failed': 0, 'rejected': 0, 'total': 0}, 'stopRecordingTraffic': {'failed': 0, 'rejected': 0, 'total': 0}, 'top': {'failed': 0, 'rejected': 0, 'total': 0}, 'transitionToShardedCluster': {'failed': 0, 'rejected': 0, 'total': 0}, 'update': {'arrayFilters': 0, 'failed': 0, 'pipeline': 6, 'rejected': 0, 'total': 3}, 'updateRole': {'failed': 0, 'rejected': 0, 'total': 0}, 'updateSearchIndex': {'failed': 0, 'rejected': 0, 'total': 0}, 'updateUser': {'failed': 0, 'rejected': 0, 'total': 0}, 'usersInfo': {'failed': 0, 'rejected': 0, 'total': 0}, 'validate': {'failed': 0, 'rejected': 0, 'total': 0}, 'validateDBMetadata': {'failed': 0, 'rejected': 0, 'total': 0}, 'voteAbortIndexBuild': {'failed': 0, 'rejected': 0, 'total': 0}, 'voteCommitIndexBuild': {'failed': 0, 'rejected': 0, 'total': 0}, 'waitForFailPoint': {'failed': 0, 'rejected': 0, 'total': 0}, 'whatsmyuri': {'failed': 0, 'rejected': 0, 'total': 0}}, 'cursor': {'moreThanOneBatch': 0, 'timedOut': 0, 'totalOpened': 0, 'lifespan': {'greaterThanOrEqual10Minutes': 0, 'lessThan10Minutes': 0, 'lessThan15Seconds': 0, 'lessThan1Minute': 0, 'lessThan1Second': 0, 'lessThan30Seconds': 0, 'lessThan5Seconds': 0}, 'open': {'multiTarget': 0, 'noTimeout': 0, 'pinned': 0, 'queuedData': 0, 'singleTarget': 0, 'total': 0}}, 'diskSpaceMonitor': {'passes': 1920, 'tookAction': 0}, 'document': {'deleted': 2, 'inserted': 0, 'returned': 0, 'updated': 2}, 'dotsAndDollarsFields': {'inserts': 0, 'updates': 0}, 'getLastError': {'wtime': {'num': 0, 'totalMillis': 0}, 'wtimeouts': 0, 'default': {'unsatisfiable': 0, 'wtimeouts': 0}}, 'mongos': {'cursor': {'moreThanOneBatch': 0, 'totalOpened': 0}, 'shardRegistry': {'blockedOpsGauge': 0}}, 'network': {'totalEgressConnectionEstablishmentTimeMillis': 0, 'totalIngressTLSConnections': 0, 'totalIngressTLSHandshakeTimeMillis': 0, 'totalTimeForEgressConnectionAcquiredToWireMicros': 0, 'totalTimeToFirstNonAuthCommandMillis': 25}, 'operation': {'killedDueToClientDisconnect': 1, 'killedDueToDefaultMaxTimeMSExpired': 0, 'killedDueToMaxTimeMSExpired': 0, 'numConnectionNetworkTimeouts': 0, 'scanAndOrder': 0, 'temporarilyUnavailableErrors': 0, 'temporarilyUnavailableErrorsConvertedToWriteConflict': 0, 'temporarilyUnavailableErrorsEscaped': 0, 'totalTimeWaitingBeforeConnectionTimeoutMillis': 0, 'transactionTooLargeForCacheErrors': 0, 'transactionTooLargeForCacheErrorsConvertedToWriteConflict': 0, 'unsendableCompletedResponses': 0, 'writeConflicts': 0}, 'operatorCounters': {'expressions': {'$_internalFindAllValuesAtPath': 0, '$_internalFleBetween': 0, '$_internalFleEq': 0, '$_internalIndexKey': 0, '$_internalJsEmit': 0, '$_internalKeyStringValue': 0, '$_internalOwningShard': 0, '$abs': 0, '$acos': 0, '$acosh': 0, '$add': 0, '$allElementsTrue': 0, '$and': 0, '$anyElementTrue': 0, '$arrayElemAt': 0, '$arrayToObject': 0, '$asin': 0, '$asinh': 0, '$atan': 0, '$atan2': 0, '$atanh': 0, '$avg': 0, '$binarySize': 0, '$bitAnd': 0, '$bitNot': 0, '$bitOr': 0, '$bitXor': 0, '$bsonSize': 0, '$ceil': 0, '$cmp': 0, '$concat': 0, '$concatArrays': 0, '$cond': 0, '$const': 0, '$convert': 0, '$cos': 0, '$cosh': 0, '$dateAdd': 0, '$dateDiff': 0, '$dateFromParts': 0, '$dateFromString': 0, '$dateSubtract': 0, '$dateToParts': 0, '$dateToString': 0, '$dateTrunc': 0, '$dayOfMonth': 0, '$dayOfWeek': 0, '$dayOfYear': 0, '$degreesToRadians': 0, '$divide': 0, '$eq': 0, '$exp': 0, '$expr': 0, '$filter': 0, '$first': 0, '$firstN': 0, '$floor': 0, '$function': 0, '$getField': 0, '$gt': 0, '$gte': 0, '$hour': 0, '$ifNull': 0, '$in': 0, '$indexOfArray': 0, '$indexOfBytes': 0, '$indexOfCP': 0, '$isArray': 0, '$isNumber': 0, '$isoDayOfWeek': 0, '$isoWeek': 0, '$isoWeekYear': 0, '$last': 0, '$lastN': 0, '$let': 0, '$literal': 0, '$ln': 0, '$log': 0, '$log10': 0, '$lt': 0, '$lte': 0, '$ltrim': 0, '$map': 0, '$max': 0, '$maxN': 0, '$median': 0, '$mergeObjects': 0, '$meta': 0, '$millisecond': 0, '$min': 0, '$minN': 0, '$minute': 0, '$mod': 0, '$month': 0, '$multiply': 0, '$ne': 0, '$not': 0, '$objectToArray': 0, '$or': 0, '$percentile': 0, '$pow': 0, '$radiansToDegrees': 0, '$rand': 0, '$range': 0, '$reduce': 0, '$regexFind': 0, '$regexFindAll': 0, '$regexMatch': 0, '$replaceAll': 0, '$replaceOne': 0, '$reverseArray': 0, '$round': 0, '$rtrim': 0, '$second': 0, '$setDifference': 0, '$setEquals': 0, '$setField': 0, '$setIntersection': 0, '$setIsSubset': 0, '$setUnion': 0, '$sin': 0, '$sinh': 0, '$size': 0, '$slice': 0, '$sortArray': 0, '$split': 0, '$sqrt': 0, '$stdDevPop': 0, '$stdDevSamp': 0, '$strLenBytes': 0, '$strLenCP': 0, '$strcasecmp': 0, '$substr': 0, '$substrBytes': 0, '$substrCP': 0, '$subtract': 0, '$sum': 0, '$switch': 0, '$tan': 0, '$tanh': 0, '$toBool': 0, '$toDate': 0, '$toDecimal': 0, '$toDouble': 0, '$toHashedIndexKey': 0, '$toInt': 0, '$toLong': 0, '$toLower': 0, '$toObjectId': 0, '$toString': 0, '$toUUID': 0, '$toUpper': 0, '$trim': 0, '$trunc': 0, '$tsIncrement': 0, '$tsSecond': 0, '$type': 0, '$unsetField': 0, '$week': 0, '$year': 0, '$zip': 0}, 'groupAccumulators': {'$_internalConstructStats': 0, '$_internalJsReduce': 0, '$accumulator': 0, '$addToSet': 0, '$avg': 0, '$bottom': 0, '$bottomN': 0, '$count': 0, '$first': 0, '$firstN': 0, '$last': 0, '$lastN': 0, '$max': 0, '$maxN': 0, '$median': 0, '$mergeObjects': 0, '$min': 0, '$minN': 0, '$percentile': 0, '$push': 0, '$stdDevPop': 0, '$stdDevSamp': 0, '$sum': 2, '$top': 0, '$topN': 0}, 'match': {'$all': 0, '$alwaysFalse': 0, '$alwaysTrue': 0, '$and': 0, '$bitsAllClear': 0, '$bitsAllSet': 0, '$bitsAnyClear': 0, '$bitsAnySet': 0, '$comment': 0, '$elemMatch': 0, '$eq': 2, '$exists': 0, '$expr': 0, '$geoIntersects': 0, '$geoWithin': 0, '$gt': 0, '$gte': 0, '$in': 0, '$jsonSchema': 0, '$lt': 6, '$lte': 0, '$mod': 0, '$ne': 0, '$near': 0, '$nearSphere': 0, '$nin': 0, '$nor': 0, '$not': 0, '$or': 0, '$regex': 0, '$sampleRate': 0, '$size': 0, '$text': 0, '$type': 0, '$where': 0}, 'windowAccumulators': {'$addToSet': 0, '$avg': 0, '$bottom': 0, '$bottomN': 0, '$count': 0, '$covariancePop': 0, '$covarianceSamp': 0, '$denseRank': 0, '$derivative': 0, '$documentNumber': 0, '$expMovingAvg': 0, '$first': 0, '$firstN': 0, '$integral': 0, '$last': 0, '$lastN': 0, '$linearFill': 0, '$locf': 0, '$max': 0, '$maxN': 0, '$median': 0, '$min': 0, '$minN': 0, '$percentile': 0, '$push': 0, '$rank': 0, '$shift': 0, '$stdDevPop': 0, '$stdDevSamp': 0, '$sum': 0, '$top': 0, '$topN': 0}}, 'query': {'allowDiskUseFalse': 0, 'deleteManyCount': 0, 'deleteOneNonTargetedShardedCount': 0, 'deleteOneTargetedShardedCount': 0, 'deleteOneUnshardedCount': 0, 'deleteOneWithoutShardKeyWithIdCount': 0, 'deleteOneWithoutShardKeyWithIdRetryCount': 0, 'externalRetryableWriteCount': 0, 'findAndModifyNonTargetedShardedCount': 0, 'findAndModifyTargetedShardedCount': 0, 'findAndModifyUnshardedCount': 0, 'internalRetryableWriteCount': 0, 'nonRetryableDeleteOneWithoutShardKeyWithIdCount': 0, 'nonRetryableUpdateOneWithoutShardKeyWithIdCount': 0, 'recordIdDeduplicationSwitchedToRoaring': 0, 'retryableInternalTransactionCount': 0, 'updateDeleteManyDocumentsMaxCount': 0, 'updateDeleteManyDocumentsTotalCount': 0, 'updateDeleteManyDurationMaxMs': 0, 'updateDeleteManyDurationTotalMs': 0, 'updateManyCount': 0, 'updateOneNonTargetedShardedCount': 0, 'updateOneOpStyleBroadcastWithExactIDCount': 0, 'updateOneTargetedShardedCount': 0, 'updateOneUnshardedCount': 0, 'updateOneWithoutShardKeyWithIdCount': 0, 'updateOneWithoutShardKeyWithIdRetryCount': 0, 'group': {'spilledBytes': 0, 'spilledDataStorageSize': 0, 'spilledRecords': 0, 'spills': 0}, 'lookup': {'hashLookup': 0, 'hashLookupSpillToDisk': 0, 'hashLookupSpillToDiskBytes': 0, 'indexedLoopJoin': 0, 'nestedLoopJoin': 0}, 'multiPlanner': {'classicCount': 0, 'classicMicros': 0, 'classicWorks': 0, 'sbeCount': 0, 'sbeMicros': 0, 'sbeNumReads': 0, 'histograms': {'classicMicros': [{'lowerBound': 0, 'count': 0}, {'lowerBound': 1024, 'count': 0}, {'lowerBound': 4096, 'count': 0}, {'lowerBound': 16384, 'count': 0}, {'lowerBound': 65536, 'count': 0}, {'lowerBound': 262144, 'count': 0}, {'lowerBound': 1048576, 'count': 0}, {'lowerBound': 4194304, 'count': 0}, {'lowerBound': 16777216, 'count': 0}, {'lowerBound': 67108864, 'count': 0}, {'lowerBound': 268435456, 'count': 0}, {'lowerBound': 1073741824, 'count': 0}], 'classicNumPlans': [{'lowerBound': 0, 'count': 0}, {'lowerBound': 2, 'count': 0}, {'lowerBound': 4, 'count': 0}, {'lowerBound': 8, 'count': 0}, {'lowerBound': 16, 'count': 0}, {'lowerBound': 32, 'count': 0}], 'classicWorks': [{'lowerBound': 0, 'count': 0}, {'lowerBound': 128, 'count': 0}, {'lowerBound': 256, 'count': 0}, {'lowerBound': 512, 'count': 0}, {'lowerBound': 1024, 'count': 0}, {'lowerBound': 2048, 'count': 0}, {'lowerBound': 4096, 'count': 0}, {'lowerBound': 8192, 'count': 0}, {'lowerBound': 16384, 'count': 0}, {'lowerBound': 32768, 'count': 0}], 'sbeMicros': [{'lowerBound': 0, 'count': 0}, {'lowerBound': 1024, 'count': 0}, {'lowerBound': 4096, 'count': 0}, {'lowerBound': 16384, 'count': 0}, {'lowerBound': 65536, 'count': 0}, {'lowerBound': 262144, 'count': 0}, {'lowerBound': 1048576, 'count': 0}, {'lowerBound': 4194304, 'count': 0}, {'lowerBound': 16777216, 'count': 0}, {'lowerBound': 67108864, 'count': 0}, {'lowerBound': 268435456, 'count': 0}, {'lowerBound': 1073741824, 'count': 0}], 'sbeNumPlans': [{'lowerBound': 0, 'count': 0}, {'lowerBound': 2, 'count': 0}, {'lowerBound': 4, 'count': 0}, {'lowerBound': 8, 'count': 0}, {'lowerBound': 16, 'count': 0}, {'lowerBound': 32, 'count': 0}], 'sbeNumReads': [{'lowerBound': 0, 'count': 0}, {'lowerBound': 128, 'count': 0}, {'lowerBound': 256, 'count': 0}, {'lowerBound': 512, 'count': 0}, {'lowerBound': 1024, 'count': 0}, {'lowerBound': 2048, 'count': 0}, {'lowerBound': 4096, 'count': 0}, {'lowerBound': 8192, 'count': 0}, {'lowerBound': 16384, 'count': 0}, {'lowerBound': 32768, 'count': 0}]}}, 'planCache': {'totalQueryShapes': 0, 'totalSizeEstimateBytes': 0, 'classic': {'hits': 0, 'misses': 0, 'skipped': 10}, 'sbe': {'hits': 0, 'misses': 0, 'skipped': 0}}, 'queryFramework': {'aggregate': {'classicHybrid': 0, 'classicOnly': 0, 'cqf': 0, 'sbeHybrid': 0, 'sbeOnly': 2}, 'find': {'classic': 6, 'cqf': 0, 'sbe': 0}}, 'setWindowFields': {'spilledBytes': 0, 'spilledRecords': 0, 'spills': 0}, 'sort': {'spillToDisk': 0, 'spillToDiskBytes': 0, 'totalBytesSorted': 0, 'totalKeysSorted': 0}}, 'queryExecutor': {'scanned': 4, 'scannedObjects': 4, 'collectionScans': {'nonTailable': 0, 'total': 0}}, 'queryStats': {'numEvicted': 0, 'numHmacApplicationErrors': 0, 'numQueryStatsStoreWriteErrors': 0, 'numRateLimitedRequests': 0, 'queryStatsStoreSizeEstimateBytes': 0}, 'repl': {'buffer': {'write': {'count': 0, 'sizeBytes': 0, 'maxSizeBytes': 0}, 'apply': {'count': 0, 'sizeBytes': 0, 'maxSizeBytes': 0, 'maxCount': 0}}, 'executor': {'pool': {'inProgressCount': 0}, 'queues': {'networkInProgress': 0, 'sleepers': 0}, 'unsignaledEvents': 0, 'shuttingDown': False, 'networkInterface': 'DEPRECATED: getDiagnosticString is deprecated in NetworkInterfaceTL'}, 'write': {'batchSize': 0, 'batches': {'num': 0, 'totalMillis': 0}}, 'apply': {'attemptsToBecomeSecondary': 0, 'batchSize': 0, 'batches': {'num': 0, 'totalMillis': 0}, 'ops': 0}, 'initialSync': {'completed': 0, 'failedAttempts': 0, 'failures': 0}, 'network': {'bytes': 0, 'getmores': {'num': 0, 'totalMillis': 0, 'numEmptyBatches': 0}, 'notPrimaryLegacyUnacknowledgedWrites': 0, 'notPrimaryUnacknowledgedWrites': 0, 'oplogGetMoresProcessed': {'num': 0, 'totalMillis': 0}, 'ops': 0, 'readersCreated': 0, 'replSetUpdatePosition': {'num': 0}}, 'reconfig': {'numAutoReconfigsForRemovalOfNewlyAddedFields': 0}, 'stateTransition': {'lastStateTransition': '', 'totalOperationsKilled': 0, 'totalOperationsRunning': 0}, 'syncSource': {'numSelections': 0, 'numSyncSourceChangesDueToSignificantlyCloserNode': 0, 'numTimesChoseDifferent': 0, 'numTimesChoseSame': 0, 'numTimesCouldNotFind': 0}, 'waiters': {'opTime': 0, 'replication': 0}}, 'ttl': {'collSubpassesIncreasedPriority': 0, 'deletedDocuments': 0, 'passes': 32, 'subPasses': 32}, 'wiredTiger': {'recordStoreCursorBoundRetries': 0}}, 'ok': 1.0}\n"
     ]
    }
   ],
   "source": [
    "# Test the connection\n",
    "try:\n",
    "    db = client[DB_NAME]\n",
    "    print(f\"Connected to the Database: [{DB_NAME}]\")\n",
    "    \n",
    "    server_status = db.command(\"serverStatus\")\n",
    "    print(\"Server Status:\", server_status)\n",
    "except Exception as e:\n",
    "    print(\"Could not connect to MongoDB:\", e)"
   ]
  },
  {
   "cell_type": "code",
   "execution_count": 33,
   "metadata": {},
   "outputs": [
    {
     "data": {
      "text/plain": [
       "[]"
      ]
     },
     "execution_count": 33,
     "metadata": {},
     "output_type": "execute_result"
    }
   ],
   "source": [
    "db.list_collection_names()"
   ]
  },
  {
   "cell_type": "code",
   "execution_count": 34,
   "metadata": {},
   "outputs": [],
   "source": [
    "users_collection = db['users']\n",
    "cards_collection = db['cards']\n",
    "transactions_collection = db['transactions']"
   ]
  },
  {
   "cell_type": "code",
   "execution_count": 39,
   "metadata": {},
   "outputs": [
    {
     "data": {
      "text/plain": [
       "<pymongo.results.InsertManyResult at 0x13236b7bf80>"
      ]
     },
     "execution_count": 39,
     "metadata": {},
     "output_type": "execute_result"
    }
   ],
   "source": [
    "users_collection.insert_many(users_df.to_dict(orient='records'), ordered= False)\n",
    "cards_collection.insert_many(cards_df.to_dict(orient='records'), ordered= False)\n",
    "transactions_collection.insert_many(transaction_df.to_dict(orient='records'), ordered= False)"
   ]
  },
  {
   "cell_type": "code",
   "execution_count": 41,
   "metadata": {},
   "outputs": [
    {
     "name": "stdout",
     "output_type": "stream",
     "text": [
      "{'_id': ObjectId('6744e75c36aedffa4bac0c25'), 'id': 825, 'current_age': 53, 'retirement_age': 66, 'birth_year': 1966, 'birth_month': 11, 'gender': 'Female', 'address': '462 Rose Lane', 'latitude': 34.15, 'longitude': -117.76, 'per_capita_income': 29278.0, 'yearly_income': 59696.0, 'total_debt': 127613.0, 'credit_score': 787, 'num_credit_cards': 5}\n"
     ]
    }
   ],
   "source": [
    "for i in users_collection.find({}):\n",
    "    print(i)\n",
    "    break"
   ]
  }
 ],
 "metadata": {
  "kernelspec": {
   "display_name": "Python 3 (ipykernel)",
   "language": "python",
   "name": "python3"
  },
  "language_info": {
   "codemirror_mode": {
    "name": "ipython",
    "version": 3
   },
   "file_extension": ".py",
   "mimetype": "text/x-python",
   "name": "python",
   "nbconvert_exporter": "python",
   "pygments_lexer": "ipython3",
   "version": "3.11.9"
  }
 },
 "nbformat": 4,
 "nbformat_minor": 2
}
