{
 "cells": [
  {
   "cell_type": "code",
   "execution_count": 2,
   "metadata": {},
   "outputs": [
    {
     "name": "stdout",
     "output_type": "stream",
     "text": [
      "Note: you may need to restart the kernel to use updated packages.\n",
      "Requirement already satisfied: pip in c:\\users\\jaabi\\documents\\ulisboa\\adv_databases\\venv\\lib\\site-packages (24.3.1)\n"
     ]
    }
   ],
   "source": [
    "### Run once in the new env\n",
    "%pip install -r requirements.txt -q\n",
    "!python -m pip install --upgrade pip"
   ]
  },
  {
   "cell_type": "markdown",
   "metadata": {},
   "source": [
    "#### Initialization"
   ]
  },
  {
   "cell_type": "code",
   "execution_count": 1,
   "metadata": {},
   "outputs": [],
   "source": [
    "## libraries \n",
    "from sqlalchemy import create_engine, text, Integer, String, Float, Boolean\n",
    "import matplotlib.pyplot as plt\n",
    "from pymongo import MongoClient\n",
    "from pprint import pp # using this to print the json in a pretty format\n",
    "from time import time \n",
    "import seaborn as sns\n",
    "import pandas as pd \n",
    "import dotenv\n",
    "import os \n",
    "\n",
    "plt.style.use('dark_background')"
   ]
  },
  {
   "cell_type": "markdown",
   "metadata": {},
   "source": [
    "dotenv loads the file `.env` and gets the parameters from there because we are storing DB credentials which needs to be secured. "
   ]
  },
  {
   "cell_type": "code",
   "execution_count": 2,
   "metadata": {},
   "outputs": [],
   "source": [
    "## database initialization\n",
    "dotenv.load_dotenv()\n",
    "\n",
    "\n",
    "MYSQL_CONFIG = {\n",
    "    'username': os.environ['mysql_username'],\n",
    "    'password': os.environ['mysql_password'],\n",
    "    'host'    : os.environ['mysql_hostname'],\n",
    "}\n",
    "\n",
    "MONGO_DB_CONFIG = {\n",
    "    'username': os.environ['mongo_username'],\n",
    "    'password': os.environ['mongo_password'],\n",
    "    'hostname' : os.environ['mongo_hostname'],\n",
    "    'appName' : os.environ['mongo_appName'],\n",
    "    'port'    : os.environ['mongo_port']\n",
    "}\n",
    "\n",
    "DB_NAME = 'project_test'"
   ]
  },
  {
   "cell_type": "code",
   "execution_count": 3,
   "metadata": {},
   "outputs": [],
   "source": [
    "### this function drops the specified database and creates it again\n",
    "def reset_sqlite_database(engine, dbname : str):\n",
    "    with engine.connect() as connection:\n",
    "        connection.execute(text(f\"DROP DATABASE IF EXISTS {dbname}\"))\n",
    "        connection.execute(text(f\"CREATE DATABASE {dbname}\"))\n",
    "    print(f'Recreated the database : [{dbname}]')"
   ]
  },
  {
   "cell_type": "code",
   "execution_count": 4,
   "metadata": {},
   "outputs": [],
   "source": [
    "# db_url = f\"mysql+mysqlconnector://{MYSQL_CONFIG['username']}:{MYSQL_CONFIG['password']}@{MYSQL_CONFIG['host']}:3306\"\n",
    "# engine = create_engine(db_url)\n",
    "# reset_sqlite_database(engine, dbname = DB_NAME)\n",
    "db_url = f\"mysql+mysqlconnector://{MYSQL_CONFIG['username']}:{MYSQL_CONFIG['password']}@{MYSQL_CONFIG['host']}:3306/{DB_NAME}\"\n",
    "engine = create_engine(db_url)"
   ]
  },
  {
   "cell_type": "markdown",
   "metadata": {},
   "source": [
    "Loading the essential datasets "
   ]
  },
  {
   "cell_type": "code",
   "execution_count": 100,
   "metadata": {},
   "outputs": [],
   "source": [
    "data_folder = 'finance_transaction'\n",
    "transaction_filename = os.path.join(data_folder, 'transactions_data.csv')\n",
    "cards_filename = os.path.join(data_folder, 'cards_data.csv')\n",
    "users_filename = os.path.join(data_folder, 'users_data.csv')\n",
    "\n",
    "n_rows = 1000000 # using limited rows due to large number of rows  \n",
    "transaction_df = pd.read_csv(transaction_filename, nrows= n_rows)\n",
    "cards_df = pd.read_csv(cards_filename, nrows= n_rows)\n",
    "users_df = pd.read_csv(users_filename, nrows= n_rows)"
   ]
  },
  {
   "cell_type": "markdown",
   "metadata": {},
   "source": [
    "Descriptive analysis - EDA & Data Cleaning"
   ]
  },
  {
   "cell_type": "code",
   "execution_count": 101,
   "metadata": {},
   "outputs": [
    {
     "data": {
      "text/html": [
       "<div>\n",
       "<style scoped>\n",
       "    .dataframe tbody tr th:only-of-type {\n",
       "        vertical-align: middle;\n",
       "    }\n",
       "\n",
       "    .dataframe tbody tr th {\n",
       "        vertical-align: top;\n",
       "    }\n",
       "\n",
       "    .dataframe thead th {\n",
       "        text-align: right;\n",
       "    }\n",
       "</style>\n",
       "<table border=\"1\" class=\"dataframe\">\n",
       "  <thead>\n",
       "    <tr style=\"text-align: right;\">\n",
       "      <th></th>\n",
       "      <th>id</th>\n",
       "      <th>date</th>\n",
       "      <th>client_id</th>\n",
       "      <th>card_id</th>\n",
       "      <th>amount</th>\n",
       "      <th>use_chip</th>\n",
       "      <th>merchant_id</th>\n",
       "      <th>merchant_city</th>\n",
       "      <th>merchant_state</th>\n",
       "      <th>zip</th>\n",
       "      <th>mcc</th>\n",
       "      <th>errors</th>\n",
       "    </tr>\n",
       "  </thead>\n",
       "  <tbody>\n",
       "    <tr>\n",
       "      <th>0</th>\n",
       "      <td>7475327</td>\n",
       "      <td>2010-01-01 00:01:00</td>\n",
       "      <td>1556</td>\n",
       "      <td>2972</td>\n",
       "      <td>$-77.00</td>\n",
       "      <td>Swipe Transaction</td>\n",
       "      <td>59935</td>\n",
       "      <td>Beulah</td>\n",
       "      <td>ND</td>\n",
       "      <td>58523.0</td>\n",
       "      <td>5499</td>\n",
       "      <td>NaN</td>\n",
       "    </tr>\n",
       "    <tr>\n",
       "      <th>1</th>\n",
       "      <td>7475328</td>\n",
       "      <td>2010-01-01 00:02:00</td>\n",
       "      <td>561</td>\n",
       "      <td>4575</td>\n",
       "      <td>$14.57</td>\n",
       "      <td>Swipe Transaction</td>\n",
       "      <td>67570</td>\n",
       "      <td>Bettendorf</td>\n",
       "      <td>IA</td>\n",
       "      <td>52722.0</td>\n",
       "      <td>5311</td>\n",
       "      <td>NaN</td>\n",
       "    </tr>\n",
       "    <tr>\n",
       "      <th>2</th>\n",
       "      <td>7475329</td>\n",
       "      <td>2010-01-01 00:02:00</td>\n",
       "      <td>1129</td>\n",
       "      <td>102</td>\n",
       "      <td>$80.00</td>\n",
       "      <td>Swipe Transaction</td>\n",
       "      <td>27092</td>\n",
       "      <td>Vista</td>\n",
       "      <td>CA</td>\n",
       "      <td>92084.0</td>\n",
       "      <td>4829</td>\n",
       "      <td>NaN</td>\n",
       "    </tr>\n",
       "    <tr>\n",
       "      <th>3</th>\n",
       "      <td>7475331</td>\n",
       "      <td>2010-01-01 00:05:00</td>\n",
       "      <td>430</td>\n",
       "      <td>2860</td>\n",
       "      <td>$200.00</td>\n",
       "      <td>Swipe Transaction</td>\n",
       "      <td>27092</td>\n",
       "      <td>Crown Point</td>\n",
       "      <td>IN</td>\n",
       "      <td>46307.0</td>\n",
       "      <td>4829</td>\n",
       "      <td>NaN</td>\n",
       "    </tr>\n",
       "    <tr>\n",
       "      <th>4</th>\n",
       "      <td>7475332</td>\n",
       "      <td>2010-01-01 00:06:00</td>\n",
       "      <td>848</td>\n",
       "      <td>3915</td>\n",
       "      <td>$46.41</td>\n",
       "      <td>Swipe Transaction</td>\n",
       "      <td>13051</td>\n",
       "      <td>Harwood</td>\n",
       "      <td>MD</td>\n",
       "      <td>20776.0</td>\n",
       "      <td>5813</td>\n",
       "      <td>NaN</td>\n",
       "    </tr>\n",
       "  </tbody>\n",
       "</table>\n",
       "</div>"
      ],
      "text/plain": [
       "        id                 date  client_id  card_id   amount  \\\n",
       "0  7475327  2010-01-01 00:01:00       1556     2972  $-77.00   \n",
       "1  7475328  2010-01-01 00:02:00        561     4575   $14.57   \n",
       "2  7475329  2010-01-01 00:02:00       1129      102   $80.00   \n",
       "3  7475331  2010-01-01 00:05:00        430     2860  $200.00   \n",
       "4  7475332  2010-01-01 00:06:00        848     3915   $46.41   \n",
       "\n",
       "            use_chip  merchant_id merchant_city merchant_state      zip   mcc  \\\n",
       "0  Swipe Transaction        59935        Beulah             ND  58523.0  5499   \n",
       "1  Swipe Transaction        67570    Bettendorf             IA  52722.0  5311   \n",
       "2  Swipe Transaction        27092         Vista             CA  92084.0  4829   \n",
       "3  Swipe Transaction        27092   Crown Point             IN  46307.0  4829   \n",
       "4  Swipe Transaction        13051       Harwood             MD  20776.0  5813   \n",
       "\n",
       "  errors  \n",
       "0    NaN  \n",
       "1    NaN  \n",
       "2    NaN  \n",
       "3    NaN  \n",
       "4    NaN  "
      ]
     },
     "execution_count": 101,
     "metadata": {},
     "output_type": "execute_result"
    }
   ],
   "source": [
    "transaction_df.head()"
   ]
  },
  {
   "cell_type": "code",
   "execution_count": 102,
   "metadata": {},
   "outputs": [
    {
     "data": {
      "text/html": [
       "<div>\n",
       "<style scoped>\n",
       "    .dataframe tbody tr th:only-of-type {\n",
       "        vertical-align: middle;\n",
       "    }\n",
       "\n",
       "    .dataframe tbody tr th {\n",
       "        vertical-align: top;\n",
       "    }\n",
       "\n",
       "    .dataframe thead th {\n",
       "        text-align: right;\n",
       "    }\n",
       "</style>\n",
       "<table border=\"1\" class=\"dataframe\">\n",
       "  <thead>\n",
       "    <tr style=\"text-align: right;\">\n",
       "      <th></th>\n",
       "      <th>id</th>\n",
       "      <th>client_id</th>\n",
       "      <th>card_brand</th>\n",
       "      <th>card_type</th>\n",
       "      <th>card_number</th>\n",
       "      <th>expires</th>\n",
       "      <th>cvv</th>\n",
       "      <th>has_chip</th>\n",
       "      <th>num_cards_issued</th>\n",
       "      <th>credit_limit</th>\n",
       "      <th>acct_open_date</th>\n",
       "      <th>year_pin_last_changed</th>\n",
       "      <th>card_on_dark_web</th>\n",
       "    </tr>\n",
       "  </thead>\n",
       "  <tbody>\n",
       "    <tr>\n",
       "      <th>0</th>\n",
       "      <td>4524</td>\n",
       "      <td>825</td>\n",
       "      <td>Visa</td>\n",
       "      <td>Debit</td>\n",
       "      <td>4344676511950444</td>\n",
       "      <td>12/2022</td>\n",
       "      <td>623</td>\n",
       "      <td>YES</td>\n",
       "      <td>2</td>\n",
       "      <td>$24295</td>\n",
       "      <td>09/2002</td>\n",
       "      <td>2008</td>\n",
       "      <td>No</td>\n",
       "    </tr>\n",
       "    <tr>\n",
       "      <th>1</th>\n",
       "      <td>2731</td>\n",
       "      <td>825</td>\n",
       "      <td>Visa</td>\n",
       "      <td>Debit</td>\n",
       "      <td>4956965974959986</td>\n",
       "      <td>12/2020</td>\n",
       "      <td>393</td>\n",
       "      <td>YES</td>\n",
       "      <td>2</td>\n",
       "      <td>$21968</td>\n",
       "      <td>04/2014</td>\n",
       "      <td>2014</td>\n",
       "      <td>No</td>\n",
       "    </tr>\n",
       "    <tr>\n",
       "      <th>2</th>\n",
       "      <td>3701</td>\n",
       "      <td>825</td>\n",
       "      <td>Visa</td>\n",
       "      <td>Debit</td>\n",
       "      <td>4582313478255491</td>\n",
       "      <td>02/2024</td>\n",
       "      <td>719</td>\n",
       "      <td>YES</td>\n",
       "      <td>2</td>\n",
       "      <td>$46414</td>\n",
       "      <td>07/2003</td>\n",
       "      <td>2004</td>\n",
       "      <td>No</td>\n",
       "    </tr>\n",
       "    <tr>\n",
       "      <th>3</th>\n",
       "      <td>42</td>\n",
       "      <td>825</td>\n",
       "      <td>Visa</td>\n",
       "      <td>Credit</td>\n",
       "      <td>4879494103069057</td>\n",
       "      <td>08/2024</td>\n",
       "      <td>693</td>\n",
       "      <td>NO</td>\n",
       "      <td>1</td>\n",
       "      <td>$12400</td>\n",
       "      <td>01/2003</td>\n",
       "      <td>2012</td>\n",
       "      <td>No</td>\n",
       "    </tr>\n",
       "    <tr>\n",
       "      <th>4</th>\n",
       "      <td>4659</td>\n",
       "      <td>825</td>\n",
       "      <td>Mastercard</td>\n",
       "      <td>Debit (Prepaid)</td>\n",
       "      <td>5722874738736011</td>\n",
       "      <td>03/2009</td>\n",
       "      <td>75</td>\n",
       "      <td>YES</td>\n",
       "      <td>1</td>\n",
       "      <td>$28</td>\n",
       "      <td>09/2008</td>\n",
       "      <td>2009</td>\n",
       "      <td>No</td>\n",
       "    </tr>\n",
       "  </tbody>\n",
       "</table>\n",
       "</div>"
      ],
      "text/plain": [
       "     id  client_id  card_brand        card_type       card_number  expires  \\\n",
       "0  4524        825        Visa            Debit  4344676511950444  12/2022   \n",
       "1  2731        825        Visa            Debit  4956965974959986  12/2020   \n",
       "2  3701        825        Visa            Debit  4582313478255491  02/2024   \n",
       "3    42        825        Visa           Credit  4879494103069057  08/2024   \n",
       "4  4659        825  Mastercard  Debit (Prepaid)  5722874738736011  03/2009   \n",
       "\n",
       "   cvv has_chip  num_cards_issued credit_limit acct_open_date  \\\n",
       "0  623      YES                 2       $24295        09/2002   \n",
       "1  393      YES                 2       $21968        04/2014   \n",
       "2  719      YES                 2       $46414        07/2003   \n",
       "3  693       NO                 1       $12400        01/2003   \n",
       "4   75      YES                 1          $28        09/2008   \n",
       "\n",
       "   year_pin_last_changed card_on_dark_web  \n",
       "0                   2008               No  \n",
       "1                   2014               No  \n",
       "2                   2004               No  \n",
       "3                   2012               No  \n",
       "4                   2009               No  "
      ]
     },
     "execution_count": 102,
     "metadata": {},
     "output_type": "execute_result"
    }
   ],
   "source": [
    "cards_df.head()"
   ]
  },
  {
   "cell_type": "code",
   "execution_count": 103,
   "metadata": {},
   "outputs": [
    {
     "data": {
      "text/html": [
       "<div>\n",
       "<style scoped>\n",
       "    .dataframe tbody tr th:only-of-type {\n",
       "        vertical-align: middle;\n",
       "    }\n",
       "\n",
       "    .dataframe tbody tr th {\n",
       "        vertical-align: top;\n",
       "    }\n",
       "\n",
       "    .dataframe thead th {\n",
       "        text-align: right;\n",
       "    }\n",
       "</style>\n",
       "<table border=\"1\" class=\"dataframe\">\n",
       "  <thead>\n",
       "    <tr style=\"text-align: right;\">\n",
       "      <th></th>\n",
       "      <th>id</th>\n",
       "      <th>current_age</th>\n",
       "      <th>retirement_age</th>\n",
       "      <th>birth_year</th>\n",
       "      <th>birth_month</th>\n",
       "      <th>gender</th>\n",
       "      <th>address</th>\n",
       "      <th>latitude</th>\n",
       "      <th>longitude</th>\n",
       "      <th>per_capita_income</th>\n",
       "      <th>yearly_income</th>\n",
       "      <th>total_debt</th>\n",
       "      <th>credit_score</th>\n",
       "      <th>num_credit_cards</th>\n",
       "    </tr>\n",
       "  </thead>\n",
       "  <tbody>\n",
       "    <tr>\n",
       "      <th>0</th>\n",
       "      <td>825</td>\n",
       "      <td>53</td>\n",
       "      <td>66</td>\n",
       "      <td>1966</td>\n",
       "      <td>11</td>\n",
       "      <td>Female</td>\n",
       "      <td>462 Rose Lane</td>\n",
       "      <td>34.15</td>\n",
       "      <td>-117.76</td>\n",
       "      <td>$29278</td>\n",
       "      <td>$59696</td>\n",
       "      <td>$127613</td>\n",
       "      <td>787</td>\n",
       "      <td>5</td>\n",
       "    </tr>\n",
       "    <tr>\n",
       "      <th>1</th>\n",
       "      <td>1746</td>\n",
       "      <td>53</td>\n",
       "      <td>68</td>\n",
       "      <td>1966</td>\n",
       "      <td>12</td>\n",
       "      <td>Female</td>\n",
       "      <td>3606 Federal Boulevard</td>\n",
       "      <td>40.76</td>\n",
       "      <td>-73.74</td>\n",
       "      <td>$37891</td>\n",
       "      <td>$77254</td>\n",
       "      <td>$191349</td>\n",
       "      <td>701</td>\n",
       "      <td>5</td>\n",
       "    </tr>\n",
       "    <tr>\n",
       "      <th>2</th>\n",
       "      <td>1718</td>\n",
       "      <td>81</td>\n",
       "      <td>67</td>\n",
       "      <td>1938</td>\n",
       "      <td>11</td>\n",
       "      <td>Female</td>\n",
       "      <td>766 Third Drive</td>\n",
       "      <td>34.02</td>\n",
       "      <td>-117.89</td>\n",
       "      <td>$22681</td>\n",
       "      <td>$33483</td>\n",
       "      <td>$196</td>\n",
       "      <td>698</td>\n",
       "      <td>5</td>\n",
       "    </tr>\n",
       "    <tr>\n",
       "      <th>3</th>\n",
       "      <td>708</td>\n",
       "      <td>63</td>\n",
       "      <td>63</td>\n",
       "      <td>1957</td>\n",
       "      <td>1</td>\n",
       "      <td>Female</td>\n",
       "      <td>3 Madison Street</td>\n",
       "      <td>40.71</td>\n",
       "      <td>-73.99</td>\n",
       "      <td>$163145</td>\n",
       "      <td>$249925</td>\n",
       "      <td>$202328</td>\n",
       "      <td>722</td>\n",
       "      <td>4</td>\n",
       "    </tr>\n",
       "    <tr>\n",
       "      <th>4</th>\n",
       "      <td>1164</td>\n",
       "      <td>43</td>\n",
       "      <td>70</td>\n",
       "      <td>1976</td>\n",
       "      <td>9</td>\n",
       "      <td>Male</td>\n",
       "      <td>9620 Valley Stream Drive</td>\n",
       "      <td>37.76</td>\n",
       "      <td>-122.44</td>\n",
       "      <td>$53797</td>\n",
       "      <td>$109687</td>\n",
       "      <td>$183855</td>\n",
       "      <td>675</td>\n",
       "      <td>1</td>\n",
       "    </tr>\n",
       "  </tbody>\n",
       "</table>\n",
       "</div>"
      ],
      "text/plain": [
       "     id  current_age  retirement_age  birth_year  birth_month  gender  \\\n",
       "0   825           53              66        1966           11  Female   \n",
       "1  1746           53              68        1966           12  Female   \n",
       "2  1718           81              67        1938           11  Female   \n",
       "3   708           63              63        1957            1  Female   \n",
       "4  1164           43              70        1976            9    Male   \n",
       "\n",
       "                    address  latitude  longitude per_capita_income  \\\n",
       "0             462 Rose Lane     34.15    -117.76            $29278   \n",
       "1    3606 Federal Boulevard     40.76     -73.74            $37891   \n",
       "2           766 Third Drive     34.02    -117.89            $22681   \n",
       "3          3 Madison Street     40.71     -73.99           $163145   \n",
       "4  9620 Valley Stream Drive     37.76    -122.44            $53797   \n",
       "\n",
       "  yearly_income total_debt  credit_score  num_credit_cards  \n",
       "0        $59696    $127613           787                 5  \n",
       "1        $77254    $191349           701                 5  \n",
       "2        $33483       $196           698                 5  \n",
       "3       $249925    $202328           722                 4  \n",
       "4       $109687    $183855           675                 1  "
      ]
     },
     "execution_count": 103,
     "metadata": {},
     "output_type": "execute_result"
    }
   ],
   "source": [
    "users_df.head()"
   ]
  },
  {
   "cell_type": "code",
   "execution_count": 104,
   "metadata": {},
   "outputs": [
    {
     "data": {
      "text/html": [
       "<div>\n",
       "<style scoped>\n",
       "    .dataframe tbody tr th:only-of-type {\n",
       "        vertical-align: middle;\n",
       "    }\n",
       "\n",
       "    .dataframe tbody tr th {\n",
       "        vertical-align: top;\n",
       "    }\n",
       "\n",
       "    .dataframe thead th {\n",
       "        text-align: right;\n",
       "    }\n",
       "</style>\n",
       "<table border=\"1\" class=\"dataframe\">\n",
       "  <thead>\n",
       "    <tr style=\"text-align: right;\">\n",
       "      <th></th>\n",
       "      <th>id</th>\n",
       "      <th>current_age</th>\n",
       "      <th>retirement_age</th>\n",
       "      <th>birth_year</th>\n",
       "      <th>birth_month</th>\n",
       "      <th>latitude</th>\n",
       "      <th>longitude</th>\n",
       "      <th>credit_score</th>\n",
       "      <th>num_credit_cards</th>\n",
       "    </tr>\n",
       "  </thead>\n",
       "  <tbody>\n",
       "    <tr>\n",
       "      <th>count</th>\n",
       "      <td>2000.000000</td>\n",
       "      <td>2000.000000</td>\n",
       "      <td>2000.000000</td>\n",
       "      <td>2000.000000</td>\n",
       "      <td>2000.000000</td>\n",
       "      <td>2000.000000</td>\n",
       "      <td>2000.000000</td>\n",
       "      <td>2000.000000</td>\n",
       "      <td>2000.000000</td>\n",
       "    </tr>\n",
       "    <tr>\n",
       "      <th>mean</th>\n",
       "      <td>999.500000</td>\n",
       "      <td>45.391500</td>\n",
       "      <td>66.237500</td>\n",
       "      <td>1973.803000</td>\n",
       "      <td>6.439000</td>\n",
       "      <td>37.389225</td>\n",
       "      <td>-91.554765</td>\n",
       "      <td>709.734500</td>\n",
       "      <td>3.073000</td>\n",
       "    </tr>\n",
       "    <tr>\n",
       "      <th>std</th>\n",
       "      <td>577.494589</td>\n",
       "      <td>18.414092</td>\n",
       "      <td>3.628867</td>\n",
       "      <td>18.421234</td>\n",
       "      <td>3.565338</td>\n",
       "      <td>5.114324</td>\n",
       "      <td>16.283293</td>\n",
       "      <td>67.221949</td>\n",
       "      <td>1.637379</td>\n",
       "    </tr>\n",
       "    <tr>\n",
       "      <th>min</th>\n",
       "      <td>0.000000</td>\n",
       "      <td>18.000000</td>\n",
       "      <td>50.000000</td>\n",
       "      <td>1918.000000</td>\n",
       "      <td>1.000000</td>\n",
       "      <td>20.880000</td>\n",
       "      <td>-159.410000</td>\n",
       "      <td>480.000000</td>\n",
       "      <td>1.000000</td>\n",
       "    </tr>\n",
       "    <tr>\n",
       "      <th>25%</th>\n",
       "      <td>499.750000</td>\n",
       "      <td>30.000000</td>\n",
       "      <td>65.000000</td>\n",
       "      <td>1961.000000</td>\n",
       "      <td>3.000000</td>\n",
       "      <td>33.837500</td>\n",
       "      <td>-97.395000</td>\n",
       "      <td>681.000000</td>\n",
       "      <td>2.000000</td>\n",
       "    </tr>\n",
       "    <tr>\n",
       "      <th>50%</th>\n",
       "      <td>999.500000</td>\n",
       "      <td>44.000000</td>\n",
       "      <td>66.000000</td>\n",
       "      <td>1975.000000</td>\n",
       "      <td>7.000000</td>\n",
       "      <td>38.250000</td>\n",
       "      <td>-86.440000</td>\n",
       "      <td>711.500000</td>\n",
       "      <td>3.000000</td>\n",
       "    </tr>\n",
       "    <tr>\n",
       "      <th>75%</th>\n",
       "      <td>1499.250000</td>\n",
       "      <td>58.000000</td>\n",
       "      <td>68.000000</td>\n",
       "      <td>1989.000000</td>\n",
       "      <td>10.000000</td>\n",
       "      <td>41.200000</td>\n",
       "      <td>-80.130000</td>\n",
       "      <td>753.000000</td>\n",
       "      <td>4.000000</td>\n",
       "    </tr>\n",
       "    <tr>\n",
       "      <th>max</th>\n",
       "      <td>1999.000000</td>\n",
       "      <td>101.000000</td>\n",
       "      <td>79.000000</td>\n",
       "      <td>2002.000000</td>\n",
       "      <td>12.000000</td>\n",
       "      <td>61.200000</td>\n",
       "      <td>-68.670000</td>\n",
       "      <td>850.000000</td>\n",
       "      <td>9.000000</td>\n",
       "    </tr>\n",
       "  </tbody>\n",
       "</table>\n",
       "</div>"
      ],
      "text/plain": [
       "                id  current_age  retirement_age   birth_year  birth_month  \\\n",
       "count  2000.000000  2000.000000     2000.000000  2000.000000  2000.000000   \n",
       "mean    999.500000    45.391500       66.237500  1973.803000     6.439000   \n",
       "std     577.494589    18.414092        3.628867    18.421234     3.565338   \n",
       "min       0.000000    18.000000       50.000000  1918.000000     1.000000   \n",
       "25%     499.750000    30.000000       65.000000  1961.000000     3.000000   \n",
       "50%     999.500000    44.000000       66.000000  1975.000000     7.000000   \n",
       "75%    1499.250000    58.000000       68.000000  1989.000000    10.000000   \n",
       "max    1999.000000   101.000000       79.000000  2002.000000    12.000000   \n",
       "\n",
       "          latitude    longitude  credit_score  num_credit_cards  \n",
       "count  2000.000000  2000.000000   2000.000000       2000.000000  \n",
       "mean     37.389225   -91.554765    709.734500          3.073000  \n",
       "std       5.114324    16.283293     67.221949          1.637379  \n",
       "min      20.880000  -159.410000    480.000000          1.000000  \n",
       "25%      33.837500   -97.395000    681.000000          2.000000  \n",
       "50%      38.250000   -86.440000    711.500000          3.000000  \n",
       "75%      41.200000   -80.130000    753.000000          4.000000  \n",
       "max      61.200000   -68.670000    850.000000          9.000000  "
      ]
     },
     "execution_count": 104,
     "metadata": {},
     "output_type": "execute_result"
    }
   ],
   "source": [
    "users_df.describe()"
   ]
  },
  {
   "cell_type": "code",
   "execution_count": 105,
   "metadata": {},
   "outputs": [
    {
     "data": {
      "text/html": [
       "<div>\n",
       "<style scoped>\n",
       "    .dataframe tbody tr th:only-of-type {\n",
       "        vertical-align: middle;\n",
       "    }\n",
       "\n",
       "    .dataframe tbody tr th {\n",
       "        vertical-align: top;\n",
       "    }\n",
       "\n",
       "    .dataframe thead th {\n",
       "        text-align: right;\n",
       "    }\n",
       "</style>\n",
       "<table border=\"1\" class=\"dataframe\">\n",
       "  <thead>\n",
       "    <tr style=\"text-align: right;\">\n",
       "      <th></th>\n",
       "      <th>id</th>\n",
       "      <th>client_id</th>\n",
       "      <th>card_number</th>\n",
       "      <th>cvv</th>\n",
       "      <th>num_cards_issued</th>\n",
       "      <th>year_pin_last_changed</th>\n",
       "    </tr>\n",
       "  </thead>\n",
       "  <tbody>\n",
       "    <tr>\n",
       "      <th>count</th>\n",
       "      <td>6146.000000</td>\n",
       "      <td>6146.000000</td>\n",
       "      <td>6.146000e+03</td>\n",
       "      <td>6146.000000</td>\n",
       "      <td>6146.000000</td>\n",
       "      <td>6146.000000</td>\n",
       "    </tr>\n",
       "    <tr>\n",
       "      <th>mean</th>\n",
       "      <td>3072.500000</td>\n",
       "      <td>994.939636</td>\n",
       "      <td>4.820426e+15</td>\n",
       "      <td>506.220794</td>\n",
       "      <td>1.503091</td>\n",
       "      <td>2013.436707</td>\n",
       "    </tr>\n",
       "    <tr>\n",
       "      <th>std</th>\n",
       "      <td>1774.341709</td>\n",
       "      <td>578.614626</td>\n",
       "      <td>1.328582e+15</td>\n",
       "      <td>289.431123</td>\n",
       "      <td>0.519191</td>\n",
       "      <td>4.270699</td>\n",
       "    </tr>\n",
       "    <tr>\n",
       "      <th>min</th>\n",
       "      <td>0.000000</td>\n",
       "      <td>0.000000</td>\n",
       "      <td>3.001055e+14</td>\n",
       "      <td>0.000000</td>\n",
       "      <td>1.000000</td>\n",
       "      <td>2002.000000</td>\n",
       "    </tr>\n",
       "    <tr>\n",
       "      <th>25%</th>\n",
       "      <td>1536.250000</td>\n",
       "      <td>492.250000</td>\n",
       "      <td>4.486365e+15</td>\n",
       "      <td>257.000000</td>\n",
       "      <td>1.000000</td>\n",
       "      <td>2010.000000</td>\n",
       "    </tr>\n",
       "    <tr>\n",
       "      <th>50%</th>\n",
       "      <td>3072.500000</td>\n",
       "      <td>992.000000</td>\n",
       "      <td>5.108957e+15</td>\n",
       "      <td>516.500000</td>\n",
       "      <td>1.000000</td>\n",
       "      <td>2013.000000</td>\n",
       "    </tr>\n",
       "    <tr>\n",
       "      <th>75%</th>\n",
       "      <td>4608.750000</td>\n",
       "      <td>1495.000000</td>\n",
       "      <td>5.585237e+15</td>\n",
       "      <td>756.000000</td>\n",
       "      <td>2.000000</td>\n",
       "      <td>2017.000000</td>\n",
       "    </tr>\n",
       "    <tr>\n",
       "      <th>max</th>\n",
       "      <td>6145.000000</td>\n",
       "      <td>1999.000000</td>\n",
       "      <td>6.997197e+15</td>\n",
       "      <td>999.000000</td>\n",
       "      <td>3.000000</td>\n",
       "      <td>2020.000000</td>\n",
       "    </tr>\n",
       "  </tbody>\n",
       "</table>\n",
       "</div>"
      ],
      "text/plain": [
       "                id    client_id   card_number          cvv  num_cards_issued  \\\n",
       "count  6146.000000  6146.000000  6.146000e+03  6146.000000       6146.000000   \n",
       "mean   3072.500000   994.939636  4.820426e+15   506.220794          1.503091   \n",
       "std    1774.341709   578.614626  1.328582e+15   289.431123          0.519191   \n",
       "min       0.000000     0.000000  3.001055e+14     0.000000          1.000000   \n",
       "25%    1536.250000   492.250000  4.486365e+15   257.000000          1.000000   \n",
       "50%    3072.500000   992.000000  5.108957e+15   516.500000          1.000000   \n",
       "75%    4608.750000  1495.000000  5.585237e+15   756.000000          2.000000   \n",
       "max    6145.000000  1999.000000  6.997197e+15   999.000000          3.000000   \n",
       "\n",
       "       year_pin_last_changed  \n",
       "count            6146.000000  \n",
       "mean             2013.436707  \n",
       "std                 4.270699  \n",
       "min              2002.000000  \n",
       "25%              2010.000000  \n",
       "50%              2013.000000  \n",
       "75%              2017.000000  \n",
       "max              2020.000000  "
      ]
     },
     "execution_count": 105,
     "metadata": {},
     "output_type": "execute_result"
    }
   ],
   "source": [
    "cards_df.describe()"
   ]
  },
  {
   "cell_type": "code",
   "execution_count": 59,
   "metadata": {},
   "outputs": [
    {
     "data": {
      "text/html": [
       "<div>\n",
       "<style scoped>\n",
       "    .dataframe tbody tr th:only-of-type {\n",
       "        vertical-align: middle;\n",
       "    }\n",
       "\n",
       "    .dataframe tbody tr th {\n",
       "        vertical-align: top;\n",
       "    }\n",
       "\n",
       "    .dataframe thead th {\n",
       "        text-align: right;\n",
       "    }\n",
       "</style>\n",
       "<table border=\"1\" class=\"dataframe\">\n",
       "  <thead>\n",
       "    <tr style=\"text-align: right;\">\n",
       "      <th></th>\n",
       "      <th>id</th>\n",
       "      <th>client_id</th>\n",
       "      <th>card_id</th>\n",
       "      <th>merchant_id</th>\n",
       "      <th>zip</th>\n",
       "      <th>mcc</th>\n",
       "    </tr>\n",
       "  </thead>\n",
       "  <tbody>\n",
       "    <tr>\n",
       "      <th>count</th>\n",
       "      <td>1.000000e+06</td>\n",
       "      <td>1000000.000000</td>\n",
       "      <td>1000000.000000</td>\n",
       "      <td>1000000.000000</td>\n",
       "      <td>884923.00000</td>\n",
       "      <td>1000000.000000</td>\n",
       "    </tr>\n",
       "    <tr>\n",
       "      <th>mean</th>\n",
       "      <td>8.074077e+06</td>\n",
       "      <td>1031.404634</td>\n",
       "      <td>3371.447930</td>\n",
       "      <td>47804.559379</td>\n",
       "      <td>51612.02763</td>\n",
       "      <td>5563.689269</td>\n",
       "    </tr>\n",
       "    <tr>\n",
       "      <th>std</th>\n",
       "      <td>3.461477e+05</td>\n",
       "      <td>582.522773</td>\n",
       "      <td>1681.930546</td>\n",
       "      <td>25764.304200</td>\n",
       "      <td>29406.86513</td>\n",
       "      <td>872.610520</td>\n",
       "    </tr>\n",
       "    <tr>\n",
       "      <th>min</th>\n",
       "      <td>7.475327e+06</td>\n",
       "      <td>0.000000</td>\n",
       "      <td>0.000000</td>\n",
       "      <td>2.000000</td>\n",
       "      <td>1012.00000</td>\n",
       "      <td>1711.000000</td>\n",
       "    </tr>\n",
       "    <tr>\n",
       "      <th>25%</th>\n",
       "      <td>7.774100e+06</td>\n",
       "      <td>515.000000</td>\n",
       "      <td>2239.000000</td>\n",
       "      <td>25887.000000</td>\n",
       "      <td>28645.00000</td>\n",
       "      <td>5300.000000</td>\n",
       "    </tr>\n",
       "    <tr>\n",
       "      <th>50%</th>\n",
       "      <td>8.073848e+06</td>\n",
       "      <td>1077.000000</td>\n",
       "      <td>3431.000000</td>\n",
       "      <td>46284.000000</td>\n",
       "      <td>48036.00000</td>\n",
       "      <td>5499.000000</td>\n",
       "    </tr>\n",
       "    <tr>\n",
       "      <th>75%</th>\n",
       "      <td>8.373562e+06</td>\n",
       "      <td>1534.000000</td>\n",
       "      <td>4718.000000</td>\n",
       "      <td>67570.000000</td>\n",
       "      <td>78130.00000</td>\n",
       "      <td>5812.000000</td>\n",
       "    </tr>\n",
       "    <tr>\n",
       "      <th>max</th>\n",
       "      <td>8.674652e+06</td>\n",
       "      <td>1998.000000</td>\n",
       "      <td>6021.000000</td>\n",
       "      <td>100341.000000</td>\n",
       "      <td>99840.00000</td>\n",
       "      <td>9402.000000</td>\n",
       "    </tr>\n",
       "  </tbody>\n",
       "</table>\n",
       "</div>"
      ],
      "text/plain": [
       "                 id       client_id         card_id     merchant_id  \\\n",
       "count  1.000000e+06  1000000.000000  1000000.000000  1000000.000000   \n",
       "mean   8.074077e+06     1031.404634     3371.447930    47804.559379   \n",
       "std    3.461477e+05      582.522773     1681.930546    25764.304200   \n",
       "min    7.475327e+06        0.000000        0.000000        2.000000   \n",
       "25%    7.774100e+06      515.000000     2239.000000    25887.000000   \n",
       "50%    8.073848e+06     1077.000000     3431.000000    46284.000000   \n",
       "75%    8.373562e+06     1534.000000     4718.000000    67570.000000   \n",
       "max    8.674652e+06     1998.000000     6021.000000   100341.000000   \n",
       "\n",
       "                zip             mcc  \n",
       "count  884923.00000  1000000.000000  \n",
       "mean    51612.02763     5563.689269  \n",
       "std     29406.86513      872.610520  \n",
       "min      1012.00000     1711.000000  \n",
       "25%     28645.00000     5300.000000  \n",
       "50%     48036.00000     5499.000000  \n",
       "75%     78130.00000     5812.000000  \n",
       "max     99840.00000     9402.000000  "
      ]
     },
     "execution_count": 59,
     "metadata": {},
     "output_type": "execute_result"
    }
   ],
   "source": [
    "transaction_df.describe()"
   ]
  },
  {
   "cell_type": "code",
   "execution_count": 60,
   "metadata": {},
   "outputs": [],
   "source": [
    "### Prints all the column names from a dataframe\n",
    "def print_col_names_in_df(columns, title = ''):\n",
    "    print(f' [ {title} ] '.center(80, '='))\n",
    "    print(pd.DataFrame({\n",
    "        'column names' : columns\n",
    "    }).T)\n",
    "    print()"
   ]
  },
  {
   "cell_type": "code",
   "execution_count": 61,
   "metadata": {},
   "outputs": [
    {
     "name": "stdout",
     "output_type": "stream",
     "text": [
      "================================= [ Users DF ] =================================\n",
      "              0            1               2           3            4   \\\n",
      "column names  id  current_age  retirement_age  birth_year  birth_month   \n",
      "\n",
      "                  5        6         7          8                  9   \\\n",
      "column names  gender  address  latitude  longitude  per_capita_income   \n",
      "\n",
      "                         10          11            12                13  \n",
      "column names  yearly_income  total_debt  credit_score  num_credit_cards  \n",
      "\n",
      "================================= [ Cards DF ] =================================\n",
      "              0          1           2          3            4        5    6   \\\n",
      "column names  id  client_id  card_brand  card_type  card_number  expires  cvv   \n",
      "\n",
      "                    7                 8             9               10  \\\n",
      "column names  has_chip  num_cards_issued  credit_limit  acct_open_date   \n",
      "\n",
      "                                 11                12  \n",
      "column names  year_pin_last_changed  card_on_dark_web  \n",
      "\n",
      "============================= [ Transactions DF ] ==============================\n",
      "              0     1          2        3       4         5            6   \\\n",
      "column names  id  date  client_id  card_id  amount  use_chip  merchant_id   \n",
      "\n",
      "                         7               8    9    10      11  \n",
      "column names  merchant_city  merchant_state  zip  mcc  errors  \n",
      "\n"
     ]
    }
   ],
   "source": [
    "# uct = [users_df, cards_df, transaction_df]\n",
    "print_col_names_in_df(users_df.columns, 'Users DF')\n",
    "print_col_names_in_df(cards_df.columns, 'Cards DF')\n",
    "print_col_names_in_df(transaction_df.columns, 'Transactions DF')"
   ]
  },
  {
   "cell_type": "code",
   "execution_count": 109,
   "metadata": {},
   "outputs": [],
   "source": [
    "### Shows the number of values for each features from a dataframe in a heatmap format\n",
    "def null_heatmap(df: pd.DataFrame, title = ''):\n",
    "    nulls = df.isna().sum()\n",
    "    nulls = nulls.to_frame()  \n",
    "    # nulls = nulls.T\n",
    "\n",
    "    sns.heatmap(nulls, annot = True, fmt = 'd', cmap = 'icefire')\n",
    "    plt.title(title)\n",
    "    plt.xticks(ticks=[.5], labels=[f'Total Count : {nulls.values.sum()}'])"
   ]
  },
  {
   "cell_type": "code",
   "execution_count": 63,
   "metadata": {},
   "outputs": [
    {
     "data": {
      "image/png": "[encoded data removed]",
      "text/plain": [
       "<Figure size 2600x500 with 6 Axes>"
      ]
     },
     "metadata": {},
     "output_type": "display_data"
    }
   ],
   "source": [
    "plt.figure(figsize=(26, 5))\n",
    "plt.tight_layout()\n",
    "\n",
    "plt.subplot(1,3, 1)\n",
    "null_heatmap(users_df, \"Null count for User's DF\")\n",
    "plt.subplot(1,3, 2)\n",
    "null_heatmap(cards_df, \"Null count for Cards's DF\")\n",
    "plt.subplot(1,3, 3)\n",
    "null_heatmap(transaction_df, \"Null count for Transaction's DF\")"
   ]
  },
  {
   "cell_type": "markdown",
   "metadata": {},
   "source": [
    "Based on the above heatmap, we can see that only the `transactions_df` got null values for 3 columns, we can impute them with something reasonable for the analysis.  "
   ]
  },
  {
   "cell_type": "code",
   "execution_count": 110,
   "metadata": {},
   "outputs": [
    {
     "name": "stdout",
     "output_type": "stream",
     "text": [
      "<class 'pandas.core.frame.DataFrame'>\n",
      "RangeIndex: 2000 entries, 0 to 1999\n",
      "Data columns (total 14 columns):\n",
      " #   Column             Non-Null Count  Dtype  \n",
      "---  ------             --------------  -----  \n",
      " 0   id                 2000 non-null   int64  \n",
      " 1   current_age        2000 non-null   int64  \n",
      " 2   retirement_age     2000 non-null   int64  \n",
      " 3   birth_year         2000 non-null   int64  \n",
      " 4   birth_month        2000 non-null   int64  \n",
      " 5   gender             2000 non-null   object \n",
      " 6   address            2000 non-null   object \n",
      " 7   latitude           2000 non-null   float64\n",
      " 8   longitude          2000 non-null   float64\n",
      " 9   per_capita_income  2000 non-null   object \n",
      " 10  yearly_income      2000 non-null   object \n",
      " 11  total_debt         2000 non-null   object \n",
      " 12  credit_score       2000 non-null   int64  \n",
      " 13  num_credit_cards   2000 non-null   int64  \n",
      "dtypes: float64(2), int64(7), object(5)\n",
      "memory usage: 218.9+ KB\n"
     ]
    }
   ],
   "source": [
    "users_df.info()"
   ]
  },
  {
   "cell_type": "markdown",
   "metadata": {},
   "source": [
    "`per_capita_income` & `yearly_income` & `total_dept` can be usefull during our analysis so we can clean and convert them from object to float64"
   ]
  },
  {
   "cell_type": "code",
   "execution_count": 111,
   "metadata": {},
   "outputs": [
    {
     "name": "stdout",
     "output_type": "stream",
     "text": [
      "<class 'pandas.core.frame.DataFrame'>\n",
      "RangeIndex: 2000 entries, 0 to 1999\n",
      "Data columns (total 3 columns):\n",
      " #   Column             Non-Null Count  Dtype  \n",
      "---  ------             --------------  -----  \n",
      " 0   per_capita_income  2000 non-null   float64\n",
      " 1   yearly_income      2000 non-null   float64\n",
      " 2   total_debt         2000 non-null   float64\n",
      "dtypes: float64(3)\n",
      "memory usage: 47.0 KB\n"
     ]
    }
   ],
   "source": [
    "remove_currency = lambda x: float(x.replace('$','').strip())\n",
    "users_df['per_capita_income'] = users_df.per_capita_income.apply(remove_currency)\n",
    "users_df['yearly_income'] = users_df.yearly_income.apply(remove_currency)\n",
    "users_df['total_debt'] = users_df.total_debt.apply(remove_currency)\n",
    "users_df[['per_capita_income', 'yearly_income', 'total_debt']].info()"
   ]
  },
  {
   "cell_type": "code",
   "execution_count": 112,
   "metadata": {},
   "outputs": [
    {
     "name": "stdout",
     "output_type": "stream",
     "text": [
      "<class 'pandas.core.frame.DataFrame'>\n",
      "RangeIndex: 6146 entries, 0 to 6145\n",
      "Data columns (total 13 columns):\n",
      " #   Column                 Non-Null Count  Dtype \n",
      "---  ------                 --------------  ----- \n",
      " 0   id                     6146 non-null   int64 \n",
      " 1   client_id              6146 non-null   int64 \n",
      " 2   card_brand             6146 non-null   object\n",
      " 3   card_type              6146 non-null   object\n",
      " 4   card_number            6146 non-null   int64 \n",
      " 5   expires                6146 non-null   object\n",
      " 6   cvv                    6146 non-null   int64 \n",
      " 7   has_chip               6146 non-null   object\n",
      " 8   num_cards_issued       6146 non-null   int64 \n",
      " 9   credit_limit           6146 non-null   object\n",
      " 10  acct_open_date         6146 non-null   object\n",
      " 11  year_pin_last_changed  6146 non-null   int64 \n",
      " 12  card_on_dark_web       6146 non-null   object\n",
      "dtypes: int64(6), object(7)\n",
      "memory usage: 624.3+ KB\n"
     ]
    }
   ],
   "source": [
    "cards_df.info()"
   ]
  },
  {
   "cell_type": "markdown",
   "metadata": {},
   "source": [
    "* Let's `card_number` to string from int as they go over the limit for the SQL Integers\n",
    "* `credit_limit` can be used for analysis too \n",
    "* It's better to convert the `has_chip` & `card_on_dark_web` from `YES` & `NO` to Bool as its better for the analysis"
   ]
  },
  {
   "cell_type": "code",
   "execution_count": 113,
   "metadata": {},
   "outputs": [
    {
     "name": "stdout",
     "output_type": "stream",
     "text": [
      "<class 'pandas.core.frame.DataFrame'>\n",
      "RangeIndex: 6146 entries, 0 to 6145\n",
      "Data columns (total 4 columns):\n",
      " #   Column            Non-Null Count  Dtype  \n",
      "---  ------            --------------  -----  \n",
      " 0   card_number       6146 non-null   object \n",
      " 1   credit_limit      6146 non-null   float64\n",
      " 2   has_chip          6146 non-null   bool   \n",
      " 3   card_on_dark_web  6146 non-null   bool   \n",
      "dtypes: bool(2), float64(1), object(1)\n",
      "memory usage: 108.2+ KB\n"
     ]
    },
    {
     "name": "stderr",
     "output_type": "stream",
     "text": [
      "C:\\Users\\jaabi\\AppData\\Local\\Temp\\ipykernel_4396\\4259577858.py:3: FutureWarning: Downcasting behavior in `replace` is deprecated and will be removed in a future version. To retain the old behavior, explicitly call `result.infer_objects(copy=False)`. To opt-in to the future behavior, set `pd.set_option('future.no_silent_downcasting', True)`\n",
      "  cards_df['has_chip'] = cards_df.has_chip.replace({'YES': True, 'NO': False})\n",
      "C:\\Users\\jaabi\\AppData\\Local\\Temp\\ipykernel_4396\\4259577858.py:4: FutureWarning: Downcasting behavior in `replace` is deprecated and will be removed in a future version. To retain the old behavior, explicitly call `result.infer_objects(copy=False)`. To opt-in to the future behavior, set `pd.set_option('future.no_silent_downcasting', True)`\n",
      "  cards_df['card_on_dark_web'] = cards_df.card_on_dark_web.replace({'Yes': True, 'No': False})\n"
     ]
    }
   ],
   "source": [
    "cards_df['card_number'] = cards_df.card_number.astype(str)\n",
    "cards_df['credit_limit'] = cards_df.credit_limit.apply(remove_currency)\n",
    "cards_df['has_chip'] = cards_df.has_chip.replace({'YES': True, 'NO': False})\n",
    "cards_df['card_on_dark_web'] = cards_df.card_on_dark_web.replace({'Yes': True, 'No': False})\n",
    "cards_df[['card_number', 'credit_limit', 'has_chip', 'card_on_dark_web']].info()"
   ]
  },
  {
   "cell_type": "code",
   "execution_count": 114,
   "metadata": {},
   "outputs": [
    {
     "name": "stdout",
     "output_type": "stream",
     "text": [
      "<class 'pandas.core.frame.DataFrame'>\n",
      "RangeIndex: 1000000 entries, 0 to 999999\n",
      "Data columns (total 12 columns):\n",
      " #   Column          Non-Null Count    Dtype  \n",
      "---  ------          --------------    -----  \n",
      " 0   id              1000000 non-null  int64  \n",
      " 1   date            1000000 non-null  object \n",
      " 2   client_id       1000000 non-null  int64  \n",
      " 3   card_id         1000000 non-null  int64  \n",
      " 4   amount          1000000 non-null  object \n",
      " 5   use_chip        1000000 non-null  object \n",
      " 6   merchant_id     1000000 non-null  int64  \n",
      " 7   merchant_city   1000000 non-null  object \n",
      " 8   merchant_state  890869 non-null   object \n",
      " 9   zip             884923 non-null   float64\n",
      " 10  mcc             1000000 non-null  int64  \n",
      " 11  errors          15623 non-null    object \n",
      "dtypes: float64(1), int64(5), object(6)\n",
      "memory usage: 91.6+ MB\n"
     ]
    }
   ],
   "source": [
    "transaction_df.info()"
   ]
  },
  {
   "cell_type": "markdown",
   "metadata": {},
   "source": [
    "We can remove the `$` from the `amount` column for the `transaction_df` too."
   ]
  },
  {
   "cell_type": "code",
   "execution_count": 115,
   "metadata": {},
   "outputs": [
    {
     "name": "stdout",
     "output_type": "stream",
     "text": [
      "<class 'pandas.core.frame.DataFrame'>\n",
      "RangeIndex: 1000000 entries, 0 to 999999\n",
      "Data columns (total 1 columns):\n",
      " #   Column  Non-Null Count    Dtype  \n",
      "---  ------  --------------    -----  \n",
      " 0   amount  1000000 non-null  float64\n",
      "dtypes: float64(1)\n",
      "memory usage: 7.6 MB\n"
     ]
    }
   ],
   "source": [
    "transaction_df['amount'] = transaction_df.amount.apply(remove_currency)\n",
    "transaction_df[['amount']].info()"
   ]
  },
  {
   "cell_type": "markdown",
   "metadata": {},
   "source": [
    "Since most of the rows will be None for the `errors` from `transactions_df`, lets replace it with `No Errors`"
   ]
  },
  {
   "cell_type": "code",
   "execution_count": 116,
   "metadata": {},
   "outputs": [
    {
     "data": {
      "text/plain": [
       "array([nan, 'Technical Glitch', 'Bad Expiration', 'Bad Card Number',\n",
       "       'Insufficient Balance', 'Bad PIN', 'Bad CVV', 'Bad Zipcode',\n",
       "       'Insufficient Balance,Technical Glitch',\n",
       "       'Bad PIN,Insufficient Balance', 'Bad PIN,Technical Glitch',\n",
       "       'Bad Expiration,Technical Glitch',\n",
       "       'Bad Card Number,Bad Expiration',\n",
       "       'Bad Card Number,Insufficient Balance',\n",
       "       'Bad Expiration,Insufficient Balance', 'Bad Card Number,Bad CVV',\n",
       "       'Bad CVV,Technical Glitch', 'Bad Expiration,Bad CVV',\n",
       "       'Bad CVV,Insufficient Balance'], dtype=object)"
      ]
     },
     "execution_count": 116,
     "metadata": {},
     "output_type": "execute_result"
    }
   ],
   "source": [
    "transaction_df.errors.unique()"
   ]
  },
  {
   "cell_type": "markdown",
   "metadata": {},
   "source": [
    "Filling those missing values with `No Errors` for the `errors` from `transaction_df` makes more sense rather than leaving it null."
   ]
  },
  {
   "cell_type": "code",
   "execution_count": 117,
   "metadata": {},
   "outputs": [
    {
     "data": {
      "text/plain": [
       "array(['No Errors', 'Technical Glitch', 'Bad Expiration',\n",
       "       'Bad Card Number', 'Insufficient Balance', 'Bad PIN', 'Bad CVV',\n",
       "       'Bad Zipcode', 'Insufficient Balance,Technical Glitch',\n",
       "       'Bad PIN,Insufficient Balance', 'Bad PIN,Technical Glitch',\n",
       "       'Bad Expiration,Technical Glitch',\n",
       "       'Bad Card Number,Bad Expiration',\n",
       "       'Bad Card Number,Insufficient Balance',\n",
       "       'Bad Expiration,Insufficient Balance', 'Bad Card Number,Bad CVV',\n",
       "       'Bad CVV,Technical Glitch', 'Bad Expiration,Bad CVV',\n",
       "       'Bad CVV,Insufficient Balance'], dtype=object)"
      ]
     },
     "execution_count": 117,
     "metadata": {},
     "output_type": "execute_result"
    }
   ],
   "source": [
    "transaction_df['errors'] = transaction_df.errors.fillna('No Errors')\n",
    "transaction_df.errors.unique()"
   ]
  },
  {
   "cell_type": "code",
   "execution_count": 72,
   "metadata": {},
   "outputs": [
    {
     "data": {
      "image/png": "[encoded data removed]",
      "text/plain": [
       "<Figure size 640x480 with 1 Axes>"
      ]
     },
     "metadata": {},
     "output_type": "display_data"
    }
   ],
   "source": [
    "sns.boxplot(transaction_df.zip);\n",
    "plt.title(f\"Min : {transaction_df.dropna().zip.min()} | Mean : {transaction_df.dropna().zip.mean()} | Max : {transaction_df.dropna().zip.max()}\");"
   ]
  },
  {
   "cell_type": "code",
   "execution_count": 118,
   "metadata": {},
   "outputs": [],
   "source": [
    "transaction_df['zip'] = transaction_df.zip.fillna('0')\n",
    "transaction_df['merchant_state'] = transaction_df.merchant_state.fillna('Unknown')"
   ]
  },
  {
   "cell_type": "markdown",
   "metadata": {},
   "source": [
    "<span style=\"color: green;font-weight: bold\">All the datasets required for the analysis are cleaned and ready to use</span>"
   ]
  },
  {
   "cell_type": "code",
   "execution_count": 119,
   "metadata": {},
   "outputs": [
    {
     "data": {
      "text/plain": [
       "[None, None, None]"
      ]
     },
     "execution_count": 119,
     "metadata": {},
     "output_type": "execute_result"
    }
   ],
   "source": [
    "### Saving the cleaned datasets to a new folder incase we need it later\n",
    "nfolder = 'analysis_data'\n",
    "if nfolder not in os.listdir():\n",
    "    os.mkdir(nfolder)\n",
    "\n",
    "[idf.to_csv(os.path.join(nfolder, iname), index=False) for idf, iname in [(users_df, 'users_data.csv'), (cards_df, 'cards_data.csv'), (transaction_df, 'transactions_data.csv')]]"
   ]
  },
  {
   "cell_type": "markdown",
   "metadata": {},
   "source": [
    "#### MYSQL"
   ]
  },
  {
   "cell_type": "code",
   "execution_count": 120,
   "metadata": {},
   "outputs": [],
   "source": [
    "### Maps the python datatypes to SQLite datatypes.\n",
    "def convert_pydt_to_sqldt(dt):\n",
    "    if dt == 'int64':\n",
    "        return Integer\n",
    "    elif dt == 'float64':\n",
    "        return Float\n",
    "    elif dt == 'bool':\n",
    "        return Boolean\n",
    "    return String(255)"
   ]
  },
  {
   "cell_type": "markdown",
   "metadata": {},
   "source": [
    "We need to get the SQLite datatypes for all the columns before inserting them to the SQL table."
   ]
  },
  {
   "cell_type": "code",
   "execution_count": 121,
   "metadata": {},
   "outputs": [],
   "source": [
    "users_dtypes = {k: convert_pydt_to_sqldt(dt) for k, dt in users_df.dtypes.items()}\n",
    "cards_dtypes = {k: convert_pydt_to_sqldt(dt) for k, dt in cards_df.dtypes.items()}\n",
    "transaction_dtypes = {k: convert_pydt_to_sqldt(dt) for k, dt in transaction_df.dtypes.items()}"
   ]
  },
  {
   "cell_type": "code",
   "execution_count": 128,
   "metadata": {},
   "outputs": [],
   "source": [
    "db_url = f\"mysql+mysqlconnector://{MYSQL_CONFIG['username']}:{MYSQL_CONFIG['password']}@{MYSQL_CONFIG['host']}:3306/{DB_NAME}\"\n",
    "engine = create_engine(db_url)"
   ]
  },
  {
   "cell_type": "code",
   "execution_count": 137,
   "metadata": {},
   "outputs": [],
   "source": [
    "### Creates a chunks of rows based on the given batch_size \n",
    "### This takes in the large dataframe and a batch_size as its input and output a list of dataframes where each of those chunk dfs will be in a batch\n",
    "def create_batch(df, batch_size: int = 100000):\n",
    "    batch_df = []\n",
    "    st = 0\n",
    "    ed = batch_size\n",
    "    while st < df.shape[0]:\n",
    "        ed = min(st + batch_size, df.shape[0])\n",
    "        bdf = df.iloc[st:ed, :]\n",
    "        batch_df.append(bdf)\n",
    "        st = ed\n",
    "        \n",
    "    return batch_df"
   ]
  },
  {
   "cell_type": "markdown",
   "metadata": {},
   "source": [
    "Let's split the `transactions_df` since the file is too large to store it in the db at once."
   ]
  },
  {
   "cell_type": "code",
   "execution_count": 138,
   "metadata": {},
   "outputs": [],
   "source": [
    "chunks_transaction_df = create_batch(transaction_df)"
   ]
  },
  {
   "cell_type": "code",
   "execution_count": null,
   "metadata": {},
   "outputs": [],
   "source": [
    "# Users\n",
    "users_create_statement = \"\"\"CREATE TABLE users (\n",
    "    id INT PRIMARY KEY,\n",
    "    current_age INT,\n",
    "    retirement_age INT,\n",
    "    birth_year INT,\n",
    "    birth_month INT,\n",
    "    gender ENUM('Male', 'Female', 'Other'),\n",
    "    address VARCHAR(255),\n",
    "    latitude FLOAT,\n",
    "    longitude FLOAT,\n",
    "    per_capita_income FLOAT,\n",
    "    yearly_income FLOAT,\n",
    "    total_debt FLOAT,\n",
    "    credit_score INT,\n",
    "    num_credit_cards INT\n",
    ");\"\"\"\n",
    "\n",
    "# Cards\n",
    "cards_create_statement = \"\"\"CREATE TABLE cards (\n",
    "    id INT PRIMARY KEY,\n",
    "    client_id INT,\n",
    "    card_brand VARCHAR(255),\n",
    "    card_type VARCHAR(255),\n",
    "    card_number VARCHAR(255),\n",
    "    expires VARCHAR(7) CHECK (expires REGEXP '^(0[1-9]|1[0-2])/[0-9]{4}$'),\n",
    "    cvv INT,\n",
    "    has_chip BOOLEAN,\n",
    "    num_cards_issued INT CHECK (num_cards_issued > 0),\n",
    "    credit_limit FLOAT,\n",
    "    acct_open_date VARCHAR(7) CHECK (acct_open_date REGEXP '^(0[1-9]|1[0-2])/[0-9]{4}$'),\n",
    "    year_pin_last_changed INT,\n",
    "    card_on_dark_web BOOLEAN\n",
    ");\n",
    "\"\"\"\n",
    "\n",
    "# Transactions\n",
    "transactions_create_statement = \"\"\"CREATE TABLE transactions (\n",
    "    id INT PRIMARY KEY,\n",
    "    date DATE, -- ISO 8601 format corresponds to DATE type in MySQL\n",
    "    client_id INT,\n",
    "    card_id INT,\n",
    "    amount FLOAT,\n",
    "    use_chip VARCHAR(255), \n",
    "    merchant_id INT,       \n",
    "    merchant_city VARCHAR(255),\n",
    "    merchant_state VARCHAR(255),\n",
    "    zip FLOAT,             \n",
    "    mcc INT,               \n",
    "    errors VARCHAR(255)\n",
    ");\n",
    "\"\"\""
   ]
  },
  {
   "cell_type": "markdown",
   "metadata": {},
   "source": [
    "we can use this create table queries to create the table. But, we can also use SQLite engine to store the rows directly from the dataframe to the sql without needing to use the For loops and INSERT TABLE queries in one line of code."
   ]
  },
  {
   "cell_type": "code",
   "execution_count": 141,
   "metadata": {},
   "outputs": [
    {
     "name": "stderr",
     "output_type": "stream",
     "text": [
      "100%|██████████| 10/10 [03:43<00:00, 22.31s/it]\n"
     ]
    }
   ],
   "source": [
    "from sqlalchemy.orm import sessionmaker\n",
    "from tqdm import tqdm\n",
    "\n",
    "Session = sessionmaker(bind=engine)\n",
    "session = Session()\n",
    "\n",
    "### inserting to the mysql database using SQLite engine & pandas \n",
    "try:\n",
    "    if session.is_active:\n",
    "        session.rollback()\n",
    "        \n",
    "    users_df.to_sql('users', con=engine, if_exists='replace', method='multi', dtype=users_dtypes)\n",
    "    cards_df.to_sql('cards', con=engine, if_exists='replace', method='multi', dtype=cards_dtypes)\n",
    "    ### inserting the rows in batches sequentially for the smoother process \n",
    "    for cdf in tqdm(chunks_transaction_df):\n",
    "        cdf.to_sql('transactions', con=engine, if_exists='append', method='multi', dtype=transaction_dtypes)\n",
    "    session.commit()  \n",
    "except Exception as e:\n",
    "    session.rollback()  \n",
    "    print(\"Error occurred: \", e)\n",
    "finally:\n",
    "    session.close()"
   ]
  },
  {
   "cell_type": "code",
   "execution_count": 7,
   "metadata": {},
   "outputs": [],
   "source": [
    "### A decorator to note the time of the function's execution time in ms \n",
    "def timeit(function):\n",
    "    def wrapper(*args, **kwargs):\n",
    "        st = time()\n",
    "        result = function(*args, **kwargs)\n",
    "        ed = time()\n",
    "        ms = round((ed - st) * 1000, 4)\n",
    "        print(f'Executed the code in : {ms} ms')\n",
    "        return result\n",
    "    return wrapper\n",
    "\n",
    "### This function takes in the SQLite engine and query and outputs the result along with the number of rows collected from the given query.\n",
    "@timeit\n",
    "def execute_engine(engine, query, limit_view = -1):\n",
    "    if limit_view > 0:\n",
    "        print(f'Limiting the view to {limit_view}')\n",
    "    print()\n",
    "    with engine.connect() as connection:\n",
    "        result = list(connection.execute(text(query)))\n",
    "        for nums, row in enumerate(result):\n",
    "            if limit_view < 0 or nums < limit_view:\n",
    "                print(row)\n",
    "            else: break\n",
    "    \n",
    "    print(f'Total Number of Documents Collected: {len(result)}')"
   ]
  },
  {
   "cell_type": "code",
   "execution_count": 8,
   "metadata": {},
   "outputs": [
    {
     "name": "stdout",
     "output_type": "stream",
     "text": [
      "Limiting the view to 5\n",
      "\n",
      "(825, 53, 59696.0, 787)\n",
      "(1116, 81, 42509.0, 755)\n",
      "(1752, 34, 38190.0, 810)\n",
      "(192, 27, 56164.0, 761)\n",
      "(1679, 18, 69149.0, 776)\n",
      "Total Number of Documents Collected: 524\n",
      "Executed the code in : 2.5623 ms\n"
     ]
    }
   ],
   "source": [
    "#Select users with a credit score greater than 750.\n",
    "q1 = \"SELECT id, current_age, yearly_income, credit_score FROM Users WHERE credit_score > 750;\"\n",
    "execute_engine(engine, q1, 5)"
   ]
  },
  {
   "cell_type": "code",
   "execution_count": 9,
   "metadata": {},
   "outputs": [
    {
     "name": "stdout",
     "output_type": "stream",
     "text": [
      "Limiting the view to 5\n",
      "\n",
      "(7475516, '2010-01-01 04:56:00', 3233, 104.1, 'Technical Glitch')\n",
      "(7475611, '2010-01-01 06:10:00', 1127, 28.84, 'Bad Expiration')\n",
      "(7475643, '2010-01-01 06:19:00', 1127, 38.58, 'Bad Card Number')\n",
      "(7475792, '2010-01-01 07:02:00', 4710, -72.0, 'Insufficient Balance')\n",
      "(7475881, '2010-01-01 07:22:00', 184, 37.54, 'Insufficient Balance')\n",
      "Total Number of Documents Collected: 15623\n",
      "Executed the code in : 1388.2749 ms\n"
     ]
    }
   ],
   "source": [
    "#Select all transactions where errors occurred.\n",
    "q2 = \"SELECT id, date, card_id, amount, errors FROM Transactions WHERE errors IS NOT NULL AND errors != 'No Errors';\"\n",
    "execute_engine(engine, q2, 5)"
   ]
  },
  {
   "cell_type": "code",
   "execution_count": 10,
   "metadata": {},
   "outputs": [
    {
     "name": "stdout",
     "output_type": "stream",
     "text": [
      "Limiting the view to 5\n",
      "\n",
      "('Female', 'ND', 13439.22005301714)\n",
      "('Female', 'IN', 425867.2800893709)\n",
      "('Female', 'NY', 1624759.0598602444)\n",
      "('Female', 'Unknown', 3316161.5595796295)\n",
      "('Female', 'CA', 2219893.7906959746)\n",
      "Total Number of Documents Collected: 109\n",
      "Executed the code in : 1462.4133 ms\n"
     ]
    }
   ],
   "source": [
    "#Calculate the total transaction amount per state for female users.\n",
    "q3 = \"\"\"SELECT U.gender, T.merchant_state, SUM(T.amount) AS total_spent FROM Transactions T \n",
    "        JOIN Users U ON T.client_id = U.id WHERE U.gender = 'Female' GROUP BY T.merchant_state;\"\"\"\n",
    "execute_engine(engine, q3, 5)"
   ]
  },
  {
   "cell_type": "code",
   "execution_count": 11,
   "metadata": {},
   "outputs": [
    {
     "name": "stdout",
     "output_type": "stream",
     "text": [
      "Limiting the view to 5\n",
      "\n",
      "Total Number of Documents Collected: 0\n",
      "Executed the code in : 16.5825 ms\n"
     ]
    }
   ],
   "source": [
    "#Find all cards flagged as \"on_dark_web\" that were used in transactions exceeding $1,000.\n",
    "q4 = \"\"\"SELECT C.card_number, C.card_brand, T.amount, T.date\n",
    "               FROM Transactions T\n",
    "               JOIN Cards C ON T.card_id = C.id\n",
    "               WHERE C.card_on_dark_web = 1 AND T.amount > 1000;\"\"\"\n",
    "execute_engine(engine, q4, 5)"
   ]
  },
  {
   "cell_type": "markdown",
   "metadata": {},
   "source": [
    "The above query didnt give any results because there are no cards that are on the dark web."
   ]
  },
  {
   "cell_type": "markdown",
   "metadata": {},
   "source": [
    "#### Mongo DB"
   ]
  },
  {
   "cell_type": "code",
   "execution_count": 4,
   "metadata": {},
   "outputs": [
    {
     "data": {
      "text/plain": [
       "Database(MongoClient(host=['127.0.0.1:27017'], document_class=dict, tz_aware=False, connect=True, directconnection=True, serverselectiontimeoutms=2000, appname='mongosh 2.3.3'), 'test')"
      ]
     },
     "execution_count": 4,
     "metadata": {},
     "output_type": "execute_result"
    }
   ],
   "source": [
    "\n",
    "uri = f'mongodb://{MONGO_DB_CONFIG[\"hostname\"]}:{MONGO_DB_CONFIG[\"port\"]}/?directConnection=true&serverSelectionTimeoutMS=2000&appName={MONGO_DB_CONFIG[\"appName\"]}+2.3.3'\n",
    "client = MongoClient(uri)\n",
    "client.test"
   ]
  },
  {
   "cell_type": "code",
   "execution_count": 5,
   "metadata": {},
   "outputs": [
    {
     "name": "stdout",
     "output_type": "stream",
     "text": [
      "Connected to the Database: [project_test]\n"
     ]
    }
   ],
   "source": [
    "### Drops all the collections from the DB \n",
    "def drop_collections(db):\n",
    "    clists = db.list_collection_names()\n",
    "    for col in clists:\n",
    "        print(f'Dropping collection: {col}')\n",
    "        db.drop_collection(col)\n",
    "\n",
    "### Test the connection\n",
    "try:\n",
    "    db = client[DB_NAME]\n",
    "    print(f\"Connected to the Database: [{DB_NAME}]\")\n",
    "    \n",
    "    server_status = db.command(\"serverStatus\")\n",
    "    # print(\"Server Status:\", server_status)\n",
    "except Exception as e:\n",
    "    print(\"Could not connect to MongoDB:\", e)"
   ]
  },
  {
   "cell_type": "code",
   "execution_count": 15,
   "metadata": {},
   "outputs": [
    {
     "name": "stdout",
     "output_type": "stream",
     "text": [
      "['transactions', 'cards', 'users']\n",
      "['transactions', 'cards', 'users']\n"
     ]
    }
   ],
   "source": [
    "print(db.list_collection_names())\n",
    "# drop_collections(db)\n",
    "print(db.list_collection_names())"
   ]
  },
  {
   "cell_type": "code",
   "execution_count": null,
   "metadata": {},
   "outputs": [],
   "source": [
    "#Users collection\n",
    "db.create_collection(\"users\", validator = {\n",
    "  \"$jsonSchema\": {\n",
    "    \"bsonType\": \"object\",\n",
    "    \"required\": [\"id\", \"current_age\", \"retirement_age\", \"birth_year\", \"birth_month\", \"gender\", \"address\", \"latitude\", \"longitude\", \"per_capita_income\", \"yearly_income\", \"total_debt\", \"credit_score\", \"num_credit_cards\"],\n",
    "    \"properties\": {\n",
    "      \"id\": {\n",
    "        \"bsonType\": \"int\",\n",
    "        \"description\": \"Must be an integer and is required.\"\n",
    "      },\n",
    "      \"current_age\": {\n",
    "        \"bsonType\": \"int\",\n",
    "        \"description\": \"Must be an integer and is required.\"\n",
    "      },\n",
    "      \"retirement_age\": {\n",
    "        \"bsonType\": \"int\",\n",
    "        \"description\": \"Must be an integer and is required.\"\n",
    "      },\n",
    "      \"birth_year\": {\n",
    "        \"bsonType\": \"int\",\n",
    "        \"description\": \"Must be an integer representing the year of birth and is required.\"\n",
    "      },\n",
    "      \"birth_month\": {\n",
    "        \"bsonType\": \"int\",\n",
    "        \"description\": \"Must be an integer representing the month of birth and is required.\"\n",
    "      },\n",
    "      \"gender\": {\n",
    "        \"bsonType\": \"string\",\n",
    "        \"enum\": [\"Male\", \"Female\", \"Other\"],\n",
    "        \"description\": \"Must be a string and one of the predefined values.\"\n",
    "      },\n",
    "      \"address\": {\n",
    "        \"bsonType\": \"string\",\n",
    "        \"description\": \"Must be a string representing the address and is required.\"\n",
    "      },\n",
    "      \"latitude\": {\n",
    "        \"bsonType\": \"double\",\n",
    "        \"description\": \"Must be a float representing the latitude coordinate and is required.\"\n",
    "      },\n",
    "      \"longitude\": {\n",
    "        \"bsonType\": \"double\",\n",
    "        \"description\": \"Must be a float representing the longitude coordinate and is required.\"\n",
    "      },\n",
    "      \"per_capita_income\": {\n",
    "        \"bsonType\": \"double\",\n",
    "        \"description\": \"Must be a float formatted as currency and is required.\"\n",
    "      },\n",
    "      \"yearly_income\": {\n",
    "        \"bsonType\": \"double\",\n",
    "        \"description\": \"Must be a float formatted as currency and is required.\"\n",
    "      },\n",
    "      \"total_debt\": {\n",
    "        \"bsonType\": \"double\",\n",
    "        \"description\": \"Must be a float formatted as currency and is required.\"\n",
    "      },\n",
    "      \"credit_score\": {\n",
    "        \"bsonType\": \"int\",\n",
    "        \"description\": \"Must be an integer representing the credit score and is required.\"\n",
    "      },\n",
    "      \"num_credit_cards\": {\n",
    "        \"bsonType\": \"int\",\n",
    "        \"description\": \"Must be an integer representing the number of credit cards and is required.\"\n",
    "      }\n",
    "    }\n",
    "  }\n",
    "}\n",
    ")"
   ]
  },
  {
   "cell_type": "code",
   "execution_count": null,
   "metadata": {},
   "outputs": [],
   "source": [
    "db.create_collection(\"cards\", validator = {\n",
    "  \"$jsonSchema\": {\n",
    "    \"bsonType\": \"object\",\n",
    "    \"required\": [\n",
    "      \"id\",\n",
    "      \"client_id\",\n",
    "      \"card_brand\",\n",
    "      \"card_type\",\n",
    "      \"card_number\",\n",
    "      \"expires\",\n",
    "      \"cvv\",\n",
    "      \"has_chip\",\n",
    "      \"num_cards_issued\",\n",
    "      \"credit_limit\",\n",
    "      \"acct_open_date\",\n",
    "      \"year_pin_last_changed\",\n",
    "      \"card_on_dark_web\"\n",
    "    ],\n",
    "    \"properties\": {\n",
    "      \"id\": {\n",
    "        \"bsonType\": \"int\",\n",
    "        \"description\": \"must be an integer and is required\"\n",
    "      },\n",
    "      \"client_id\": {\n",
    "        \"bsonType\": \"int\",\n",
    "        \"description\": \"must be an integer and is required\"\n",
    "      },\n",
    "      \"card_brand\": {\n",
    "        \"bsonType\": \"string\",\n",
    "        \"description\": \"must be a string and is required\"\n",
    "      },\n",
    "      \"card_type\": {\n",
    "        \"bsonType\": \"string\",\n",
    "        \"description\": \"must be a string and is required\"\n",
    "      },\n",
    "      \"card_number\": {\n",
    "        \"bsonType\": [\"string\", \"long\"],\n",
    "        \"description\": \"must be a string and is required\"\n",
    "      },\n",
    "      \"expires\": {\n",
    "        \"bsonType\": \"string\",\n",
    "        \"pattern\": \"^(0[1-9]|1[0-2])/[0-9]{4}$\",\n",
    "        \"description\": \"must be in MM/YYYY format\"\n",
    "      },\n",
    "      \"cvv\": {\n",
    "        \"bsonType\": \"int\",\n",
    "        \"description\": \"must be an integer and is required\"\n",
    "      },\n",
    "      \"has_chip\": {\n",
    "        \"bsonType\": \"bool\",\n",
    "        \"description\": \"must be a boolean and is required\"\n",
    "      },\n",
    "      \"num_cards_issued\": {\n",
    "        \"bsonType\": \"int\",\n",
    "        \"description\": \"must be an integer greater than 0\"\n",
    "      },\n",
    "      \"credit_limit\": {\n",
    "        \"bsonType\": \"double\",\n",
    "        \"description\": \"must be a float and is required\"\n",
    "      },\n",
    "      \"acct_open_date\": {\n",
    "        \"bsonType\": \"string\",\n",
    "        \"pattern\": \"^(0[1-9]|1[0-2])/[0-9]{4}$\",\n",
    "        \"description\": \"must be in MM/YYYY format\"\n",
    "      },\n",
    "      \"year_pin_last_changed\": {\n",
    "        \"bsonType\": \"int\",\n",
    "        \"description\": \"must be an integer and is required\"\n",
    "      },\n",
    "      \"card_on_dark_web\": {\n",
    "        \"bsonType\": \"bool\",\n",
    "        \"description\": \"must be a boolean and is required\"\n",
    "      }\n",
    "    }\n",
    "  }\n",
    "}\n",
    ")"
   ]
  },
  {
   "cell_type": "code",
   "execution_count": null,
   "metadata": {},
   "outputs": [],
   "source": [
    "#Transactions collection\n",
    "db.create_collection(\"transactions\", validator = {\n",
    "    \"$jsonSchema\": {\n",
    "      \"bsonType\": \"object\",\n",
    "      \"required\": [\"id\", \"date\", \"client_id\", \"card_id\", \"amount\", \"merchant_city\", \"merchant_state\", \"errors\"],\n",
    "      \"properties\": {\n",
    "        \"id\": {\n",
    "          \"bsonType\": \"int\",\n",
    "          \"description\": \"Must be an integer and is required.\"\n",
    "        },\n",
    "        \"date\": {\n",
    "          \"bsonType\": \"string\",\n",
    "          \"description\": \"Must be a string in ISO 8601 date format and is required.\"\n",
    "        },\n",
    "        \"client_id\": {\n",
    "          \"bsonType\": \"int\",\n",
    "          \"description\": \"Must be an integer and is required.\"\n",
    "        },\n",
    "        \"card_id\": {\n",
    "          \"bsonType\": \"int\",\n",
    "          \"description\": \"Must be an integer and is required.\"\n",
    "        },\n",
    "        \"amount\": {\n",
    "          \"bsonType\": \"double\",\n",
    "          \"description\": \"Must be a float representing a monetary value and is required.\"\n",
    "        },\n",
    "        \"use_chip\": {\n",
    "          \"bsonType\": \"string\",\n",
    "          \"description\": \"Must be a string indicating the transaction type if provided.\"\n",
    "        },\n",
    "        \"merchant_id\": {\n",
    "          \"bsonType\": \"int\",\n",
    "          \"description\": \"Must be an integer if provided.\"\n",
    "        },\n",
    "        \"merchant_city\": {\n",
    "          \"bsonType\": \"string\",\n",
    "          \"description\": \"Must be a string representing a city name and is required.\"\n",
    "        },\n",
    "        \"merchant_state\": {\n",
    "          \"bsonType\": \"string\",\n",
    "          \"description\": \"Must be a string representing a state code and is required.\"\n",
    "        },\n",
    "        \"zip\": {\n",
    "          \"bsonType\": \"double\",\n",
    "          \"description\": \"Must be a float representing a ZIP code if provided.\"\n",
    "        },\n",
    "        \"mcc\": {\n",
    "          \"bsonType\": \"int\",\n",
    "          \"description\": \"Must be an integer representing a Merchant Category Code if provided.\"\n",
    "        },\n",
    "        \"errors\": {\n",
    "          \"bsonType\": \"string\",\n",
    "          \"description\": \"Must be a string and is required.\"\n",
    "        }\n",
    "      }\n",
    "    }\n",
    "  }\n",
    ")"
   ]
  },
  {
   "cell_type": "code",
   "execution_count": 16,
   "metadata": {},
   "outputs": [],
   "source": [
    "users_collection = db['users']\n",
    "cards_collection = db['cards']\n",
    "transactions_collection = db['transactions']"
   ]
  },
  {
   "cell_type": "code",
   "execution_count": 167,
   "metadata": {},
   "outputs": [
    {
     "name": "stderr",
     "output_type": "stream",
     "text": [
      "100%|██████████| 10/10 [00:25<00:00,  2.53s/it]\n"
     ]
    }
   ],
   "source": [
    "### inserting the documents to the mongo db \n",
    "users_collection.insert_many(users_df.to_dict(orient='records'), ordered= False)\n",
    "cards_collection.insert_many(cards_df.to_dict(orient='records'), ordered= False)\n",
    "\n",
    "### Again inserting the transaction_df in batches\n",
    "for cdf in tqdm(chunks_transaction_df):\n",
    "    transactions_collection.insert_many(cdf.to_dict(orient='records'), ordered= False)"
   ]
  },
  {
   "cell_type": "code",
   "execution_count": 17,
   "metadata": {},
   "outputs": [
    {
     "name": "stdout",
     "output_type": "stream",
     "text": [
      "Select users with a credit score greater than 750.\n",
      "Total number of docs collected :  524\n",
      "Executed the code in : 0.0 ms\n",
      "================================================================================\n",
      "{'_id': ObjectId('674b2bbc308e5d56377c9626'),\n",
      " 'id': 825,\n",
      " 'current_age': 53,\n",
      " 'retirement_age': 66,\n",
      " 'birth_year': 1966,\n",
      " 'birth_month': 11,\n",
      " 'gender': 'Female',\n",
      " 'address': '462 Rose Lane',\n",
      " 'latitude': 34.15,\n",
      " 'longitude': -117.76,\n",
      " 'per_capita_income': 29278.0,\n",
      " 'yearly_income': 59696.0,\n",
      " 'total_debt': 127613.0,\n",
      " 'credit_score': 787,\n",
      " 'num_credit_cards': 5}\n",
      "\n",
      "================================================================================\n",
      "{'_id': ObjectId('674b2bbc308e5d56377c962e'),\n",
      " 'id': 1116,\n",
      " 'current_age': 81,\n",
      " 'retirement_age': 66,\n",
      " 'birth_year': 1938,\n",
      " 'birth_month': 7,\n",
      " 'gender': 'Female',\n",
      " 'address': '11 Spruce Avenue',\n",
      " 'latitude': 40.32,\n",
      " 'longitude': -75.32,\n",
      " 'per_capita_income': 26273.0,\n",
      " 'yearly_income': 42509.0,\n",
      " 'total_debt': 2895.0,\n",
      " 'credit_score': 755,\n",
      " 'num_credit_cards': 5}\n",
      "\n",
      "================================================================================\n",
      "{'_id': ObjectId('674b2bbc308e5d56377c962f'),\n",
      " 'id': 1752,\n",
      " 'current_age': 34,\n",
      " 'retirement_age': 60,\n",
      " 'birth_year': 1986,\n",
      " 'birth_month': 1,\n",
      " 'gender': 'Female',\n",
      " 'address': '887 Grant Street',\n",
      " 'latitude': 29.97,\n",
      " 'longitude': -92.12,\n",
      " 'per_capita_income': 18730.0,\n",
      " 'yearly_income': 38190.0,\n",
      " 'total_debt': 81262.0,\n",
      " 'credit_score': 810,\n",
      " 'num_credit_cards': 1}\n",
      "\n",
      "================================================================================\n",
      "{'_id': ObjectId('674b2bbc308e5d56377c9630'),\n",
      " 'id': 192,\n",
      " 'current_age': 27,\n",
      " 'retirement_age': 66,\n",
      " 'birth_year': 1992,\n",
      " 'birth_month': 6,\n",
      " 'gender': 'Male',\n",
      " 'address': '888 Fifth Lane',\n",
      " 'latitude': 38.65,\n",
      " 'longitude': -121.25,\n",
      " 'per_capita_income': 27548.0,\n",
      " 'yearly_income': 56164.0,\n",
      " 'total_debt': 15224.0,\n",
      " 'credit_score': 761,\n",
      " 'num_credit_cards': 2}\n",
      "\n",
      "================================================================================\n",
      "{'_id': ObjectId('674b2bbc308e5d56377c9632'),\n",
      " 'id': 1679,\n",
      " 'current_age': 18,\n",
      " 'retirement_age': 67,\n",
      " 'birth_year': 2002,\n",
      " 'birth_month': 1,\n",
      " 'gender': 'Female',\n",
      " 'address': '829 Fourth Boulevard',\n",
      " 'latitude': 41.76,\n",
      " 'longitude': -71.48,\n",
      " 'per_capita_income': 33914.0,\n",
      " 'yearly_income': 69149.0,\n",
      " 'total_debt': 89214.0,\n",
      " 'credit_score': 776,\n",
      " 'num_credit_cards': 1}\n",
      "\n"
     ]
    }
   ],
   "source": [
    "#Query Objective: Select users with a credit score greater than 750.\n",
    "print('Select users with a credit score greater than 750.')\n",
    "st = time()\n",
    "result = users_collection.find({\"credit_score\": {\"$gt\": 750}})\n",
    "ed = time()\n",
    "ms = round((ed - st) * 1000, 4)\n",
    "print('Total number of docs collected : ', users_collection.count_documents({\"credit_score\": {\"$gt\": 750}}))\n",
    "print(f'Executed the code in : {ms} ms')\n",
    "\n",
    "for ind, res in enumerate(result):\n",
    "    if ind >= 5:\n",
    "        break\n",
    "    print(\"=\".center(80,'='))\n",
    "    pp(res)\n",
    "    print()"
   ]
  },
  {
   "cell_type": "code",
   "execution_count": 18,
   "metadata": {},
   "outputs": [
    {
     "name": "stdout",
     "output_type": "stream",
     "text": [
      "Select all transactions where errors occurred.\n",
      "Total number of docs collected :  15623\n",
      "Executed the code in : 0.0 ms\n",
      "\n",
      "Client ID: 464 | Used Chip: Swipe Transaction | Error Type: Technical Glitch\n",
      "Client ID: 1797 | Used Chip: Online Transaction | Error Type: Bad Expiration\n",
      "Client ID: 1797 | Used Chip: Online Transaction | Error Type: Bad Card Number\n",
      "Client ID: 1424 | Used Chip: Swipe Transaction | Error Type: Insufficient Balance\n",
      "Client ID: 843 | Used Chip: Swipe Transaction | Error Type: Insufficient Balance\n"
     ]
    }
   ],
   "source": [
    "print('Select all transactions where errors occurred.')\n",
    "#Query Objective: Select all transactions where errors occurred.\n",
    "st = time()\n",
    "results = transactions_collection.find({\"errors\": {\"$ne\" : \"No Errors\"}})\n",
    "ed = time()\n",
    "ms = round((ed - st) * 1000, 4)\n",
    "print('Total number of docs collected : ', transactions_collection.count_documents({\"errors\": {\"$ne\" : \"No Errors\"}}))\n",
    "print(f'Executed the code in : {ms} ms')\n",
    "print()\n",
    "for ind, result in enumerate(results):\n",
    "    if ind >= 5:\n",
    "        break\n",
    "    print(f\"Client ID: {result['client_id']} | Used Chip: {result['use_chip']} | Error Type: {result['errors']}\")"
   ]
  },
  {
   "cell_type": "code",
   "execution_count": 20,
   "metadata": {},
   "outputs": [
    {
     "name": "stdout",
     "output_type": "stream",
     "text": [
      "Executed the code in : 670512.6662 ms\n"
     ]
    },
    {
     "data": {
      "text/html": [
       "<div>\n",
       "<style scoped>\n",
       "    .dataframe tbody tr th:only-of-type {\n",
       "        vertical-align: middle;\n",
       "    }\n",
       "\n",
       "    .dataframe tbody tr th {\n",
       "        vertical-align: top;\n",
       "    }\n",
       "\n",
       "    .dataframe thead th {\n",
       "        text-align: right;\n",
       "    }\n",
       "</style>\n",
       "<table border=\"1\" class=\"dataframe\">\n",
       "  <thead>\n",
       "    <tr style=\"text-align: right;\">\n",
       "      <th></th>\n",
       "      <th>0</th>\n",
       "      <th>1</th>\n",
       "      <th>2</th>\n",
       "      <th>3</th>\n",
       "      <th>4</th>\n",
       "      <th>5</th>\n",
       "      <th>6</th>\n",
       "      <th>7</th>\n",
       "      <th>8</th>\n",
       "      <th>9</th>\n",
       "      <th>...</th>\n",
       "      <th>90</th>\n",
       "      <th>91</th>\n",
       "      <th>92</th>\n",
       "      <th>93</th>\n",
       "      <th>94</th>\n",
       "      <th>95</th>\n",
       "      <th>96</th>\n",
       "      <th>97</th>\n",
       "      <th>98</th>\n",
       "      <th>99</th>\n",
       "    </tr>\n",
       "  </thead>\n",
       "  <tbody>\n",
       "    <tr>\n",
       "      <th>State_ID</th>\n",
       "      <td>Unknown</td>\n",
       "      <td>CA</td>\n",
       "      <td>NY</td>\n",
       "      <td>TX</td>\n",
       "      <td>FL</td>\n",
       "      <td>IL</td>\n",
       "      <td>NJ</td>\n",
       "      <td>PA</td>\n",
       "      <td>OH</td>\n",
       "      <td>NC</td>\n",
       "      <td>...</td>\n",
       "      <td>Belgium</td>\n",
       "      <td>Singapore</td>\n",
       "      <td>Lithuania</td>\n",
       "      <td>Croatia</td>\n",
       "      <td>Tuvalu</td>\n",
       "      <td>Russia</td>\n",
       "      <td>Mongolia</td>\n",
       "      <td>Israel</td>\n",
       "      <td>Kenya</td>\n",
       "      <td>Norway</td>\n",
       "    </tr>\n",
       "    <tr>\n",
       "      <th>Total Amount</th>\n",
       "      <td>3316161.56</td>\n",
       "      <td>2219893.79</td>\n",
       "      <td>1624759.06</td>\n",
       "      <td>1435418.16</td>\n",
       "      <td>1104453.74</td>\n",
       "      <td>800431.35</td>\n",
       "      <td>736652.54</td>\n",
       "      <td>711954.83</td>\n",
       "      <td>678030.68</td>\n",
       "      <td>603127.94</td>\n",
       "      <td>...</td>\n",
       "      <td>283.42</td>\n",
       "      <td>262.05</td>\n",
       "      <td>256.83</td>\n",
       "      <td>232.18</td>\n",
       "      <td>231.41</td>\n",
       "      <td>223.02</td>\n",
       "      <td>221.48</td>\n",
       "      <td>209.33</td>\n",
       "      <td>189.14</td>\n",
       "      <td>183.79</td>\n",
       "    </tr>\n",
       "  </tbody>\n",
       "</table>\n",
       "<p>2 rows × 100 columns</p>\n",
       "</div>"
      ],
      "text/plain": [
       "                      0           1           2           3           4   \\\n",
       "State_ID         Unknown          CA          NY          TX          FL   \n",
       "Total Amount  3316161.56  2219893.79  1624759.06  1435418.16  1104453.74   \n",
       "\n",
       "                     5          6          7          8          9   ...  \\\n",
       "State_ID             IL         NJ         PA         OH         NC  ...   \n",
       "Total Amount  800431.35  736652.54  711954.83  678030.68  603127.94  ...   \n",
       "\n",
       "                   90         91         92       93      94      95  \\\n",
       "State_ID      Belgium  Singapore  Lithuania  Croatia  Tuvalu  Russia   \n",
       "Total Amount   283.42     262.05     256.83   232.18  231.41  223.02   \n",
       "\n",
       "                    96      97      98      99  \n",
       "State_ID      Mongolia  Israel   Kenya  Norway  \n",
       "Total Amount    221.48  209.33  189.14  183.79  \n",
       "\n",
       "[2 rows x 100 columns]"
      ]
     },
     "execution_count": 20,
     "metadata": {},
     "output_type": "execute_result"
    }
   ],
   "source": [
    "#Query Objective: Calculate the total transaction amount per state for female users.\n",
    "female_transactions_state_pipeline= [\n",
    "    {\n",
    "        \"$match\": {\n",
    "            \"gender\": \"Female\"\n",
    "        }\n",
    "    },\n",
    "    {\n",
    "        \"$lookup\": {\n",
    "            \"from\": \"transactions\",  \n",
    "            \"localField\": \"id\",  \n",
    "            \"foreignField\": \"client_id\",  \n",
    "            \"as\": \"user_transactions\"  \n",
    "        }\n",
    "    },\n",
    "    {\n",
    "        \"$unwind\": \"$user_transactions\"\n",
    "    },\n",
    "    {\n",
    "        \"$group\": {\n",
    "            \"_id\": \"$user_transactions.merchant_state\",  \n",
    "            \"total_amount\": {\n",
    "                \"$sum\": {\n",
    "                    \"$toDouble\": \"$user_transactions.amount\"  \n",
    "                }\n",
    "            }\n",
    "        }\n",
    "    },\n",
    "    {\n",
    "        \"$sort\": {\n",
    "            \"total_amount\": -1\n",
    "        }\n",
    "    },\n",
    "    {\n",
    "        \"$limit\": 100\n",
    "        }\n",
    "]\n",
    "\n",
    "st = time()\n",
    "result = users_collection.aggregate(female_transactions_state_pipeline)\n",
    "ed = time()\n",
    "ms = round((ed - st) * 1000, 4)\n",
    "print(f'Executed the code in : {ms} ms')\n",
    "data = []\n",
    "for state in result:\n",
    "    data.append([state['_id'], round(state['total_amount'], 2)])\n",
    "\n",
    "pd.DataFrame(data = data, columns= ['State_ID', 'Total Amount']).T"
   ]
  },
  {
   "cell_type": "markdown",
   "metadata": {},
   "source": [
    "The above complex query took more than a few mins to give the result compared to mysql. one possible solution for this would be using Indexing. "
   ]
  },
  {
   "cell_type": "code",
   "execution_count": 19,
   "metadata": {},
   "outputs": [
    {
     "name": "stdout",
     "output_type": "stream",
     "text": [
      "Executed the code in : 8.2405 ms\n"
     ]
    }
   ],
   "source": [
    "#Query Objective: Find all cards flagged as \"on_dark_web\" that were used in transactions exceeding $1,000.\n",
    "dark_web_pipeline = [\n",
    "    {\n",
    "        \"$match\": {\n",
    "            \"card_on_dark_web\": True # for now using No because there are no Yes \n",
    "        }\n",
    "    },\n",
    "    {\n",
    "        \"$lookup\": {\n",
    "            \"from\": \"transactions\",  \n",
    "            \"localField\": \"id\",  \n",
    "            \"foreignField\": \"card_id\",  \n",
    "            \"as\": \"transactions\"  \n",
    "        }\n",
    "    },\n",
    "    {\n",
    "        \"$unwind\": \"$transactions\"\n",
    "    },\n",
    "    {\n",
    "        \"$addFields\": {\n",
    "            \"transactions.amount\": {\n",
    "                \"$toDouble\": \"$transactions.amount\"  \n",
    "            }\n",
    "        }\n",
    "    },\n",
    "    {\n",
    "        \"$match\": {\n",
    "            \"transactions.amount\": {\"$gt\": 100}\n",
    "        }\n",
    "    }\n",
    "]\n",
    "\n",
    "st = time()\n",
    "result = cards_collection.aggregate(dark_web_pipeline)\n",
    "ed = time()\n",
    "ms = round((ed - st) * 1000, 4)\n",
    "print(f'Executed the code in : {ms} ms')\n",
    "\n",
    "for ind, card in enumerate(result):\n",
    "    print(f\" {ind} \".center(80, '='))\n",
    "    print(f\"Card ID: {card['id']}, Card Brand: {card['card_brand']}, Card Type: {card['card_type']}\")\n",
    "    print(f\"Transaction Amount: ${card['transactions']['amount']}, Date: {card['transactions']['date']}\")\n",
    "    print(f\"Merchant State: {card['transactions']['merchant_state']}, On Dark Web: {card['card_on_dark_web']}\")"
   ]
  },
  {
   "cell_type": "markdown",
   "metadata": {},
   "source": [
    "The above query didn't give any results just like mysql since there are no cards that are on the dark web. "
   ]
  },
  {
   "cell_type": "markdown",
   "metadata": {},
   "source": [
    "Based on the execution time of the queries for mysql and mongo db, overall the mongo db was faster. However, it took huge amount of time to output one of the complex queries. mysql was faster than the mongo db for that one query (q3). "
   ]
  }
 ],
 "metadata": {
  "kernelspec": {
   "display_name": "Python 3 (ipykernel)",
   "language": "python",
   "name": "python3"
  },
  "language_info": {
   "codemirror_mode": {
    "name": "ipython",
    "version": 3
   },
   "file_extension": ".py",
   "mimetype": "text/x-python",
   "name": "python",
   "nbconvert_exporter": "python",
   "pygments_lexer": "ipython3",
   "version": "3.11.9"
  }
 },
 "nbformat": 4,
 "nbformat_minor": 2
}
