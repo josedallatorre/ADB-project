{
 "cells": [
  {
   "cell_type": "code",
   "execution_count": null,
   "metadata": {},
   "outputs": [],
   "source": [
    "## libraries \n",
    "from sqlalchemy import create_engine, text\n",
    "import matplotlib.pyplot as plt\n",
    "from pymongo import MongoClient\n",
    "from time import time \n",
    "import seaborn as sns\n",
    "import pandas as pd \n",
    "import dotenv\n",
    "import json \n",
    "import os \n",
    "\n",
    "plt.style.use('dark_background')"
   ]
  },
  {
   "cell_type": "code",
   "execution_count": null,
   "metadata": {},
   "outputs": [],
   "source": [
    "## database initialization\n",
    "dotenv.load_dotenv()\n",
    "\n",
    "\n",
    "MYSQL_CONFIG = {\n",
    "    'username': os.environ['mysql_username'],\n",
    "    'password': os.environ['mysql_password'],\n",
    "    'host'    : os.environ['mysql_hostname'],\n",
    "}\n",
    "\n",
    "MONGO_DB_CONFIG = {\n",
    "    'username': os.environ['mongo_username'],\n",
    "    'password': os.environ['mongo_password'],\n",
    "    'hostname' : os.environ['mongo_hostname'],\n",
    "    'appName' : os.environ['mongo_appName'],\n",
    "    'port'    : os.environ['mongo_port']\n",
    "}\n",
    "\n",
    "DB_NAME = 'project_test'"
   ]
  },
  {
   "cell_type": "code",
   "execution_count": null,
   "metadata": {},
   "outputs": [],
   "source": [
    "mysql_url = f\"mysql+mysqlconnector://{MYSQL_CONFIG['username']}:{MYSQL_CONFIG['password']}@{MYSQL_CONFIG['host']}:3306/{DB_NAME}\"\n",
    "engine = create_engine(mysql_url)\n",
    "mongo_uri = f'mongodb://{MONGO_DB_CONFIG[\"hostname\"]}:{MONGO_DB_CONFIG[\"port\"]}/?directConnection=true&serverSelectionTimeoutMS=2000&appName={MONGO_DB_CONFIG[\"appName\"]}+2.3.3'\n",
    "client = MongoClient(mongo_uri)"
   ]
  },
  {
   "cell_type": "markdown",
   "metadata": {},
   "source": [
    "#### MYSQL"
   ]
  },
  {
   "cell_type": "code",
   "execution_count": null,
   "metadata": {},
   "outputs": [],
   "source": []
  },
  {
   "cell_type": "markdown",
   "metadata": {},
   "source": [
    "#### MONGO DB"
   ]
  },
  {
   "cell_type": "markdown",
   "metadata": {},
   "source": []
  }
 ],
 "metadata": {
  "language_info": {
   "name": "python"
  }
 },
 "nbformat": 4,
 "nbformat_minor": 2
}
