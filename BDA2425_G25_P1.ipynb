{
 "cells": [
  {
   "cell_type": "markdown",
   "metadata": {},
   "source": [
    "# Advanced Databases Project Phase 1\n",
    "Academic Year: 2024/2025 <br>\n",
    "Authors: Diogo Barreta 64560, Muhammed Jaabir Mohamed Zifri 64912, Josè Dalla Torre 64672"
   ]
  },
  {
   "cell_type": "markdown",
   "metadata": {},
   "source": [
    "## Setup\n",
    "First we need to install all the necessary packages."
   ]
  },
  {
   "cell_type": "code",
   "execution_count": null,
   "metadata": {},
   "outputs": [],
   "source": [
    "!pip install pandas\n",
    "!pip install mysql-connector-python\n",
    "!pip install matplotlib\n",
    "!pip install pymongo\n",
    "!pip install sqlalchemy"
   ]
  },
  {
   "cell_type": "markdown",
   "metadata": {},
   "source": [
    "## Data visualization\n",
    "Before starting to clean the data we need to load the csv as dataframe. <br>\n",
    "After that we display the first rows to see the format of the data."
   ]
  },
  {
   "cell_type": "code",
   "execution_count": null,
   "metadata": {},
   "outputs": [],
   "source": [
    "import pandas as pd\n",
    "import numpy as np\n",
    "n_rows = 50000\n",
    "folder_name = 'archive'\n",
    "cards_df = pd.read_csv(f'{folder_name}/cards_data.csv',nrows=n_rows)\n",
    "transactions_df = pd.read_csv(f'{folder_name}/transactions_data.csv',nrows=n_rows)\n",
    "users_df = pd.read_csv(f'{folder_name}/users_data.csv',nrows=n_rows)"
   ]
  },
  {
   "cell_type": "code",
   "execution_count": null,
   "metadata": {},
   "outputs": [],
   "source": [
    "cards_df.head()"
   ]
  },
  {
   "cell_type": "code",
   "execution_count": null,
   "metadata": {},
   "outputs": [],
   "source": [
    "transactions_df.head()"
   ]
  },
  {
   "cell_type": "code",
   "execution_count": null,
   "metadata": {},
   "outputs": [],
   "source": [
    "users_df.head()"
   ]
  },
  {
   "cell_type": "markdown",
   "metadata": {},
   "source": [
    "### Missing Data\n",
    "After the first exploration of the data we want to see if there are any missing values. <br>\n",
    "To have a better understanding of the distribution of the values we use a countplot for every column of the dataframe."
   ]
  },
  {
   "cell_type": "code",
   "execution_count": null,
   "metadata": {},
   "outputs": [],
   "source": [
    "import seaborn as sns\n",
    "import matplotlib.pyplot as plt\n",
    "import math\n",
    "\n",
    "def create_plot(df: pd.DataFrame, df_name:str)-> None:\n",
    "    n_cols = 3\n",
    "    n_rows = math.ceil(len(df.columns) / n_cols)\n",
    "    plt.tight_layout()\n",
    "    plt.figure(figsize=(15, n_rows * 3))\n",
    "    for i,column in enumerate(df.columns,1):\n",
    "        # Count missing and valid values\n",
    "        total = len(df[column])\n",
    "        missing_count = df[column].isna().sum()\n",
    "        valid_count = df[column].notna().sum()\n",
    "\n",
    "        # Prepare data for plotting\n",
    "        plot_data = pd.DataFrame({\n",
    "            'Category': ['Missing Values', 'Valid Values'],\n",
    "            'Count': [missing_count, valid_count]\n",
    "        })\n",
    "\n",
    "        # Create the countplot\n",
    "        plt.suptitle(f\"Analysing missing values of {df_name}\", fontsize=14)\n",
    "        ax = plt.subplot(n_rows,n_cols,i)\n",
    "        sns.barplot(data=plot_data, x='Category', y='Count',hue='Category', palette=['red', 'green'])\n",
    "        plt.title(f\"Count of Missing vs Valid Values of {column}\")\n",
    "        plt.ylabel('Count')\n",
    "        plt.xlabel('Category')\n",
    "        for c in ax.containers:\n",
    "            ax.bar_label(c, fmt=lambda x: f'{(x/total)*100:0.1f}%')\n",
    "    plt.tight_layout()\n",
    "    plt.show()\n",
    "\n",
    "create_plot(cards_df, \"Cards Data\")\n",
    "create_plot(transactions_df, \"Transaction Data\")\n",
    "create_plot(users_df, \"Users Data\")"
   ]
  },
  {
   "cell_type": "markdown",
   "metadata": {},
   "source": [
    "## Data Cleaning\n",
    "We can see that only the transactions data has missing values. <br>\n",
    "First we remove from the users data the unnecessary string like the dollar sign, then we convert all the column to the same value based on data present."
   ]
  },
  {
   "cell_type": "code",
   "execution_count": null,
   "metadata": {},
   "outputs": [],
   "source": [
    "remove_currency = lambda x: float(x.replace(\"$\",\"\").strip())\n",
    "users_df[\"per_capita_income\"] = users_df[\"per_capita_income\"].apply(remove_currency)\n",
    "users_df[\"yearly_income\"] = users_df[\"yearly_income\"].apply(remove_currency)\n",
    "users_df[\"total_debt\"] = users_df[\"total_debt\"].apply(remove_currency)\n",
    "users_df[\"gender\"] = users_df[\"gender\"].astype(\"string\")\n",
    "users_df[\"address\"] = users_df[\"address\"].astype(\"string\")\n",
    "users_df.dtypes"
   ]
  },
  {
   "cell_type": "markdown",
   "metadata": {},
   "source": [
    "We apply the same logic to the cards dataframe. <br>\n",
    "We decided to convert from \"YES\" or \"NO\" to boolean value to simplify the insertion in the database later. <br>\n",
    "Also we decided to convert the date to the Datetime of pandas <br>"
   ]
  },
  {
   "cell_type": "code",
   "execution_count": null,
   "metadata": {},
   "outputs": [],
   "source": [
    "cards_df[\"credit_limit\"] = cards_df[\"credit_limit\"].apply(remove_currency)\n",
    "cards_df[\"has_chip\"] = cards_df[\"has_chip\"].replace({\"YES\": True, \"NO\": False})\n",
    "cards_df[\"card_on_dark_web\"] = cards_df[\"card_on_dark_web\"].replace({\"Yes\": True, \"No\": False})\n",
    "cards_df[\"card_brand\"] = cards_df[\"card_brand\"].astype(\"string\")\n",
    "cards_df[\"card_type\"] = cards_df[\"card_type\"].astype(\"string\")\n",
    "cards_df[\"card_number\"] = cards_df[\"card_number\"].astype(\"string\")\n",
    "cards_df[\"expires\"] = pd.to_datetime(cards_df[\"expires\"])\n",
    "cards_df[\"acct_open_date\"] = pd.to_datetime(cards_df[\"acct_open_date\"])\n",
    "cards_df.dtypes"
   ]
  },
  {
   "cell_type": "markdown",
   "metadata": {},
   "source": [
    "Now it's time to clean the dataframe that contains the data about the transactions. <br>\n",
    "We decided to fill the missing data of the **merchant_state** column as \"Unkown\" to prevent missing values. <br>\n",
    "We decided to fill the missing data of the **zip** column as \"0\" to prevent missing values. <br>\n",
    "We decided to fill the missing data of the **errors** column as \"No Errors\" to prevent missing values. <br>"
   ]
  },
  {
   "cell_type": "code",
   "execution_count": null,
   "metadata": {},
   "outputs": [],
   "source": [
    "transactions_df[\"amount\"] = transactions_df[\"amount\"].apply(remove_currency)\n",
    "transactions_df[\"date\"] = pd.to_datetime(transactions_df[\"date\"])\n",
    "transactions_df[\"use_chip\"] = transactions_df[\"use_chip\"].astype(\"string\")\n",
    "transactions_df[\"merchant_city\"] = transactions_df[\"merchant_city\"].astype(\"string\")\n",
    "transactions_df[\"merchant_state\"] = transactions_df[\"merchant_state\"].astype(\"string\")\n",
    "transactions_df[\"merchant_state\"] = transactions_df[\"merchant_state\"].fillna('Unknown')\n",
    "transactions_df['zip'] = transactions_df[\"zip\"].fillna('0')\n",
    "transactions_df['zip'] = transactions_df[\"zip\"].astype(np.float64)\n",
    "transactions_df[\"errors\"] = transactions_df[\"errors\"].astype(\"string\")\n",
    "transactions_df[\"errors\"] = transactions_df[\"errors\"].fillna(\"No Errors\")\n",
    "transactions_df.dtypes"
   ]
  },
  {
   "cell_type": "markdown",
   "metadata": {},
   "source": [
    "We have manually changed few rows to work with one of the operations on the cards dataset by randomly assinging the value to True for `card_on_dark_web` column."
   ]
  },
  {
   "cell_type": "code",
   "execution_count": null,
   "metadata": {},
   "outputs": [],
   "source": [
    "card_ids = transactions_df[transactions_df['amount'] > 1000].sample(10)['card_id'].unique()\n",
    "cards_df.loc[cards_df['id'].isin(card_ids), 'card_on_dark_web'] = True\n",
    "cards_df.head()"
   ]
  },
  {
   "cell_type": "code",
   "execution_count": null,
   "metadata": {},
   "outputs": [],
   "source": [
    "cards_df[cards_df.card_on_dark_web == True].shape"
   ]
  },
  {
   "cell_type": "markdown",
   "metadata": {},
   "source": [
    "## MySQL\n",
    "This section is dedicated to the definition of the tables, insertion and queries of the MySQL database."
   ]
  },
  {
   "cell_type": "markdown",
   "metadata": {},
   "source": [
    "### Setup\n",
    "Since the components of the group are coding on different machine we decided to use a file called \".env\" to store the configurations for the databases. <br>\n",
    "The code to load the configuration is reported below"
   ]
  },
  {
   "cell_type": "code",
   "execution_count": null,
   "metadata": {},
   "outputs": [],
   "source": [
    "import dotenv\n",
    "import os\n",
    "import mysql.connector\n",
    "## database initialization\n",
    "dotenv.load_dotenv()\n",
    "database_name = 'group25'\n",
    "\n",
    "MYSQL_CONFIG = {\n",
    "    'username': os.environ['mysql_username'],\n",
    "    'password': os.environ['mysql_password'],\n",
    "    'host'    : os.environ['mysql_hostname'],\n",
    "    'database_name' : database_name\n",
    "}\n",
    "# Create Connection\n",
    "connection = mysql.connector.connect(\n",
    "  host=MYSQL_CONFIG[\"host\"],\n",
    "  user=MYSQL_CONFIG[\"username\"],\n",
    "  password=MYSQL_CONFIG[\"password\"]\n",
    ")\n",
    "db_url = f\"mysql+mysqlconnector://{MYSQL_CONFIG['username']}:{MYSQL_CONFIG['password']}@{MYSQL_CONFIG['host']}:3306/{database_name}\"\n",
    "db_url"
   ]
  },
  {
   "cell_type": "markdown",
   "metadata": {},
   "source": [
    "### Insertion into MySQL\n",
    "Before we delete the database and the tables to make sure that we can create them correctly"
   ]
  },
  {
   "cell_type": "code",
   "execution_count": null,
   "metadata": {},
   "outputs": [],
   "source": [
    "cursor = connection.cursor()\n",
    "cursor.execute(f\"DROP DATABASE IF EXISTS {database_name}\")\n",
    "cursor.execute(f\"CREATE DATABASE IF NOT EXISTS {database_name}\")\n",
    "cursor.execute(f\"USE {database_name}\")\n",
    "\n",
    "\n",
    "cursor.execute(f\"DROP TABLE IF EXISTS users\")\n",
    "cursor.execute(\"\"\"\n",
    "CREATE TABLE IF NOT EXISTS users (\n",
    "              id INT PRIMARY KEY,\n",
    "              current_age INT,\n",
    "              retirement_age INT,\n",
    "              birth_year INT,\n",
    "              birth_month INT,\n",
    "              gender VARCHAR(255),\n",
    "              address VARCHAR(255),\n",
    "              latitude DECIMAL,\n",
    "              longitude DECIMAL,\n",
    "              per_capita_income DECIMAL,\n",
    "              yearly_income DECIMAL,\n",
    "              total_debt DECIMAL,\n",
    "              credit_score INT,\n",
    "              num_credit_cards INT\n",
    ");\n",
    "\"\"\")\n",
    "\n",
    "cursor.execute(f\"DROP TABLE IF EXISTS cards\")\n",
    "cursor.execute(\"\"\"\n",
    "CREATE TABLE IF NOT EXISTS cards (\n",
    "      id INT PRIMARY KEY,\n",
    "      client_id INT,\n",
    "      card_brand VARCHAR(255),\n",
    "      card_type VARCHAR(255),\n",
    "      card_number VARCHAR(255),\n",
    "      expires DATETIME,\n",
    "      cvv INT,\n",
    "      has_chip BOOLEAN,\n",
    "      num_cards_issued INT,\n",
    "      credit_limit DECIMAL,\n",
    "      acct_open_date DATETIME,\n",
    "      year_pin_last_changed INT,\n",
    "      card_on_dark_web BOOLEAN,\n",
    "      FOREIGN KEY (client_id) REFERENCES users(id)\n",
    ");\n",
    "\"\"\")\n",
    "\n",
    "cursor.execute(f\"DROP TABLE IF EXISTS transactions\")\n",
    "cursor.execute(\"\"\"\n",
    "CREATE TABLE IF NOT EXISTS transactions (\n",
    "    id INT PRIMARY KEY,\n",
    "    date DATETIME,\n",
    "    client_id INT,\n",
    "    card_id INT,\n",
    "    amount DECIMAL,\n",
    "    use_chip VARCHAR(255),\n",
    "    merchant_id INT,\n",
    "    merchant_city VARCHAR(255),\n",
    "    merchant_state VARCHAR(255),\n",
    "    zip DECIMAL,\n",
    "    mcc INT,\n",
    "    errors VARCHAR(255),\n",
    "    FOREIGN KEY (client_id) REFERENCES users(id),\n",
    "    FOREIGN KEY (card_id) REFERENCES cards(id)\n",
    ");\n",
    "\"\"\")\n",
    " \n",
    "\n",
    "connection.commit()\n",
    "cursor.execute(\"SHOW TABLES\")\n",
    "for table in cursor:\n",
    "    print(table)"
   ]
  },
  {
   "cell_type": "markdown",
   "metadata": {},
   "source": [
    "### Populate the Database\n",
    "After that we populate the database as seen in class. <br>\n",
    "We keep track of the time to compare later with the mongodb"
   ]
  },
  {
   "cell_type": "code",
   "execution_count": null,
   "metadata": {},
   "outputs": [],
   "source": [
    "from sqlalchemy import create_engine, text\n",
    "import time\n",
    "mysql_times = []\n",
    "engine = create_engine(db_url)\n",
    "start_time = time.time()\n",
    "users_df.to_sql('users', con=engine, if_exists='append', index=False, method='multi')\n",
    "cards_df.to_sql('cards', con=engine, if_exists='append', index=False, method='multi')\n",
    "transactions_df.to_sql('transactions', con=engine, if_exists='append', index=False, method='multi')\n",
    "end_time = time.time()\n",
    "mysql_times.append(end_time - start_time)\n",
    "print(\"Data inserted into MySQL\")"
   ]
  },
  {
   "cell_type": "markdown",
   "metadata": {},
   "source": [
    "### Queries\n",
    "Now we define the queries with a short description to help the reader"
   ]
  },
  {
   "cell_type": "code",
   "execution_count": null,
   "metadata": {},
   "outputs": [],
   "source": [
    "queries = []"
   ]
  },
  {
   "cell_type": "code",
   "execution_count": null,
   "metadata": {},
   "outputs": [],
   "source": [
    "q1 = {\n",
    "    \"id\": 1,\n",
    "    \"description\":\"Select users with a credit score greater than 750.\",\n",
    "    \"query\" : \"SELECT id, current_age, yearly_income, credit_score FROM users WHERE credit_score > 750;\"\n",
    "    }\n",
    "queries.append(q1)"
   ]
  },
  {
   "cell_type": "code",
   "execution_count": null,
   "metadata": {},
   "outputs": [],
   "source": [
    "q2 ={\n",
    "    \"id\": 2,\n",
    "    \"description\" :\"Select all transactions where errors occurred.\",\n",
    "    \"query\" : \"SELECT id, date, card_id, amount, errors FROM transactions WHERE errors != 'No Errors';\"\n",
    "}\n",
    "queries.append(q2)"
   ]
  },
  {
   "cell_type": "code",
   "execution_count": null,
   "metadata": {},
   "outputs": [],
   "source": [
    "q3 ={\n",
    "    \"id\": 3,\n",
    "    \"description\": \"Calculate the total transaction amount per state for female users.\",\n",
    "     \"query\" : \"\"\"\n",
    "     INSERT INTO transactions (client_id, card_id, amount, date)\n",
    "SELECT \n",
    "    u.id AS client_id, \n",
    "    c.id AS card_id, \n",
    "    -- You can specify the amount and transaction details here\n",
    "    1000.00 AS amount, \n",
    "    CURRENT_TIMESTAMP AS transaction_date\n",
    "FROM \n",
    "    users u\n",
    "JOIN \n",
    "    cards c ON u.id = c.client_id\n",
    "WHERE \n",
    "    u.gender = 'female'\n",
    "AND \n",
    "    u.id = (\n",
    "        SELECT client_id\n",
    "        FROM transactions\n",
    "        GROUP BY client_id\n",
    "        ORDER BY SUM(amount) DESC\n",
    "        LIMIT 1\n",
    "    )\n",
    "                \"\"\"\n",
    "}\n",
    "queries.append(q3)  "
   ]
  },
  {
   "cell_type": "code",
   "execution_count": null,
   "metadata": {},
   "outputs": [],
   "source": [
    "q4 = {\n",
    "    \"description\": \"Decrease credit limit by 100 of all cards flagged as on_dark_web that were used in transactions exceeding $1,000.\",\n",
    "    \"query\" : \"\"\"UPDATE cards C\n",
    "               JOIN transactions T ON T.card_id = C.id\n",
    "               SET C.credit_limit = C.credit_limit - 100\n",
    "               WHERE C.card_on_dark_web = 1 AND T.amount > 1000;\"\"\"\n",
    "}\n",
    "queries.append(q4)"
   ]
  },
  {
   "cell_type": "markdown",
   "metadata": {},
   "source": [
    "Now we esecute them and we track the times to evaluate the performance later."
   ]
  },
  {
   "cell_type": "code",
   "execution_count": null,
   "metadata": {},
   "outputs": [],
   "source": [
    "with engine.connect() as conn:\n",
    "    for q in queries:\n",
    "        start_time = time.time()\n",
    "        if \"Select users with a credit score greater than 750.\" in q[\"description\"]:\n",
    "            result = conn.execute(text(q[\"query\"]))\n",
    "            results =  result.fetchall()\n",
    "            print(f\"{q['description']}: {len(results)} results found in {end_time - start_time:.4f} seconds\")\n",
    "        elif \"Select all transactions where errors occurred.\" in q[\"description\"]:\n",
    "            result = conn.execute(text(q[\"query\"]))\n",
    "            results =  result.fetchall()\n",
    "            print(f\"{q['description']}: {len(results)} results found in {end_time - start_time:.4f} seconds\")\n",
    "        elif \"Find all cards flagged as on_dark_web that were used in transactions exceeding $1,000.\" in q[\"description\"]:\n",
    "            result = conn.execute(text(q[\"query\"]))\n",
    "            results =  result.fetchall()\n",
    "            print(f\"{q['description']}: {len(results)} results found in {end_time - start_time:.4f} seconds\")\n",
    "        else:\n",
    "            result = conn.execute(text(q[\"query\"]))\n",
    "            results = cursor.rowcount\n",
    "            print(f\"{q['description']}: {results} rows updated in {end_time - start_time:.4f} seconds\")\n",
    "        end_time = time.time()\n",
    "        mysql_times.append(end_time - start_time)"
   ]
  },
  {
   "cell_type": "markdown",
   "metadata": {},
   "source": [
    "## MongoDB"
   ]
  },
  {
   "cell_type": "markdown",
   "metadata": {},
   "source": [
    "As seen before we utilize the configuration file to load the data"
   ]
  },
  {
   "cell_type": "code",
   "execution_count": null,
   "metadata": {},
   "outputs": [],
   "source": [
    "from pymongo import MongoClient, ASCENDING, DESCENDING \n",
    "MONGO_DB_CONFIG = {\n",
    "    'username': os.environ['mongo_username'],\n",
    "    'password': os.environ['mongo_password'],\n",
    "    'hostname' : os.environ['mongo_hostname'],\n",
    "    'appName' : os.environ['mongo_appName'],\n",
    "    'port'    : os.environ['mongo_port']\n",
    "}\n"
   ]
  },
  {
   "cell_type": "markdown",
   "metadata": {},
   "source": [
    "Then we connect to the database and we drop the collections"
   ]
  },
  {
   "cell_type": "code",
   "execution_count": null,
   "metadata": {},
   "outputs": [],
   "source": [
    "uri = f'mongodb://{MONGO_DB_CONFIG[\"hostname\"]}:{MONGO_DB_CONFIG[\"port\"]}'\n",
    "client = MongoClient(uri)\n",
    "db = client[database_name]\n",
    "db['users'].drop()\n",
    "db['cards'].drop()\n",
    "db['transactions'].drop()\n",
    "print(\"Collections dropped\")"
   ]
  },
  {
   "cell_type": "markdown",
   "metadata": {},
   "source": [
    "Now we define the collections with the validator, we use a similar structure to the MySQL schema"
   ]
  },
  {
   "cell_type": "code",
   "execution_count": null,
   "metadata": {},
   "outputs": [],
   "source": [
    "#Users collection\n",
    "db.create_collection(\"users\", validator = {\n",
    "  \"$jsonSchema\": {\n",
    "    \"bsonType\": \"object\",\n",
    "    \"required\": [\"id\", \"current_age\", \"retirement_age\", \"birth_year\", \"birth_month\", \"gender\", \"address\", \"latitude\", \"longitude\", \"per_capita_income\", \"yearly_income\", \"total_debt\", \"credit_score\", \"num_credit_cards\"],\n",
    "    \"properties\": {\n",
    "      \"id\": {\n",
    "        \"bsonType\": \"int\",\n",
    "        \"description\": \"Must be an integer and is required.\"\n",
    "      },\n",
    "      \"current_age\": {\n",
    "        \"bsonType\": \"int\",\n",
    "        \"description\": \"Must be an integer and is required.\"\n",
    "      },\n",
    "      \"retirement_age\": {\n",
    "        \"bsonType\": \"int\",\n",
    "        \"description\": \"Must be an integer and is required.\"\n",
    "      },\n",
    "      \"birth_year\": {\n",
    "        \"bsonType\": \"int\",\n",
    "        \"description\": \"Must be an integer representing the year of birth and is required.\"\n",
    "      },\n",
    "      \"birth_month\": {\n",
    "        \"bsonType\": \"int\",\n",
    "        \"description\": \"Must be an integer representing the month of birth and is required.\"\n",
    "      },\n",
    "      \"gender\": {\n",
    "        \"bsonType\": \"string\",\n",
    "        \"enum\": [\"Male\", \"Female\", \"Other\"],\n",
    "        \"description\": \"Must be a string and one of the predefined values.\"\n",
    "      },\n",
    "      \"address\": {\n",
    "        \"bsonType\": \"string\",\n",
    "        \"description\": \"Must be a string representing the address and is required.\"\n",
    "      },\n",
    "      \"latitude\": {\n",
    "        \"bsonType\": \"double\",\n",
    "        \"description\": \"Must be a float representing the latitude coordinate and is required.\"\n",
    "      },\n",
    "      \"longitude\": {\n",
    "        \"bsonType\": \"double\",\n",
    "        \"description\": \"Must be a float representing the longitude coordinate and is required.\"\n",
    "      },\n",
    "      \"per_capita_income\": {\n",
    "        \"bsonType\": \"double\",\n",
    "        \"description\": \"Must be a float formatted as currency and is required.\"\n",
    "      },\n",
    "      \"yearly_income\": {\n",
    "        \"bsonType\": \"double\",\n",
    "        \"description\": \"Must be a float formatted as currency and is required.\"\n",
    "      },\n",
    "      \"total_debt\": {\n",
    "        \"bsonType\": \"double\",\n",
    "        \"description\": \"Must be a float formatted as currency and is required.\"\n",
    "      },\n",
    "      \"credit_score\": {\n",
    "        \"bsonType\": \"int\",\n",
    "        \"description\": \"Must be an integer representing the credit score and is required.\"\n",
    "      },\n",
    "      \"num_credit_cards\": {\n",
    "        \"bsonType\": \"int\",\n",
    "        \"description\": \"Must be an integer representing the number of credit cards and is required.\"\n",
    "      }\n",
    "    }\n",
    "  }\n",
    "}\n",
    ")"
   ]
  },
  {
   "cell_type": "code",
   "execution_count": null,
   "metadata": {},
   "outputs": [],
   "source": [
    "db.create_collection(\"cards\", validator = {\n",
    "  \"$jsonSchema\": {\n",
    "    \"bsonType\": \"object\",\n",
    "    \"required\": [\n",
    "      \"id\",\n",
    "      \"client_id\",\n",
    "      \"card_brand\",\n",
    "      \"card_type\",\n",
    "      \"card_number\",\n",
    "      \"expires\",\n",
    "      \"cvv\",\n",
    "      \"has_chip\",\n",
    "      \"num_cards_issued\",\n",
    "      \"credit_limit\",\n",
    "      \"acct_open_date\",\n",
    "      \"year_pin_last_changed\",\n",
    "      \"card_on_dark_web\"\n",
    "    ],\n",
    "    \"properties\": {\n",
    "      \"id\": {\n",
    "        \"bsonType\": \"int\",\n",
    "        \"description\": \"must be an integer and is required\"\n",
    "      },\n",
    "      \"client_id\": {\n",
    "        \"bsonType\": \"int\",\n",
    "        \"description\": \"must be an integer and is required\"\n",
    "      },\n",
    "      \"card_brand\": {\n",
    "        \"bsonType\": \"string\",\n",
    "        \"description\": \"must be a string and is required\"\n",
    "      },\n",
    "      \"card_type\": {\n",
    "        \"bsonType\": \"string\",\n",
    "        \"description\": \"must be a string and is required\"\n",
    "      },\n",
    "      \"card_number\": {\n",
    "        \"bsonType\": \"string\",\n",
    "        \"description\": \"must be a string and is required\"\n",
    "      },\n",
    "      \"expires\": {\n",
    "        \"bsonType\": \"date\",\n",
    "        \"description\": \"must be a date\"\n",
    "      },\n",
    "      \"cvv\": {\n",
    "        \"bsonType\": \"int\",\n",
    "        \"description\": \"must be an integer and is required\"\n",
    "      },\n",
    "      \"has_chip\": {\n",
    "        \"bsonType\": \"bool\",\n",
    "        \"description\": \"must be a boolean and is required\"\n",
    "      },\n",
    "      \"num_cards_issued\": {\n",
    "        \"bsonType\": \"int\",\n",
    "        \"description\": \"must be an integer greater than 0\"\n",
    "      },\n",
    "      \"credit_limit\": {\n",
    "        \"bsonType\": \"double\",\n",
    "        \"description\": \"must be a float and is required\"\n",
    "      },\n",
    "      \"acct_open_date\": {\n",
    "        \"bsonType\": \"date\",\n",
    "        \"description\": \"must be a date\"\n",
    "      },\n",
    "      \"year_pin_last_changed\": {\n",
    "        \"bsonType\": \"int\",\n",
    "        \"description\": \"must be an integer and is required\"\n",
    "      },\n",
    "      \"card_on_dark_web\": {\n",
    "        \"bsonType\": \"bool\",\n",
    "        \"description\": \"must be a boolean and is required\"\n",
    "      }\n",
    "    }\n",
    "  }\n",
    "}\n",
    ")"
   ]
  },
  {
   "cell_type": "code",
   "execution_count": null,
   "metadata": {},
   "outputs": [],
   "source": [
    "#Transactions collection\n",
    "db.create_collection(\"transactions\", validator = {\n",
    "    \"$jsonSchema\": {\n",
    "      \"bsonType\": \"object\",\n",
    "      \"required\": [\"id\", \"date\", \"client_id\", \"card_id\", \"amount\", \"merchant_city\", \"merchant_state\",\"errors\"],\n",
    "      \"properties\": {\n",
    "        \"id\": {\n",
    "          \"bsonType\": \"int\",\n",
    "          \"description\": \"Must be an integer and is required.\"\n",
    "        },\n",
    "        \"date\": {\n",
    "          \"bsonType\": \"date\",\n",
    "          \"description\": \"Must be a date and is required\"\n",
    "        },\n",
    "        \"client_id\": {\n",
    "          \"bsonType\": \"int\",\n",
    "          \"description\": \"Must be an integer and is required.\"\n",
    "        },\n",
    "        \"card_id\": {\n",
    "          \"bsonType\": \"int\",\n",
    "          \"description\": \"Must be an integer and is required.\"\n",
    "        },\n",
    "        \"amount\": {\n",
    "          \"bsonType\": \"double\",\n",
    "          \"description\": \"Must be a float representing a monetary value and is required.\"\n",
    "        },\n",
    "        \"use_chip\": {\n",
    "          \"bsonType\": \"string\",\n",
    "          \"description\": \"Must be a string indicating the transaction type if provided.\"\n",
    "        },\n",
    "        \"merchant_id\": {\n",
    "          \"bsonType\": \"int\",\n",
    "          \"description\": \"Must be an integer if provided.\"\n",
    "        },\n",
    "        \"merchant_city\": {\n",
    "          \"bsonType\": \"string\",\n",
    "          \"description\": \"Must be a string representing a city name and is required.\"\n",
    "        },\n",
    "        \"merchant_state\": {\n",
    "          \"bsonType\": \"string\",\n",
    "          \"description\": \"Must be a string representing a state code and is required.\"\n",
    "        },\n",
    "        \"zip\": {\n",
    "          \"bsonType\": \"double\",\n",
    "          \"description\": \"Must be a float representing a ZIP code if provided.\"\n",
    "        },\n",
    "        \"mcc\": {\n",
    "          \"bsonType\": \"int\",\n",
    "          \"description\": \"Must be an integer representing a Merchant Category Code if provided.\"\n",
    "        },\n",
    "        \"errors\": {\n",
    "          \"bsonType\": \"string\",\n",
    "          \"description\": \"Must be a string and is required.\"\n",
    "        }\n",
    "      }\n",
    "    }\n",
    "  }\n",
    ")"
   ]
  },
  {
   "cell_type": "code",
   "execution_count": null,
   "metadata": {},
   "outputs": [],
   "source": [
    "users_collection = db['users']\n",
    "cards_collection = db['cards']\n",
    "transactions_collection = db['transactions']\n",
    "\n",
    "db.drop_collection('state_spending_summary')\n",
    "db.create_collection(\"state_spending_summary\")"
   ]
  },
  {
   "cell_type": "markdown",
   "metadata": {},
   "source": [
    "Now we insert into the mongodb and we keep the times, similar to the section of MySQL"
   ]
  },
  {
   "cell_type": "code",
   "execution_count": null,
   "metadata": {},
   "outputs": [],
   "source": [
    "### inserting the documents to the mongo db \n",
    "mongo_times = []\n",
    "def insert_to_mongo_db(df: pd.DataFrame, c) -> None:\n",
    "    collection = c\n",
    "    initial_count = collection.count_documents({})\n",
    "    print(f\"# documents: {initial_count}.\") \n",
    "    try:\n",
    "        data_dict = df.to_dict(orient=\"records\")\n",
    "        result = collection.insert_many(data_dict, ordered=False)\n",
    "        valid_count = collection.count_documents({}) - initial_count\n",
    "        print(f\"{valid_count} documents inserted.\")\n",
    "\n",
    "    except Exception as e:\n",
    "        attempted_count = len(data_dict)\n",
    "        valid_count = collection.count_documents({}) - initial_count\n",
    "        print(f\"{valid_count} documents inserted\")\n",
    "        print(f\"{attempted_count - valid_count} documents failed to insert\")\n",
    "\n",
    "\n",
    "    print(f\"# documents: {collection.count_documents({})}\") \n",
    "\n",
    "start_time = time.time()\n",
    "insert_to_mongo_db(users_df,users_collection)\n",
    "insert_to_mongo_db(cards_df,cards_collection)\n",
    "insert_to_mongo_db(transactions_df,transactions_collection)\n",
    "end_time = time.time()\n",
    "mongo_times.append(end_time - start_time)"
   ]
  },
  {
   "cell_type": "markdown",
   "metadata": {},
   "source": [
    "Then we define the queries and execute them"
   ]
  },
  {
   "cell_type": "code",
   "execution_count": null,
   "metadata": {},
   "outputs": [],
   "source": [
    "mongo_q1 = {\"credit_score\": {\"$gt\": 750}}"
   ]
  },
  {
   "cell_type": "code",
   "execution_count": null,
   "metadata": {},
   "outputs": [],
   "source": [
    "mongo_q2 = ({\"errors\": {\"$ne\" : \"No Errors\"}})"
   ]
  },
  {
   "cell_type": "code",
   "execution_count": null,
   "metadata": {},
   "outputs": [],
   "source": [
    "mongo_q3 = [\n",
    "    {\"$match\": {\"gender\": \"Female\"}},\n",
    "    {\"$lookup\": {\n",
    "        \"from\": \"transactions\",  \n",
    "        \"localField\": \"id\",  \n",
    "        \"foreignField\": \"client_id\",  \n",
    "        \"as\": \"user_transactions\"  \n",
    "    }},\n",
    "    {\"$unwind\": \"$user_transactions\"},\n",
    "    {\"$group\": {\n",
    "        \"_id\": \"$user_transactions.merchant_state\",  \n",
    "        \"total_amount\": {\n",
    "            \"$sum\": {\"$toDouble\": \"$user_transactions.amount\"}  \n",
    "        }\n",
    "    }},\n",
    "    {\"$sort\": {\"total_amount\": -1}},\n",
    "    {\"$limit\": 100}\n",
    "]"
   ]
  },
  {
   "cell_type": "code",
   "execution_count": null,
   "metadata": {},
   "outputs": [],
   "source": [
    "mongo_q4 = [\n",
    "    {\n",
    "        \"$match\": {\n",
    "            \"card_on_dark_web\": True  \n",
    "        }\n",
    "    },\n",
    "    {\n",
    "        \"$lookup\": {\n",
    "            \"from\": \"transactions\",\n",
    "            \"localField\": \"id\",\n",
    "            \"foreignField\": \"card_id\",\n",
    "            \"as\": \"transactions\"\n",
    "        }\n",
    "    },\n",
    "    {\n",
    "        \"$unwind\": \"$transactions\"\n",
    "    },\n",
    "    {\n",
    "        \"$match\": {\n",
    "            \"card_on_dark_web\": True,\n",
    "            \"transactions.amount\": {\"$gt\": 1000}\n",
    "        }\n",
    "    },\n",
    "    {\n",
    "        \"$set\": {\n",
    "            \"credit_limit\": {\"$multiply\": [\"$credit_limit\", 0.5]}\n",
    "        }\n",
    "    },\n",
    "    {\n",
    "        \"$merge\": {\n",
    "            \"into\": \"cards\",\n",
    "            \"whenMatched\": \"merge\",\n",
    "            \"whenNotMatched\": \"fail\"\n",
    "        }\n",
    "    }\n",
    "]"
   ]
  },
  {
   "cell_type": "code",
   "execution_count": null,
   "metadata": {},
   "outputs": [],
   "source": [
    "for q in queries:\n",
    "    start_time = time.time()\n",
    "    \n",
    "    if \"Select users with a credit score greater than 750.\" in q[\"description\"]:\n",
    "        query = mongo_q1\n",
    "        result = users_collection.find(query)\n",
    "\n",
    "    elif \"Select all transactions where errors occurred.\" in q[\"description\"]:\n",
    "        query = mongo_q2\n",
    "        result = transactions_collection.find(query)\n",
    "    elif \"Calculate the total transaction amount per state for female users.\" in q[\"description\"]:\n",
    "        query = mongo_q3\n",
    "        result = users_collection.aggregate(query)\n",
    "    else:\n",
    "        query = mongo_q4\n",
    "        result = cards_collection.aggregate(query)\n",
    "        result = cards_collection.aggregate(query[:-2])\n",
    "        \n",
    "\n",
    "    end_time = time.time()\n",
    " \n",
    "    mongo_times.append(end_time - start_time)\n",
    "    list_result = list(result) \n",
    "    print(f\"{q['description']}: {len(list_result)} found in {end_time - start_time:.4f} seconds\")\n",
    "client.close()"
   ]
  },
  {
   "cell_type": "markdown",
   "metadata": {},
   "source": [
    "## Comparison\n",
    "Now we want to evaluate the performance of MongoDB vs MySQL <br>\n",
    "First we define a dataframe with the two lists that contain the times then we plot the result highlighting the differences in the execution time. <br>"
   ]
  },
  {
   "cell_type": "code",
   "execution_count": null,
   "metadata": {},
   "outputs": [],
   "source": [
    "# Combine data into a DataFrame\n",
    "data = pd.DataFrame({\n",
    "    'Index': range(len(mongo_times)),\n",
    "    'MongoDB': mongo_times,\n",
    "    'MySQL': mysql_times\n",
    "})\n",
    "# Melt the DataFrame to plot later\n",
    "melted_data = pd.melt(data, id_vars=['Index'], var_name='Database', value_name='Time')\n",
    "\n",
    "# Create the barplot\n",
    "plt.figure(figsize=(10, 6))\n",
    "sns.barplot(data=melted_data, x='Index', y='Time', hue='Database', palette='viridis')\n",
    "plt.title('MongoDB vs MySQL Execution Times')\n",
    "plt.ylabel('Time (seconds)')\n",
    "plt.xlabel('Index')\n",
    "plt.yscale('log')  # Use log scale for better visualization of the range\n",
    "plt.legend(title='Database')\n",
    "plt.tight_layout()\n",
    "plt.show()"
   ]
  },
  {
   "cell_type": "markdown",
   "metadata": {},
   "source": [
    "The first index is related to the population of the database. <br>\n",
    "The others four are related to the queries. <br>\n",
    "As we can see MongoDB has a better performance overall expect in third query that has the worst time. It needs 28 second to execute the query while MySQL takes less than half of a second."
   ]
  },
  {
   "cell_type": "markdown",
   "metadata": {},
   "source": [
    "## Phase 2\n"
   ]
  },
  {
   "cell_type": "markdown",
   "metadata": {},
   "source": [
    "### MySQL"
   ]
  },
  {
   "cell_type": "code",
   "execution_count": null,
   "metadata": {},
   "outputs": [],
   "source": [
    "mysql_index_times = []"
   ]
  },
  {
   "cell_type": "code",
   "execution_count": null,
   "metadata": {},
   "outputs": [],
   "source": [
    "cursor = connection.cursor()\n",
    "cursor.execute(\"CREATE INDEX gender_index ON users (gender);\")\n",
    "cursor.execute(\"CREATE INDEX merchant_state_index ON transactions (merchant_state);\")\n",
    "print(\"\\nIndex on 'gender' and 'merchant_state' created.\")\n",
    "query = q3[\"query\"]\n",
    "# Query with the indexes\n",
    "print(\"\\nQuerying with index (gender = 'Female' and merchant_state):\")\n",
    "start_time = time.time()\n",
    "cursor.execute(query)\n",
    "results = cursor.fetchall()\n",
    "index_time = time.time() - start_time\n",
    "mysql_index_times.append(index_time)\n",
    "print(f\"Number of results: {len(results)}\")\n",
    "print(f\"Query time with index: {index_time:.4f} seconds\")\n",
    "cursor.execute(f\"EXPLAIN ANALYZE {query}\")\n",
    "explain_result_after = cursor.fetchall()\n",
    "print(\"Explain output with index:\")\n",
    "for row in explain_result_after:\n",
    "    print(row)\n",
    "\n",
    "\n",
    "sqlShowIndexes = \"show index from users\"\n",
    "cursor.execute(sqlShowIndexes)\n",
    "indexList = cursor.fetchall()\n",
    "print(indexList)\n",
    "sqlShowIndexes = \"show index from transactions\"\n",
    "cursor.execute(sqlShowIndexes)\n",
    "indexList = cursor.fetchall()\n",
    "print(indexList)\n",
    "\n",
    "cursor.execute(\"DROP INDEX gender_index ON users;\")\n",
    "cursor.execute(\"DROP INDEX merchant_state_index ON transactions;\")"
   ]
  },
  {
   "cell_type": "code",
   "execution_count": null,
   "metadata": {},
   "outputs": [],
   "source": [
    "cursor.execute(\"CREATE INDEX card_on_dark_web_index ON cards (card_on_dark_web);\")\n",
    "cursor.execute(\"CREATE INDEX amount_index ON transactions (amount);\")\n",
    "print(\"\\Index on 'card_on_dark_web' and 'amount' created.\")\n",
    "query = q4[\"query\"]\n",
    "# Query with the index\n",
    "print(\"\\nQuerying with index (card_on_dark_web = '1' and amount >1000):\")\n",
    "start_time = time.time()\n",
    "cursor.execute(query)\n",
    "results = cursor.fetchall()\n",
    "index_time = time.time() - start_time\n",
    "mysql_index_times.append(index_time)\n",
    "print(f\"Number of results: {len(results)}\")\n",
    "print(f\"Query time with index: {index_time:.4f} seconds\")\n",
    "cursor.execute(f\"EXPLAIN ANALYZE {query}\")\n",
    "explain_result_after = cursor.fetchall()\n",
    "print(\"Explain output with index:\")\n",
    "for row in explain_result_after:\n",
    "    print(row)\n",
    "\n",
    "\n",
    "sqlShowIndexes = \"show index from cards\"\n",
    "cursor.execute(sqlShowIndexes)\n",
    "indexList = cursor.fetchall()\n",
    "print(indexList)\n",
    "sqlShowIndexes = \"show index from transactions\"\n",
    "cursor.execute(sqlShowIndexes)\n",
    "indexList = cursor.fetchall()\n",
    "print(indexList)\n",
    "\n",
    "cursor.execute(\"DROP INDEX card_on_dark_web_index ON cards;\")\n",
    "cursor.execute(\"DROP INDEX amount_index ON transactions;\")\n",
    "\n",
    "cursor.close()\n",
    "connection.close()"
   ]
  },
  {
   "cell_type": "markdown",
   "metadata": {},
   "source": [
    "### MongoDB"
   ]
  },
  {
   "cell_type": "code",
   "execution_count": null,
   "metadata": {},
   "outputs": [],
   "source": [
    "mongodb_index_times = []"
   ]
  },
  {
   "cell_type": "code",
   "execution_count": null,
   "metadata": {},
   "outputs": [],
   "source": [
    "def indexes_information(collection):\n",
    "    indexes_info = collection.index_information()\n",
    "    print(indexes_info)\n",
    "indexes_information(users_collection)\n",
    "indexes_information(cards_collection)\n",
    "indexes_information(transactions_collection)"
   ]
  },
  {
   "cell_type": "code",
   "execution_count": null,
   "metadata": {},
   "outputs": [],
   "source": [
    "import pprint\n",
    "# Create an index on 'gender'\n",
    "users_collection.create_index([(\"gender\", ASCENDING)])\n",
    "print(\"\\nIndex on 'gender' created.\")\n",
    "print(users_collection.index_information())\n",
    "# Create an index on 'merchant_state'\n",
    "transactions_collection.create_index([(\"merchant_state\", ASCENDING)])\n",
    "print(\"\\nIndex on 'merchant_state' created.\")\n",
    "print(transactions_collection.index_information())\n",
    "query = mongo_q3\n",
    "# Query with the index\n",
    "print(\"\\nQuerying with index:\")\n",
    "results = list(users_collection.aggregate(query))\n",
    "print(f\"Number of results: {len(results)}\")\n",
    "print(\"\\nTime in millis:\")\n",
    "explain_output = db.command(\n",
    "    'explain',\n",
    "    {\n",
    "    'aggregate': 'users',\n",
    "    'pipeline': query,\n",
    "    'cursor': {}\n",
    "    },\n",
    "    verbosity = 'executionStats'\n",
    "    )\n",
    "pprint.pprint(explain_output[\"stages\"][0][\"$cursor\"][\"executionStats\"][\"executionTimeMillis\"])\n",
    "time_s = explain_output[\"stages\"][0][\"$cursor\"][\"executionStats\"][\"executionTimeMillis\"]\n",
    "mongodb_index_times.append(time_s/1000)\n",
    "# Drop index\n",
    "users_collection.drop_index('gender_1')\n",
    "transactions_collection.drop_index('merchant_state_1')"
   ]
  },
  {
   "cell_type": "code",
   "execution_count": null,
   "metadata": {},
   "outputs": [],
   "source": [
    "# Create an index on 'card_on_dark_web'\n",
    "cards_collection.create_index([(\"card_on_dark_web\", ASCENDING)])\n",
    "print(\"\\nIndex on 'card_on_dark_web' created.\")\n",
    "print(cards_collection.index_information())\n",
    "# Create an index on 'amount'\n",
    "transactions_collection.create_index([(\"amount\", ASCENDING)])\n",
    "print(\"\\nIndex on 'amount' created.\")\n",
    "print(transactions_collection.index_information())\n",
    "query = mongo_q4\n",
    "# Query with the index\n",
    "print(\"\\nQuerying with index:\")\n",
    "results = list(cards_collection.aggregate(query))\n",
    "print(f\"Number of results: {len(results)}\")\n",
    "print(\"\\nTime in millis:\")\n",
    "explain_output = db.command(\n",
    "    'explain',\n",
    "    {\n",
    "    'aggregate': 'users',\n",
    "    'pipeline': query,\n",
    "    'cursor': {}\n",
    "    },\n",
    "    verbosity = 'executionStats'\n",
    "    )\n",
    "pprint.pprint(explain_output[\"stages\"][0][\"$cursor\"][\"executionStats\"][\"executionTimeMillis\"])\n",
    "time_s = explain_output[\"stages\"][0][\"$cursor\"][\"executionStats\"][\"executionTimeMillis\"]\n",
    "mongodb_index_times.append(time_s/1000)\n",
    "# Drop index\n",
    "cards_collection.drop_index('card_on_dark_web_1')\n",
    "transactions_collection.drop_index('amount_1')"
   ]
  },
  {
   "cell_type": "markdown",
   "metadata": {},
   "source": [
    "## Comparison"
   ]
  },
  {
   "cell_type": "code",
   "execution_count": null,
   "metadata": {},
   "outputs": [],
   "source": [
    "data = pd.DataFrame({\n",
    "    'Index': range(len(mysql_index_times)),\n",
    "    'MongoDB': mongo_times[-2:],\n",
    "    'MongoDB after indexing': mongodb_index_times,\n",
    "    'MySQL': mysql_times[-2:],\n",
    "    'MySQL after indexing': mysql_index_times\n",
    "})\n",
    "# Melt the DataFrame to plot later\n",
    "melted_data = pd.melt(data, id_vars=['Index'], var_name='Database', value_name='Time')\n",
    "# Create the barplot\n",
    "plt.figure(figsize=(10, 6))\n",
    "sns.barplot(data=melted_data, x='Index', y='Time', hue='Database', palette='viridis')\n",
    "plt.title('MongoDB vs MySQL Execution Times')\n",
    "plt.ylabel('Time (seconds)')\n",
    "plt.xlabel('Index')\n",
    "plt.yscale('log')  # Use log scale for better visualization of the range\n",
    "plt.legend(title='Database')\n",
    "plt.tight_layout()\n",
    "plt.show()"
   ]
  },
  {
   "cell_type": "markdown",
   "metadata": {},
   "source": [
    "## Optimization"
   ]
  },
  {
   "cell_type": "code",
   "execution_count": null,
   "metadata": {},
   "outputs": [],
   "source": [
    "connection = mysql.connector.connect(\n",
    "  host=MYSQL_CONFIG[\"host\"],\n",
    "  user=MYSQL_CONFIG[\"username\"],\n",
    "  password=MYSQL_CONFIG[\"password\"]\n",
    ")\n",
    "cursor = connection.cursor()\n",
    "cursor.execute(f\"USE {database_name}\")"
   ]
  },
  {
   "cell_type": "code",
   "execution_count": null,
   "metadata": {},
   "outputs": [],
   "source": [
    "optimization_time = []"
   ]
  },
  {
   "cell_type": "code",
   "execution_count": null,
   "metadata": {},
   "outputs": [],
   "source": [
    "cursor.execute(f\"DROP TABLE IF EXISTS state_spending_summary\")\n",
    "cursor.execute('''CREATE TABLE IF NOT EXISTS state_spending_summary (\n",
    "    state VARCHAR(255),\n",
    "    total_spent DECIMAL );'''\n",
    ")\n",
    "\n",
    "st_time = time.time()\n",
    "cursor.execute('''INSERT INTO state_spending_summary (state, total_spent)\n",
    "SELECT T.merchant_state, SUM(T.amount) AS total_spent \n",
    "FROM transactions T\n",
    "JOIN users U ON T.client_id = U.id\n",
    "WHERE U.gender = 'Female'\n",
    "GROUP BY T.merchant_state;\n",
    "''')\n",
    "end_time = time.time()\n",
    "connection.commit()\n",
    "optimization_time.append(end_time - st_time)"
   ]
  },
  {
   "cell_type": "code",
   "execution_count": null,
   "metadata": {},
   "outputs": [],
   "source": [
    "st_time = time.time()\n",
    "pipeline = [\n",
    "    {\n",
    "        \"$lookup\": {\n",
    "            \"from\": \"users\",\n",
    "            \"localField\": \"client_id\",\n",
    "            \"foreignField\": \"id\",\n",
    "            \"as\": \"user_details\"\n",
    "        }\n",
    "    },\n",
    "    {\n",
    "        \"$unwind\": \"$user_details\"\n",
    "    },\n",
    "    {\n",
    "        \"$match\": {\n",
    "            \"user_details.gender\": \"Female\"\n",
    "        }\n",
    "    },\n",
    "    {\n",
    "        \"$group\": {\n",
    "            \"_id\": \"$merchant_state\",\n",
    "            \"total_spent\": {\"$sum\": \"$amount\"}\n",
    "        }\n",
    "    },\n",
    "    {\n",
    "        \"$project\": {\n",
    "            \"state\": \"$_id\",\n",
    "            \"total_spent\": 1,\n",
    "            \"_id\": 0\n",
    "        }\n",
    "    },\n",
    "    {\n",
    "        \"$merge\": {\n",
    "            \"into\": \"state_spending_summary\",\n",
    "            \"whenMatched\": \"merge\",\n",
    "            \"whenNotMatched\": \"insert\"\n",
    "        }\n",
    "    }\n",
    "]\n",
    "\n",
    "transactions_collection.aggregate(pipeline)\n",
    "\n",
    "end_time = time.time()\n",
    "\n",
    "print(end_time - st_time)"
   ]
  },
  {
   "cell_type": "code",
   "execution_count": null,
   "metadata": {},
   "outputs": [],
   "source": [
    "res = db.state_spending_summary.find({})\n",
    "for r in res:\n",
    "    print(r)"
   ]
  },
  {
   "cell_type": "code",
   "execution_count": null,
   "metadata": {},
   "outputs": [],
   "source": [
    "pipeline = [\n",
    "    {\n",
    "        \"$lookup\": {\n",
    "            \"from\": \"transactions\",\n",
    "            \"localField\": \"id\",\n",
    "            \"foreignField\": \"card_id\",\n",
    "            \"as\": \"transactions\"\n",
    "        }\n",
    "    },\n",
    "    {\n",
    "        \"$unwind\": \"$transactions\"\n",
    "    },\n",
    "    {\n",
    "        \"$match\": {\n",
    "            \"card_on_dark_web\": True,\n",
    "            \"transactions.amount\": {\"$gt\": 1000}\n",
    "        }\n",
    "    },\n",
    "    {\n",
    "        \"$set\": {\n",
    "            \"credit_limit\": {\"$multiply\": [\"$credit_limit\", 0.5]}\n",
    "        }\n",
    "    },\n",
    "    {\n",
    "        \"$merge\": {\n",
    "            \"into\": \"cards\",\n",
    "            \"whenMatched\": \"merge\",\n",
    "            \"whenNotMatched\": \"fail\"\n",
    "        }\n",
    "    }\n",
    "]\n",
    "\n",
    "cards_collection.aggregate(pipeline)"
   ]
  },
  {
   "cell_type": "markdown",
   "metadata": {},
   "source": [
    "mongo db optimization problem version 2 "
   ]
  },
  {
   "cell_type": "code",
   "execution_count": null,
   "metadata": {},
   "outputs": [],
   "source": [
    "q3opt = [\n",
    "    {\"$match\": {\"gender\": \"Female\"}},  \n",
    "    \n",
    "    {\"$lookup\": {\n",
    "        \"from\": \"transactions\",\n",
    "        \"localField\": \"id\",\n",
    "        \"foreignField\": \"client_id\",\n",
    "        \"as\": \"user_transactions\"\n",
    "    }},\n",
    "    \n",
    "    {\"$match\": {\"user_transactions\": {\"$ne\": []}}},  \n",
    "    \n",
    "    {\"$unwind\": \"$user_transactions\"},  \n",
    "    \n",
    "    {\"$group\": {\n",
    "        \"_id\": \"$user_transactions.merchant_state\",\n",
    "        \"total_amount\": {\"$sum\": {\"$toDouble\": \"$user_transactions.amount\"}}\n",
    "    }},\n",
    "    \n",
    "    {\"$sort\": {\"total_amount\": -1}},\n",
    "    \n",
    "    {\"$limit\": 100}\n",
    "]\n",
    "\n",
    "\n",
    "users_collection.aggregate(q3opt)"
   ]
  },
  {
   "cell_type": "code",
   "execution_count": null,
   "metadata": {},
   "outputs": [],
   "source": [
    "data"
   ]
  },
  {
   "cell_type": "code",
   "execution_count": null,
   "metadata": {},
   "outputs": [],
   "source": []
  }
 ],
 "metadata": {
  "kernelspec": {
   "display_name": "Python 3 (ipykernel)",
   "language": "python",
   "name": "python3"
  },
  "language_info": {
   "codemirror_mode": {
    "name": "ipython",
    "version": 3
   },
   "file_extension": ".py",
   "mimetype": "text/x-python",
   "name": "python",
   "nbconvert_exporter": "python",
   "pygments_lexer": "ipython3",
   "version": "3.11.9"
  }
 },
 "nbformat": 4,
 "nbformat_minor": 2
}
